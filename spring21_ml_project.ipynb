{
  "nbformat": 4,
  "nbformat_minor": 0,
  "metadata": {
    "kernelspec": {
      "display_name": "Python 3",
      "language": "python",
      "name": "python3"
    },
    "language_info": {
      "codemirror_mode": {
        "name": "ipython",
        "version": 3
      },
      "file_extension": ".py",
      "mimetype": "text/x-python",
      "name": "python",
      "nbconvert_exporter": "python",
      "pygments_lexer": "ipython3",
      "version": "3.6.9"
    },
    "colab": {
      "name": "spring21_ml_project.ipynb",
      "provenance": [],
      "collapsed_sections": [],
      "toc_visible": true
    },
    "widgets": {
      "application/vnd.jupyter.widget-state+json": {
        "0872e1fb9f6c419f923e90e0600e4ae3": {
          "model_module": "@jupyter-widgets/controls",
          "model_name": "HBoxModel",
          "state": {
            "_view_name": "HBoxView",
            "_dom_classes": [],
            "_model_name": "HBoxModel",
            "_view_module": "@jupyter-widgets/controls",
            "_model_module_version": "1.5.0",
            "_view_count": null,
            "_view_module_version": "1.5.0",
            "box_style": "",
            "layout": "IPY_MODEL_45e5c108204143888394c3f6eab1f32a",
            "_model_module": "@jupyter-widgets/controls",
            "children": [
              "IPY_MODEL_c42102acfe37487a9249dbd6446cb3ea",
              "IPY_MODEL_2350d25d77ca46718e64f6c0e0d73bd6"
            ]
          }
        },
        "45e5c108204143888394c3f6eab1f32a": {
          "model_module": "@jupyter-widgets/base",
          "model_name": "LayoutModel",
          "state": {
            "_view_name": "LayoutView",
            "grid_template_rows": null,
            "right": null,
            "justify_content": null,
            "_view_module": "@jupyter-widgets/base",
            "overflow": null,
            "_model_module_version": "1.2.0",
            "_view_count": null,
            "flex_flow": null,
            "width": null,
            "min_width": null,
            "border": null,
            "align_items": null,
            "bottom": null,
            "_model_module": "@jupyter-widgets/base",
            "top": null,
            "grid_column": null,
            "overflow_y": null,
            "overflow_x": null,
            "grid_auto_flow": null,
            "grid_area": null,
            "grid_template_columns": null,
            "flex": null,
            "_model_name": "LayoutModel",
            "justify_items": null,
            "grid_row": null,
            "max_height": null,
            "align_content": null,
            "visibility": null,
            "align_self": null,
            "height": null,
            "min_height": null,
            "padding": null,
            "grid_auto_rows": null,
            "grid_gap": null,
            "max_width": null,
            "order": null,
            "_view_module_version": "1.2.0",
            "grid_template_areas": null,
            "object_position": null,
            "object_fit": null,
            "grid_auto_columns": null,
            "margin": null,
            "display": null,
            "left": null
          }
        },
        "c42102acfe37487a9249dbd6446cb3ea": {
          "model_module": "@jupyter-widgets/controls",
          "model_name": "FloatProgressModel",
          "state": {
            "_view_name": "ProgressView",
            "style": "IPY_MODEL_4a6a094806984ca392f9183cb744aeaa",
            "_dom_classes": [],
            "description": "Downloading: 100%",
            "_model_name": "FloatProgressModel",
            "bar_style": "success",
            "max": 1042301,
            "_view_module": "@jupyter-widgets/controls",
            "_model_module_version": "1.5.0",
            "value": 1042301,
            "_view_count": null,
            "_view_module_version": "1.5.0",
            "orientation": "horizontal",
            "min": 0,
            "description_tooltip": null,
            "_model_module": "@jupyter-widgets/controls",
            "layout": "IPY_MODEL_57aea0b1d4ff4c2ba85948d0c06a6486"
          }
        },
        "2350d25d77ca46718e64f6c0e0d73bd6": {
          "model_module": "@jupyter-widgets/controls",
          "model_name": "HTMLModel",
          "state": {
            "_view_name": "HTMLView",
            "style": "IPY_MODEL_34461819d952498a985d5789c06b7efa",
            "_dom_classes": [],
            "description": "",
            "_model_name": "HTMLModel",
            "placeholder": "​",
            "_view_module": "@jupyter-widgets/controls",
            "_model_module_version": "1.5.0",
            "value": " 1.04M/1.04M [00:02&lt;00:00, 372kB/s]",
            "_view_count": null,
            "_view_module_version": "1.5.0",
            "description_tooltip": null,
            "_model_module": "@jupyter-widgets/controls",
            "layout": "IPY_MODEL_15e9a25ed3fe40a48954ca3acddd0adf"
          }
        },
        "4a6a094806984ca392f9183cb744aeaa": {
          "model_module": "@jupyter-widgets/controls",
          "model_name": "ProgressStyleModel",
          "state": {
            "_view_name": "StyleView",
            "_model_name": "ProgressStyleModel",
            "description_width": "initial",
            "_view_module": "@jupyter-widgets/base",
            "_model_module_version": "1.5.0",
            "_view_count": null,
            "_view_module_version": "1.2.0",
            "bar_color": null,
            "_model_module": "@jupyter-widgets/controls"
          }
        },
        "57aea0b1d4ff4c2ba85948d0c06a6486": {
          "model_module": "@jupyter-widgets/base",
          "model_name": "LayoutModel",
          "state": {
            "_view_name": "LayoutView",
            "grid_template_rows": null,
            "right": null,
            "justify_content": null,
            "_view_module": "@jupyter-widgets/base",
            "overflow": null,
            "_model_module_version": "1.2.0",
            "_view_count": null,
            "flex_flow": null,
            "width": null,
            "min_width": null,
            "border": null,
            "align_items": null,
            "bottom": null,
            "_model_module": "@jupyter-widgets/base",
            "top": null,
            "grid_column": null,
            "overflow_y": null,
            "overflow_x": null,
            "grid_auto_flow": null,
            "grid_area": null,
            "grid_template_columns": null,
            "flex": null,
            "_model_name": "LayoutModel",
            "justify_items": null,
            "grid_row": null,
            "max_height": null,
            "align_content": null,
            "visibility": null,
            "align_self": null,
            "height": null,
            "min_height": null,
            "padding": null,
            "grid_auto_rows": null,
            "grid_gap": null,
            "max_width": null,
            "order": null,
            "_view_module_version": "1.2.0",
            "grid_template_areas": null,
            "object_position": null,
            "object_fit": null,
            "grid_auto_columns": null,
            "margin": null,
            "display": null,
            "left": null
          }
        },
        "34461819d952498a985d5789c06b7efa": {
          "model_module": "@jupyter-widgets/controls",
          "model_name": "DescriptionStyleModel",
          "state": {
            "_view_name": "StyleView",
            "_model_name": "DescriptionStyleModel",
            "description_width": "",
            "_view_module": "@jupyter-widgets/base",
            "_model_module_version": "1.5.0",
            "_view_count": null,
            "_view_module_version": "1.2.0",
            "_model_module": "@jupyter-widgets/controls"
          }
        },
        "15e9a25ed3fe40a48954ca3acddd0adf": {
          "model_module": "@jupyter-widgets/base",
          "model_name": "LayoutModel",
          "state": {
            "_view_name": "LayoutView",
            "grid_template_rows": null,
            "right": null,
            "justify_content": null,
            "_view_module": "@jupyter-widgets/base",
            "overflow": null,
            "_model_module_version": "1.2.0",
            "_view_count": null,
            "flex_flow": null,
            "width": null,
            "min_width": null,
            "border": null,
            "align_items": null,
            "bottom": null,
            "_model_module": "@jupyter-widgets/base",
            "top": null,
            "grid_column": null,
            "overflow_y": null,
            "overflow_x": null,
            "grid_auto_flow": null,
            "grid_area": null,
            "grid_template_columns": null,
            "flex": null,
            "_model_name": "LayoutModel",
            "justify_items": null,
            "grid_row": null,
            "max_height": null,
            "align_content": null,
            "visibility": null,
            "align_self": null,
            "height": null,
            "min_height": null,
            "padding": null,
            "grid_auto_rows": null,
            "grid_gap": null,
            "max_width": null,
            "order": null,
            "_view_module_version": "1.2.0",
            "grid_template_areas": null,
            "object_position": null,
            "object_fit": null,
            "grid_auto_columns": null,
            "margin": null,
            "display": null,
            "left": null
          }
        },
        "979a8086e2274d138d7d13e056884692": {
          "model_module": "@jupyter-widgets/controls",
          "model_name": "HBoxModel",
          "state": {
            "_view_name": "HBoxView",
            "_dom_classes": [],
            "_model_name": "HBoxModel",
            "_view_module": "@jupyter-widgets/controls",
            "_model_module_version": "1.5.0",
            "_view_count": null,
            "_view_module_version": "1.5.0",
            "box_style": "",
            "layout": "IPY_MODEL_06d12fece74a4155ac5ee76160d1c195",
            "_model_module": "@jupyter-widgets/controls",
            "children": [
              "IPY_MODEL_7d2918409a4244dc99800be8dd0d27d2",
              "IPY_MODEL_9c896a7e2d7f4a6e87dbf711974a034c"
            ]
          }
        },
        "06d12fece74a4155ac5ee76160d1c195": {
          "model_module": "@jupyter-widgets/base",
          "model_name": "LayoutModel",
          "state": {
            "_view_name": "LayoutView",
            "grid_template_rows": null,
            "right": null,
            "justify_content": null,
            "_view_module": "@jupyter-widgets/base",
            "overflow": null,
            "_model_module_version": "1.2.0",
            "_view_count": null,
            "flex_flow": null,
            "width": null,
            "min_width": null,
            "border": null,
            "align_items": null,
            "bottom": null,
            "_model_module": "@jupyter-widgets/base",
            "top": null,
            "grid_column": null,
            "overflow_y": null,
            "overflow_x": null,
            "grid_auto_flow": null,
            "grid_area": null,
            "grid_template_columns": null,
            "flex": null,
            "_model_name": "LayoutModel",
            "justify_items": null,
            "grid_row": null,
            "max_height": null,
            "align_content": null,
            "visibility": null,
            "align_self": null,
            "height": null,
            "min_height": null,
            "padding": null,
            "grid_auto_rows": null,
            "grid_gap": null,
            "max_width": null,
            "order": null,
            "_view_module_version": "1.2.0",
            "grid_template_areas": null,
            "object_position": null,
            "object_fit": null,
            "grid_auto_columns": null,
            "margin": null,
            "display": null,
            "left": null
          }
        },
        "7d2918409a4244dc99800be8dd0d27d2": {
          "model_module": "@jupyter-widgets/controls",
          "model_name": "FloatProgressModel",
          "state": {
            "_view_name": "ProgressView",
            "style": "IPY_MODEL_c6464d488baf4710b48134f80c5415e6",
            "_dom_classes": [],
            "description": "Downloading: 100%",
            "_model_name": "FloatProgressModel",
            "bar_style": "success",
            "max": 456318,
            "_view_module": "@jupyter-widgets/controls",
            "_model_module_version": "1.5.0",
            "value": 456318,
            "_view_count": null,
            "_view_module_version": "1.5.0",
            "orientation": "horizontal",
            "min": 0,
            "description_tooltip": null,
            "_model_module": "@jupyter-widgets/controls",
            "layout": "IPY_MODEL_9ac64ad7496e4b1c9a7c33fffb0aa1b6"
          }
        },
        "9c896a7e2d7f4a6e87dbf711974a034c": {
          "model_module": "@jupyter-widgets/controls",
          "model_name": "HTMLModel",
          "state": {
            "_view_name": "HTMLView",
            "style": "IPY_MODEL_01c6305821f64429925885d1fceb1c74",
            "_dom_classes": [],
            "description": "",
            "_model_name": "HTMLModel",
            "placeholder": "​",
            "_view_module": "@jupyter-widgets/controls",
            "_model_module_version": "1.5.0",
            "value": " 456k/456k [00:01&lt;00:00, 249kB/s]",
            "_view_count": null,
            "_view_module_version": "1.5.0",
            "description_tooltip": null,
            "_model_module": "@jupyter-widgets/controls",
            "layout": "IPY_MODEL_33195662a49e4c6db8c3b5d722e7168d"
          }
        },
        "c6464d488baf4710b48134f80c5415e6": {
          "model_module": "@jupyter-widgets/controls",
          "model_name": "ProgressStyleModel",
          "state": {
            "_view_name": "StyleView",
            "_model_name": "ProgressStyleModel",
            "description_width": "initial",
            "_view_module": "@jupyter-widgets/base",
            "_model_module_version": "1.5.0",
            "_view_count": null,
            "_view_module_version": "1.2.0",
            "bar_color": null,
            "_model_module": "@jupyter-widgets/controls"
          }
        },
        "9ac64ad7496e4b1c9a7c33fffb0aa1b6": {
          "model_module": "@jupyter-widgets/base",
          "model_name": "LayoutModel",
          "state": {
            "_view_name": "LayoutView",
            "grid_template_rows": null,
            "right": null,
            "justify_content": null,
            "_view_module": "@jupyter-widgets/base",
            "overflow": null,
            "_model_module_version": "1.2.0",
            "_view_count": null,
            "flex_flow": null,
            "width": null,
            "min_width": null,
            "border": null,
            "align_items": null,
            "bottom": null,
            "_model_module": "@jupyter-widgets/base",
            "top": null,
            "grid_column": null,
            "overflow_y": null,
            "overflow_x": null,
            "grid_auto_flow": null,
            "grid_area": null,
            "grid_template_columns": null,
            "flex": null,
            "_model_name": "LayoutModel",
            "justify_items": null,
            "grid_row": null,
            "max_height": null,
            "align_content": null,
            "visibility": null,
            "align_self": null,
            "height": null,
            "min_height": null,
            "padding": null,
            "grid_auto_rows": null,
            "grid_gap": null,
            "max_width": null,
            "order": null,
            "_view_module_version": "1.2.0",
            "grid_template_areas": null,
            "object_position": null,
            "object_fit": null,
            "grid_auto_columns": null,
            "margin": null,
            "display": null,
            "left": null
          }
        },
        "01c6305821f64429925885d1fceb1c74": {
          "model_module": "@jupyter-widgets/controls",
          "model_name": "DescriptionStyleModel",
          "state": {
            "_view_name": "StyleView",
            "_model_name": "DescriptionStyleModel",
            "description_width": "",
            "_view_module": "@jupyter-widgets/base",
            "_model_module_version": "1.5.0",
            "_view_count": null,
            "_view_module_version": "1.2.0",
            "_model_module": "@jupyter-widgets/controls"
          }
        },
        "33195662a49e4c6db8c3b5d722e7168d": {
          "model_module": "@jupyter-widgets/base",
          "model_name": "LayoutModel",
          "state": {
            "_view_name": "LayoutView",
            "grid_template_rows": null,
            "right": null,
            "justify_content": null,
            "_view_module": "@jupyter-widgets/base",
            "overflow": null,
            "_model_module_version": "1.2.0",
            "_view_count": null,
            "flex_flow": null,
            "width": null,
            "min_width": null,
            "border": null,
            "align_items": null,
            "bottom": null,
            "_model_module": "@jupyter-widgets/base",
            "top": null,
            "grid_column": null,
            "overflow_y": null,
            "overflow_x": null,
            "grid_auto_flow": null,
            "grid_area": null,
            "grid_template_columns": null,
            "flex": null,
            "_model_name": "LayoutModel",
            "justify_items": null,
            "grid_row": null,
            "max_height": null,
            "align_content": null,
            "visibility": null,
            "align_self": null,
            "height": null,
            "min_height": null,
            "padding": null,
            "grid_auto_rows": null,
            "grid_gap": null,
            "max_width": null,
            "order": null,
            "_view_module_version": "1.2.0",
            "grid_template_areas": null,
            "object_position": null,
            "object_fit": null,
            "grid_auto_columns": null,
            "margin": null,
            "display": null,
            "left": null
          }
        },
        "5eb5c8adf87a4ad791e119249b874ed6": {
          "model_module": "@jupyter-widgets/controls",
          "model_name": "HBoxModel",
          "state": {
            "_view_name": "HBoxView",
            "_dom_classes": [],
            "_model_name": "HBoxModel",
            "_view_module": "@jupyter-widgets/controls",
            "_model_module_version": "1.5.0",
            "_view_count": null,
            "_view_module_version": "1.5.0",
            "box_style": "",
            "layout": "IPY_MODEL_a48e59870a52489aada03ad362c7f00c",
            "_model_module": "@jupyter-widgets/controls",
            "children": [
              "IPY_MODEL_9d27f5a6f7404ba3a997304682fbdf57",
              "IPY_MODEL_e97208da2e58424488a30ae634236637"
            ]
          }
        },
        "a48e59870a52489aada03ad362c7f00c": {
          "model_module": "@jupyter-widgets/base",
          "model_name": "LayoutModel",
          "state": {
            "_view_name": "LayoutView",
            "grid_template_rows": null,
            "right": null,
            "justify_content": null,
            "_view_module": "@jupyter-widgets/base",
            "overflow": null,
            "_model_module_version": "1.2.0",
            "_view_count": null,
            "flex_flow": null,
            "width": null,
            "min_width": null,
            "border": null,
            "align_items": null,
            "bottom": null,
            "_model_module": "@jupyter-widgets/base",
            "top": null,
            "grid_column": null,
            "overflow_y": null,
            "overflow_x": null,
            "grid_auto_flow": null,
            "grid_area": null,
            "grid_template_columns": null,
            "flex": null,
            "_model_name": "LayoutModel",
            "justify_items": null,
            "grid_row": null,
            "max_height": null,
            "align_content": null,
            "visibility": null,
            "align_self": null,
            "height": null,
            "min_height": null,
            "padding": null,
            "grid_auto_rows": null,
            "grid_gap": null,
            "max_width": null,
            "order": null,
            "_view_module_version": "1.2.0",
            "grid_template_areas": null,
            "object_position": null,
            "object_fit": null,
            "grid_auto_columns": null,
            "margin": null,
            "display": null,
            "left": null
          }
        },
        "9d27f5a6f7404ba3a997304682fbdf57": {
          "model_module": "@jupyter-widgets/controls",
          "model_name": "FloatProgressModel",
          "state": {
            "_view_name": "ProgressView",
            "style": "IPY_MODEL_de605a7453bf422ab19cf3e4bf4a860f",
            "_dom_classes": [],
            "description": "Downloading: 100%",
            "_model_name": "FloatProgressModel",
            "bar_style": "success",
            "max": 1355256,
            "_view_module": "@jupyter-widgets/controls",
            "_model_module_version": "1.5.0",
            "value": 1355256,
            "_view_count": null,
            "_view_module_version": "1.5.0",
            "orientation": "horizontal",
            "min": 0,
            "description_tooltip": null,
            "_model_module": "@jupyter-widgets/controls",
            "layout": "IPY_MODEL_5e53bb86f4a346bf9dfd4c232a1ff6d0"
          }
        },
        "e97208da2e58424488a30ae634236637": {
          "model_module": "@jupyter-widgets/controls",
          "model_name": "HTMLModel",
          "state": {
            "_view_name": "HTMLView",
            "style": "IPY_MODEL_de75cf82ff4149738ce17579457b8048",
            "_dom_classes": [],
            "description": "",
            "_model_name": "HTMLModel",
            "placeholder": "​",
            "_view_module": "@jupyter-widgets/controls",
            "_model_module_version": "1.5.0",
            "value": " 1.36M/1.36M [00:00&lt;00:00, 2.95MB/s]",
            "_view_count": null,
            "_view_module_version": "1.5.0",
            "description_tooltip": null,
            "_model_module": "@jupyter-widgets/controls",
            "layout": "IPY_MODEL_0105cb222db946f2bb101398ee0a4af3"
          }
        },
        "de605a7453bf422ab19cf3e4bf4a860f": {
          "model_module": "@jupyter-widgets/controls",
          "model_name": "ProgressStyleModel",
          "state": {
            "_view_name": "StyleView",
            "_model_name": "ProgressStyleModel",
            "description_width": "initial",
            "_view_module": "@jupyter-widgets/base",
            "_model_module_version": "1.5.0",
            "_view_count": null,
            "_view_module_version": "1.2.0",
            "bar_color": null,
            "_model_module": "@jupyter-widgets/controls"
          }
        },
        "5e53bb86f4a346bf9dfd4c232a1ff6d0": {
          "model_module": "@jupyter-widgets/base",
          "model_name": "LayoutModel",
          "state": {
            "_view_name": "LayoutView",
            "grid_template_rows": null,
            "right": null,
            "justify_content": null,
            "_view_module": "@jupyter-widgets/base",
            "overflow": null,
            "_model_module_version": "1.2.0",
            "_view_count": null,
            "flex_flow": null,
            "width": null,
            "min_width": null,
            "border": null,
            "align_items": null,
            "bottom": null,
            "_model_module": "@jupyter-widgets/base",
            "top": null,
            "grid_column": null,
            "overflow_y": null,
            "overflow_x": null,
            "grid_auto_flow": null,
            "grid_area": null,
            "grid_template_columns": null,
            "flex": null,
            "_model_name": "LayoutModel",
            "justify_items": null,
            "grid_row": null,
            "max_height": null,
            "align_content": null,
            "visibility": null,
            "align_self": null,
            "height": null,
            "min_height": null,
            "padding": null,
            "grid_auto_rows": null,
            "grid_gap": null,
            "max_width": null,
            "order": null,
            "_view_module_version": "1.2.0",
            "grid_template_areas": null,
            "object_position": null,
            "object_fit": null,
            "grid_auto_columns": null,
            "margin": null,
            "display": null,
            "left": null
          }
        },
        "de75cf82ff4149738ce17579457b8048": {
          "model_module": "@jupyter-widgets/controls",
          "model_name": "DescriptionStyleModel",
          "state": {
            "_view_name": "StyleView",
            "_model_name": "DescriptionStyleModel",
            "description_width": "",
            "_view_module": "@jupyter-widgets/base",
            "_model_module_version": "1.5.0",
            "_view_count": null,
            "_view_module_version": "1.2.0",
            "_model_module": "@jupyter-widgets/controls"
          }
        },
        "0105cb222db946f2bb101398ee0a4af3": {
          "model_module": "@jupyter-widgets/base",
          "model_name": "LayoutModel",
          "state": {
            "_view_name": "LayoutView",
            "grid_template_rows": null,
            "right": null,
            "justify_content": null,
            "_view_module": "@jupyter-widgets/base",
            "overflow": null,
            "_model_module_version": "1.2.0",
            "_view_count": null,
            "flex_flow": null,
            "width": null,
            "min_width": null,
            "border": null,
            "align_items": null,
            "bottom": null,
            "_model_module": "@jupyter-widgets/base",
            "top": null,
            "grid_column": null,
            "overflow_y": null,
            "overflow_x": null,
            "grid_auto_flow": null,
            "grid_area": null,
            "grid_template_columns": null,
            "flex": null,
            "_model_name": "LayoutModel",
            "justify_items": null,
            "grid_row": null,
            "max_height": null,
            "align_content": null,
            "visibility": null,
            "align_self": null,
            "height": null,
            "min_height": null,
            "padding": null,
            "grid_auto_rows": null,
            "grid_gap": null,
            "max_width": null,
            "order": null,
            "_view_module_version": "1.2.0",
            "grid_template_areas": null,
            "object_position": null,
            "object_fit": null,
            "grid_auto_columns": null,
            "margin": null,
            "display": null,
            "left": null
          }
        },
        "8c58aef38b3a4dbe828ab875fa67ffe4": {
          "model_module": "@jupyter-widgets/controls",
          "model_name": "HBoxModel",
          "state": {
            "_view_name": "HBoxView",
            "_dom_classes": [],
            "_model_name": "HBoxModel",
            "_view_module": "@jupyter-widgets/controls",
            "_model_module_version": "1.5.0",
            "_view_count": null,
            "_view_module_version": "1.5.0",
            "box_style": "",
            "layout": "IPY_MODEL_d0b5f453a58e40a7bfff08ac1e0257c0",
            "_model_module": "@jupyter-widgets/controls",
            "children": [
              "IPY_MODEL_242ec027a5a443dcab298857cf521752",
              "IPY_MODEL_7bfd1607def84b4aa32e2a536c3121cf"
            ]
          }
        },
        "d0b5f453a58e40a7bfff08ac1e0257c0": {
          "model_module": "@jupyter-widgets/base",
          "model_name": "LayoutModel",
          "state": {
            "_view_name": "LayoutView",
            "grid_template_rows": null,
            "right": null,
            "justify_content": null,
            "_view_module": "@jupyter-widgets/base",
            "overflow": null,
            "_model_module_version": "1.2.0",
            "_view_count": null,
            "flex_flow": null,
            "width": null,
            "min_width": null,
            "border": null,
            "align_items": null,
            "bottom": null,
            "_model_module": "@jupyter-widgets/base",
            "top": null,
            "grid_column": null,
            "overflow_y": null,
            "overflow_x": null,
            "grid_auto_flow": null,
            "grid_area": null,
            "grid_template_columns": null,
            "flex": null,
            "_model_name": "LayoutModel",
            "justify_items": null,
            "grid_row": null,
            "max_height": null,
            "align_content": null,
            "visibility": null,
            "align_self": null,
            "height": null,
            "min_height": null,
            "padding": null,
            "grid_auto_rows": null,
            "grid_gap": null,
            "max_width": null,
            "order": null,
            "_view_module_version": "1.2.0",
            "grid_template_areas": null,
            "object_position": null,
            "object_fit": null,
            "grid_auto_columns": null,
            "margin": null,
            "display": null,
            "left": null
          }
        },
        "242ec027a5a443dcab298857cf521752": {
          "model_module": "@jupyter-widgets/controls",
          "model_name": "FloatProgressModel",
          "state": {
            "_view_name": "ProgressView",
            "style": "IPY_MODEL_87c0a85213e241c8becb0d3153ec143b",
            "_dom_classes": [],
            "description": "Downloading: 100%",
            "_model_name": "FloatProgressModel",
            "bar_style": "success",
            "max": 665,
            "_view_module": "@jupyter-widgets/controls",
            "_model_module_version": "1.5.0",
            "value": 665,
            "_view_count": null,
            "_view_module_version": "1.5.0",
            "orientation": "horizontal",
            "min": 0,
            "description_tooltip": null,
            "_model_module": "@jupyter-widgets/controls",
            "layout": "IPY_MODEL_baa1d0da4786462087c6c99046032467"
          }
        },
        "7bfd1607def84b4aa32e2a536c3121cf": {
          "model_module": "@jupyter-widgets/controls",
          "model_name": "HTMLModel",
          "state": {
            "_view_name": "HTMLView",
            "style": "IPY_MODEL_f6925dca647d41fda4f37a48e9b11a88",
            "_dom_classes": [],
            "description": "",
            "_model_name": "HTMLModel",
            "placeholder": "​",
            "_view_module": "@jupyter-widgets/controls",
            "_model_module_version": "1.5.0",
            "value": " 665/665 [00:00&lt;00:00, 15.0kB/s]",
            "_view_count": null,
            "_view_module_version": "1.5.0",
            "description_tooltip": null,
            "_model_module": "@jupyter-widgets/controls",
            "layout": "IPY_MODEL_9c81ee9cc8c64263ad58f6e77e847b56"
          }
        },
        "87c0a85213e241c8becb0d3153ec143b": {
          "model_module": "@jupyter-widgets/controls",
          "model_name": "ProgressStyleModel",
          "state": {
            "_view_name": "StyleView",
            "_model_name": "ProgressStyleModel",
            "description_width": "initial",
            "_view_module": "@jupyter-widgets/base",
            "_model_module_version": "1.5.0",
            "_view_count": null,
            "_view_module_version": "1.2.0",
            "bar_color": null,
            "_model_module": "@jupyter-widgets/controls"
          }
        },
        "baa1d0da4786462087c6c99046032467": {
          "model_module": "@jupyter-widgets/base",
          "model_name": "LayoutModel",
          "state": {
            "_view_name": "LayoutView",
            "grid_template_rows": null,
            "right": null,
            "justify_content": null,
            "_view_module": "@jupyter-widgets/base",
            "overflow": null,
            "_model_module_version": "1.2.0",
            "_view_count": null,
            "flex_flow": null,
            "width": null,
            "min_width": null,
            "border": null,
            "align_items": null,
            "bottom": null,
            "_model_module": "@jupyter-widgets/base",
            "top": null,
            "grid_column": null,
            "overflow_y": null,
            "overflow_x": null,
            "grid_auto_flow": null,
            "grid_area": null,
            "grid_template_columns": null,
            "flex": null,
            "_model_name": "LayoutModel",
            "justify_items": null,
            "grid_row": null,
            "max_height": null,
            "align_content": null,
            "visibility": null,
            "align_self": null,
            "height": null,
            "min_height": null,
            "padding": null,
            "grid_auto_rows": null,
            "grid_gap": null,
            "max_width": null,
            "order": null,
            "_view_module_version": "1.2.0",
            "grid_template_areas": null,
            "object_position": null,
            "object_fit": null,
            "grid_auto_columns": null,
            "margin": null,
            "display": null,
            "left": null
          }
        },
        "f6925dca647d41fda4f37a48e9b11a88": {
          "model_module": "@jupyter-widgets/controls",
          "model_name": "DescriptionStyleModel",
          "state": {
            "_view_name": "StyleView",
            "_model_name": "DescriptionStyleModel",
            "description_width": "",
            "_view_module": "@jupyter-widgets/base",
            "_model_module_version": "1.5.0",
            "_view_count": null,
            "_view_module_version": "1.2.0",
            "_model_module": "@jupyter-widgets/controls"
          }
        },
        "9c81ee9cc8c64263ad58f6e77e847b56": {
          "model_module": "@jupyter-widgets/base",
          "model_name": "LayoutModel",
          "state": {
            "_view_name": "LayoutView",
            "grid_template_rows": null,
            "right": null,
            "justify_content": null,
            "_view_module": "@jupyter-widgets/base",
            "overflow": null,
            "_model_module_version": "1.2.0",
            "_view_count": null,
            "flex_flow": null,
            "width": null,
            "min_width": null,
            "border": null,
            "align_items": null,
            "bottom": null,
            "_model_module": "@jupyter-widgets/base",
            "top": null,
            "grid_column": null,
            "overflow_y": null,
            "overflow_x": null,
            "grid_auto_flow": null,
            "grid_area": null,
            "grid_template_columns": null,
            "flex": null,
            "_model_name": "LayoutModel",
            "justify_items": null,
            "grid_row": null,
            "max_height": null,
            "align_content": null,
            "visibility": null,
            "align_self": null,
            "height": null,
            "min_height": null,
            "padding": null,
            "grid_auto_rows": null,
            "grid_gap": null,
            "max_width": null,
            "order": null,
            "_view_module_version": "1.2.0",
            "grid_template_areas": null,
            "object_position": null,
            "object_fit": null,
            "grid_auto_columns": null,
            "margin": null,
            "display": null,
            "left": null
          }
        },
        "8b6d358e17164e0abe35dffe932d172b": {
          "model_module": "@jupyter-widgets/controls",
          "model_name": "HBoxModel",
          "state": {
            "_view_name": "HBoxView",
            "_dom_classes": [],
            "_model_name": "HBoxModel",
            "_view_module": "@jupyter-widgets/controls",
            "_model_module_version": "1.5.0",
            "_view_count": null,
            "_view_module_version": "1.5.0",
            "box_style": "",
            "layout": "IPY_MODEL_6454e431793b4f37a78bfdc17cb7aeab",
            "_model_module": "@jupyter-widgets/controls",
            "children": [
              "IPY_MODEL_9b7fc2e872c947ff8135945029eb6a03",
              "IPY_MODEL_69eaf7f513d849c2b19ccf3357a42b49"
            ]
          }
        },
        "6454e431793b4f37a78bfdc17cb7aeab": {
          "model_module": "@jupyter-widgets/base",
          "model_name": "LayoutModel",
          "state": {
            "_view_name": "LayoutView",
            "grid_template_rows": null,
            "right": null,
            "justify_content": null,
            "_view_module": "@jupyter-widgets/base",
            "overflow": null,
            "_model_module_version": "1.2.0",
            "_view_count": null,
            "flex_flow": null,
            "width": null,
            "min_width": null,
            "border": null,
            "align_items": null,
            "bottom": null,
            "_model_module": "@jupyter-widgets/base",
            "top": null,
            "grid_column": null,
            "overflow_y": null,
            "overflow_x": null,
            "grid_auto_flow": null,
            "grid_area": null,
            "grid_template_columns": null,
            "flex": null,
            "_model_name": "LayoutModel",
            "justify_items": null,
            "grid_row": null,
            "max_height": null,
            "align_content": null,
            "visibility": null,
            "align_self": null,
            "height": null,
            "min_height": null,
            "padding": null,
            "grid_auto_rows": null,
            "grid_gap": null,
            "max_width": null,
            "order": null,
            "_view_module_version": "1.2.0",
            "grid_template_areas": null,
            "object_position": null,
            "object_fit": null,
            "grid_auto_columns": null,
            "margin": null,
            "display": null,
            "left": null
          }
        },
        "9b7fc2e872c947ff8135945029eb6a03": {
          "model_module": "@jupyter-widgets/controls",
          "model_name": "FloatProgressModel",
          "state": {
            "_view_name": "ProgressView",
            "style": "IPY_MODEL_1fdcff28ddb941f18bd54485dca8730d",
            "_dom_classes": [],
            "description": "Downloading: 100%",
            "_model_name": "FloatProgressModel",
            "bar_style": "success",
            "max": 548118077,
            "_view_module": "@jupyter-widgets/controls",
            "_model_module_version": "1.5.0",
            "value": 548118077,
            "_view_count": null,
            "_view_module_version": "1.5.0",
            "orientation": "horizontal",
            "min": 0,
            "description_tooltip": null,
            "_model_module": "@jupyter-widgets/controls",
            "layout": "IPY_MODEL_78404842fa1949a499676d642e13136a"
          }
        },
        "69eaf7f513d849c2b19ccf3357a42b49": {
          "model_module": "@jupyter-widgets/controls",
          "model_name": "HTMLModel",
          "state": {
            "_view_name": "HTMLView",
            "style": "IPY_MODEL_ba47e02e334c4c38901f3d853fb9ff02",
            "_dom_classes": [],
            "description": "",
            "_model_name": "HTMLModel",
            "placeholder": "​",
            "_view_module": "@jupyter-widgets/controls",
            "_model_module_version": "1.5.0",
            "value": " 548M/548M [00:12&lt;00:00, 42.4MB/s]",
            "_view_count": null,
            "_view_module_version": "1.5.0",
            "description_tooltip": null,
            "_model_module": "@jupyter-widgets/controls",
            "layout": "IPY_MODEL_ea7e24228b04403f808656a9d80dcfb2"
          }
        },
        "1fdcff28ddb941f18bd54485dca8730d": {
          "model_module": "@jupyter-widgets/controls",
          "model_name": "ProgressStyleModel",
          "state": {
            "_view_name": "StyleView",
            "_model_name": "ProgressStyleModel",
            "description_width": "initial",
            "_view_module": "@jupyter-widgets/base",
            "_model_module_version": "1.5.0",
            "_view_count": null,
            "_view_module_version": "1.2.0",
            "bar_color": null,
            "_model_module": "@jupyter-widgets/controls"
          }
        },
        "78404842fa1949a499676d642e13136a": {
          "model_module": "@jupyter-widgets/base",
          "model_name": "LayoutModel",
          "state": {
            "_view_name": "LayoutView",
            "grid_template_rows": null,
            "right": null,
            "justify_content": null,
            "_view_module": "@jupyter-widgets/base",
            "overflow": null,
            "_model_module_version": "1.2.0",
            "_view_count": null,
            "flex_flow": null,
            "width": null,
            "min_width": null,
            "border": null,
            "align_items": null,
            "bottom": null,
            "_model_module": "@jupyter-widgets/base",
            "top": null,
            "grid_column": null,
            "overflow_y": null,
            "overflow_x": null,
            "grid_auto_flow": null,
            "grid_area": null,
            "grid_template_columns": null,
            "flex": null,
            "_model_name": "LayoutModel",
            "justify_items": null,
            "grid_row": null,
            "max_height": null,
            "align_content": null,
            "visibility": null,
            "align_self": null,
            "height": null,
            "min_height": null,
            "padding": null,
            "grid_auto_rows": null,
            "grid_gap": null,
            "max_width": null,
            "order": null,
            "_view_module_version": "1.2.0",
            "grid_template_areas": null,
            "object_position": null,
            "object_fit": null,
            "grid_auto_columns": null,
            "margin": null,
            "display": null,
            "left": null
          }
        },
        "ba47e02e334c4c38901f3d853fb9ff02": {
          "model_module": "@jupyter-widgets/controls",
          "model_name": "DescriptionStyleModel",
          "state": {
            "_view_name": "StyleView",
            "_model_name": "DescriptionStyleModel",
            "description_width": "",
            "_view_module": "@jupyter-widgets/base",
            "_model_module_version": "1.5.0",
            "_view_count": null,
            "_view_module_version": "1.2.0",
            "_model_module": "@jupyter-widgets/controls"
          }
        },
        "ea7e24228b04403f808656a9d80dcfb2": {
          "model_module": "@jupyter-widgets/base",
          "model_name": "LayoutModel",
          "state": {
            "_view_name": "LayoutView",
            "grid_template_rows": null,
            "right": null,
            "justify_content": null,
            "_view_module": "@jupyter-widgets/base",
            "overflow": null,
            "_model_module_version": "1.2.0",
            "_view_count": null,
            "flex_flow": null,
            "width": null,
            "min_width": null,
            "border": null,
            "align_items": null,
            "bottom": null,
            "_model_module": "@jupyter-widgets/base",
            "top": null,
            "grid_column": null,
            "overflow_y": null,
            "overflow_x": null,
            "grid_auto_flow": null,
            "grid_area": null,
            "grid_template_columns": null,
            "flex": null,
            "_model_name": "LayoutModel",
            "justify_items": null,
            "grid_row": null,
            "max_height": null,
            "align_content": null,
            "visibility": null,
            "align_self": null,
            "height": null,
            "min_height": null,
            "padding": null,
            "grid_auto_rows": null,
            "grid_gap": null,
            "max_width": null,
            "order": null,
            "_view_module_version": "1.2.0",
            "grid_template_areas": null,
            "object_position": null,
            "object_fit": null,
            "grid_auto_columns": null,
            "margin": null,
            "display": null,
            "left": null
          }
        }
      }
    },
    "accelerator": "GPU"
  },
  "cells": [
    {
      "cell_type": "code",
      "metadata": {
        "colab": {
          "base_uri": "https://localhost:8080/"
        },
        "id": "yrg6J7mxgS_J",
        "outputId": "2809d55a-7c9e-4e7e-d03b-0f39de0bf315"
      },
      "source": [
        "import matplotlib.pyplot as plt\n",
        "import pandas as pd\n",
        "import torch\n",
        "import torch.nn as nn\n",
        "import torch.nn.functional as F\n",
        "import re\n",
        "import matplotlib.pyplot as plt\n",
        "import numpy as np\n",
        "from tqdm import tqdm\n",
        "import nltk\n",
        "nltk.download('punkt')"
      ],
      "execution_count": 35,
      "outputs": [
        {
          "output_type": "stream",
          "text": [
            "[nltk_data] Downloading package punkt to /root/nltk_data...\n",
            "[nltk_data]   Package punkt is already up-to-date!\n"
          ],
          "name": "stdout"
        },
        {
          "output_type": "execute_result",
          "data": {
            "text/plain": [
              "True"
            ]
          },
          "metadata": {
            "tags": []
          },
          "execution_count": 35
        }
      ]
    },
    {
      "cell_type": "code",
      "metadata": {
        "id": "rRoT7SXmgltH"
      },
      "source": [
        "animes = pd.read_csv('anime_dataset.csv')"
      ],
      "execution_count": 6,
      "outputs": []
    },
    {
      "cell_type": "code",
      "metadata": {
        "colab": {
          "base_uri": "https://localhost:8080/"
        },
        "id": "dUUAMeGpl7LN",
        "outputId": "79fb5966-19b2-4910-c813-a74c1ee88212"
      },
      "source": [
        "print(len(animes.synopsis))"
      ],
      "execution_count": 15,
      "outputs": [
        {
          "output_type": "stream",
          "text": [
            "19311\n"
          ],
          "name": "stdout"
        }
      ]
    },
    {
      "cell_type": "code",
      "metadata": {
        "id": "WY-VOR_bgqCl"
      },
      "source": [
        "genres = animes.iloc[0]['genre'].replace(\"'\", \",\").replace(\"[\", \"\").replace(\"]\", \"\").replace(\", \", \"\").split(',,')\n",
        "genres = set([x.replace(\",\", \"\") for x in genres])\n",
        "for i in range(1, len(animes)):\n",
        "    g = animes.iloc[i]['genre'].replace(\"'\", \",\").replace(\"[\", \"\").replace(\"]\", \"\").replace(\", \", \"\").split(',,')\n",
        "    g = [x.replace(\",\", \"\") for x in g]\n",
        "    genres = genres.union(set(g))\n",
        "genres.remove('')"
      ],
      "execution_count": 7,
      "outputs": []
    },
    {
      "cell_type": "code",
      "metadata": {
        "colab": {
          "base_uri": "https://localhost:8080/"
        },
        "id": "beuXhaxfgzYf",
        "outputId": "8808c773-1077-4a93-c0a7-791f5d6cfa10"
      },
      "source": [
        "print('Number of genres are', len(genres))"
      ],
      "execution_count": 8,
      "outputs": [
        {
          "output_type": "stream",
          "text": [
            "Number of genres are 43\n"
          ],
          "name": "stdout"
        }
      ]
    },
    {
      "cell_type": "code",
      "metadata": {
        "id": "SLOWucgDgaH2"
      },
      "source": [
        "def delete_reference(text):\n",
        "    new_text = text\n",
        "    if '[Written ' in new_text:\n",
        "        new_text,_,_ = new_text.partition('[Written')\n",
        "    if '(Source:' in text:\n",
        "        new_text,_,_ = new_text.partition('(Source:')\n",
        "    return new_text"
      ],
      "execution_count": 9,
      "outputs": []
    },
    {
      "cell_type": "code",
      "metadata": {
        "colab": {
          "base_uri": "https://localhost:8080/",
          "height": 86
        },
        "id": "XojA_MiQk8iG",
        "outputId": "7f1bef55-0f95-4b23-d043-d6936a268082"
      },
      "source": [
        "animes.synopsis[1005]"
      ],
      "execution_count": 10,
      "outputs": [
        {
          "output_type": "execute_result",
          "data": {
            "application/vnd.google.colaboratory.intrinsic+json": {
              "type": "string"
            },
            "text/plain": [
              "'In 19th-century London, class lines are sharply drawn, and the social standing to which people are born dictates the path their lives will follow. Emma, an honest and hardworking young maid, never felt her place in life to be a burden. But then she met William, a member of the gentry and the eldest son of a wealthy family. His warm smile and earnest affection threaten to capture her heart... but can love truly conquer all? \\r\\n \\r\\n(Source: RightStuf)'"
            ]
          },
          "metadata": {
            "tags": []
          },
          "execution_count": 10
        }
      ]
    },
    {
      "cell_type": "code",
      "metadata": {
        "id": "A1H__B5Wk8al"
      },
      "source": [
        "data = animes[animes['synopsis'].notna()]\n",
        "synopsis = data.synopsis\n",
        "\n",
        "synopsis = synopsis.apply(lambda x: delete_reference(x))\n",
        "\n",
        "rx = re.compile('[&#/@`)(;<=\\'\"$%>]')\n",
        "synopsis = synopsis.apply(lambda x: rx.sub('',x))\n",
        "synopsis = synopsis.apply(lambda x: x.replace('>',\"\"))\n",
        "synopsis = synopsis.apply(lambda x: x.replace('`',\"\"))\n",
        "synopsis = synopsis.apply(lambda x: x.replace(')',\"\"))\n",
        "synopsis = synopsis.apply(lambda x: x.replace('(',\"\"))\n",
        "synopsis = synopsis.apply(lambda x: x.replace('[',\"\"))\n",
        "synopsis = synopsis.apply(lambda x: x.replace(']',\"\"))\n",
        "    \n",
        "synopsis.reset_index(drop=True)"
      ],
      "execution_count": 11,
      "outputs": []
    },
    {
      "cell_type": "code",
      "metadata": {
        "colab": {
          "base_uri": "https://localhost:8080/",
          "height": 553
        },
        "id": "DG0tLclblKUr",
        "outputId": "7b59aa0f-822f-4fbd-a3db-7555d52d9bd1"
      },
      "source": [
        "max_length = max(map(len, synopsis))\n",
        "min_length = min(map(len, synopsis))\n",
        "print(\"max length\", max_length)\n",
        "print(\"min length\", min_length)\n",
        "\n",
        "plt.title('Sequence length distribution')\n",
        "plt.hist(list(map(len, synopsis)), bins=30)"
      ],
      "execution_count": 13,
      "outputs": [
        {
          "output_type": "stream",
          "text": [
            "max length 2730\n",
            "min length 1\n"
          ],
          "name": "stdout"
        },
        {
          "output_type": "execute_result",
          "data": {
            "text/plain": [
              "(array([3.828e+03, 2.729e+03, 1.863e+03, 1.845e+03, 1.544e+03, 1.240e+03,\n",
              "        1.082e+03, 8.100e+02, 7.110e+02, 7.140e+02, 6.730e+02, 5.060e+02,\n",
              "        3.220e+02, 2.060e+02, 1.080e+02, 4.500e+01, 4.200e+01, 1.500e+01,\n",
              "        1.800e+01, 8.000e+00, 6.000e+00, 5.000e+00, 4.000e+00, 3.000e+00,\n",
              "        2.000e+00, 1.000e+00, 3.000e+00, 0.000e+00, 2.000e+00, 1.000e+00]),\n",
              " array([1.00000000e+00, 9.19666667e+01, 1.82933333e+02, 2.73900000e+02,\n",
              "        3.64866667e+02, 4.55833333e+02, 5.46800000e+02, 6.37766667e+02,\n",
              "        7.28733333e+02, 8.19700000e+02, 9.10666667e+02, 1.00163333e+03,\n",
              "        1.09260000e+03, 1.18356667e+03, 1.27453333e+03, 1.36550000e+03,\n",
              "        1.45646667e+03, 1.54743333e+03, 1.63840000e+03, 1.72936667e+03,\n",
              "        1.82033333e+03, 1.91130000e+03, 2.00226667e+03, 2.09323333e+03,\n",
              "        2.18420000e+03, 2.27516667e+03, 2.36613333e+03, 2.45710000e+03,\n",
              "        2.54806667e+03, 2.63903333e+03, 2.73000000e+03]),\n",
              " <a list of 30 Patch objects>)"
            ]
          },
          "metadata": {
            "tags": []
          },
          "execution_count": 13
        },
        {
          "output_type": "display_data",
          "data": {
            "image/png": "[encoded data removed]",
            "text/plain": [
              "<Figure size 432x288 with 1 Axes>"
            ]
          },
          "metadata": {
            "tags": [],
            "needs_background": "light"
          }
        }
      ]
    },
    {
      "cell_type": "markdown",
      "metadata": {
        "id": "-P5muiQelqQD"
      },
      "source": [
        "### LSTM"
      ]
    },
    {
      "cell_type": "code",
      "metadata": {
        "id": "YQrFAZUGloZo"
      },
      "source": [
        "data = pd.read_csv('anime_dataset.csv',index_col=0)\n",
        "synopsis = data.synopsis"
      ],
      "execution_count": 17,
      "outputs": []
    },
    {
      "cell_type": "code",
      "metadata": {
        "id": "KSkbaA9rmKtB"
      },
      "source": [
        "def clean_description(data):\n",
        "    \n",
        "    data = data[data['synopsis'].notna()]\n",
        "    synopsis = data.synopsis\n",
        "    \n",
        "    synopsis = synopsis.apply(lambda x: delete_reference(x))\n",
        "    synopsis = synopsis.apply(lambda x: x if ((len(str(x).strip().split())<=400) and len(str(x).strip().split())>30  ) else -1)\n",
        "    synopsis = synopsis[synopsis!=-1]\n",
        "    \n",
        "    rx = re.compile('[&#/@`)(;<=\\'\"$%>]')\n",
        "    synopsis = synopsis.apply(lambda x: rx.sub('',x))\n",
        "    synopsis = synopsis.apply(lambda x: x.replace('>',\"\"))\n",
        "    synopsis = synopsis.apply(lambda x: x.replace('`',\"\"))\n",
        "    synopsis = synopsis.apply(lambda x: x.replace(')',\"\"))\n",
        "    synopsis = synopsis.apply(lambda x: x.replace('(',\"\"))\n",
        "    synopsis = synopsis.apply(lambda x: x.replace('[',\"\"))\n",
        "    synopsis = synopsis.apply(lambda x: x.replace(']',\"\"))\n",
        "    \n",
        "    return synopsis.reset_index(drop=True)"
      ],
      "execution_count": 21,
      "outputs": []
    },
    {
      "cell_type": "code",
      "metadata": {
        "id": "BWTOOEnumKqK"
      },
      "source": [
        "class config:    \n",
        "    tokenizer = nltk.word_tokenize    \n",
        "    batch_size = 32\n",
        "    seq_len = 30\n",
        "    emb_dim = 100\n",
        "    epochs = 15\n",
        "    hidden_dim = 512\n",
        "    model_path = 'lstm.bin'"
      ],
      "execution_count": 22,
      "outputs": []
    },
    {
      "cell_type": "code",
      "metadata": {
        "id": "VvUmkToVmvPH"
      },
      "source": [
        "def create_dataset(synopsis,batch_size,seq_len):\n",
        "    np.random.seed(0)\n",
        "    synopsis = synopsis.apply(lambda x: str(x).lower()).values\n",
        "    synopsis_text = ' '.join(synopsis)\n",
        "    \n",
        "    \n",
        "    tokens = config.tokenizer(synopsis_text)\n",
        "    global num_batches\n",
        "    num_batches = int(len(tokens)/(seq_len*batch_size))\n",
        "    tokens = tokens[:num_batches*batch_size*seq_len]\n",
        "    \n",
        "    words = sorted(set(tokens))        \n",
        "    w2i = {w:i for i,w in enumerate(words)}\n",
        "    i2w = {i:w for i,w in enumerate(words)}\n",
        "    \n",
        "    tokens = [w2i[tok] for tok in tokens]\n",
        "    target = np.zeros_like((tokens))\n",
        "    target[:-1] = tokens[1:]\n",
        "    target[-1] = tokens[0]\n",
        "    \n",
        "    input_tok = np.reshape(tokens,(batch_size,-1))\n",
        "    target_tok = np.reshape(target,(batch_size,-1))\n",
        "    \n",
        "    print(input_tok.shape)\n",
        "    print(target_tok.shape)\n",
        "    \n",
        "    vocab_size = len(i2w)\n",
        "    return input_tok,target_tok,vocab_size,w2i,i2w\n",
        "\n",
        "def create_batches(input_tok,target_tok,batch_size,seq_len):\n",
        "    \n",
        "    num_batches = np.prod(input_tok.shape)//(batch_size*seq_len)\n",
        "    \n",
        "    for i in range(0,num_batches*seq_len,seq_len):\n",
        "        yield input_tok[:,i:i+seq_len], target_tok[:,i:i+seq_len]"
      ],
      "execution_count": 23,
      "outputs": []
    },
    {
      "cell_type": "code",
      "metadata": {
        "id": "z2OVjCSdmz1Z"
      },
      "source": [
        "class LSTM(nn.Module):    \n",
        "    def __init__(self,hid_dim,emb_dim,vocab_size,num_layers=1):\n",
        "        super(LSTM,self).__init__()\n",
        "        self.hid_dim = hid_dim\n",
        "        self.emb_dim = emb_dim\n",
        "        self.num_layers = num_layers\n",
        "        self.vocab_size = vocab_size+1\n",
        "        self.embedding = nn.Embedding(self.vocab_size,self.emb_dim)\n",
        "        self.lstm = nn.LSTM(self.emb_dim,self.hid_dim,batch_first = True,num_layers = self.num_layers)\n",
        "        self.drop = nn.Dropout(0.3)\n",
        "        self.linear = nn.Linear(self.hid_dim,vocab_size) \n",
        "        \n",
        "    def forward(self,x,prev_hid):\n",
        "        x = self.embedding(x)\n",
        "        x,hid = self.lstm(x,prev_hid)\n",
        "        x = self.drop(x)\n",
        "        x = self.linear(x)\n",
        "        return x,hid\n",
        "    \n",
        "    def zero_state(self,batch_size):\n",
        "        return (torch.zeros(self.num_layers,batch_size,self.hid_dim),torch.zeros(self.num_layers,batch_size,self.hid_dim))"
      ],
      "execution_count": 24,
      "outputs": []
    },
    {
      "cell_type": "code",
      "metadata": {
        "id": "njp0DHt6m8Mx"
      },
      "source": [
        "class Loss:\n",
        "    def __init__(self):\n",
        "        self.reset()\n",
        "\n",
        "    def reset(self):\n",
        "        self.val = 0\n",
        "        self.avg = 0\n",
        "        self.sum = 0\n",
        "        self.count = 0\n",
        "\n",
        "    def update(self, val, n=1):\n",
        "        self.val = val\n",
        "        self.sum += val * n\n",
        "        self.count += n\n",
        "        self.avg = self.sum / self.count"
      ],
      "execution_count": 25,
      "outputs": []
    },
    {
      "cell_type": "code",
      "metadata": {
        "id": "Z3tQTvCKmwUV"
      },
      "source": [
        "def loss_fn(predicted,target):\n",
        "    loss = nn.CrossEntropyLoss()\n",
        "    return loss(predicted,target)"
      ],
      "execution_count": 26,
      "outputs": []
    },
    {
      "cell_type": "code",
      "metadata": {
        "id": "KPjDU1MGmKn1"
      },
      "source": [
        "def train(model,device,dataloader,optimizer):\n",
        "    model.train()\n",
        "    tk0 = tqdm(dataloader,position=0,leave=True,total = num_batches)\n",
        "    train_loss = Loss()  \n",
        "    hid_state,cell_state = model.zero_state(config.batch_size)\n",
        "    hid_state = hid_state.to(device)\n",
        "    cell_state = cell_state.to(device)\n",
        "    losses = []\n",
        "    for inp,target in tk0:\n",
        "                \n",
        "        inp = torch.tensor(inp,dtype=torch.long).to(device)\n",
        "        target = torch.tensor(target,dtype=torch.long).to(device)\n",
        "\n",
        "        optimizer.zero_grad()        \n",
        "        pred,(hid_state,cell_state) = model(inp,(hid_state,cell_state))\n",
        "        \n",
        "        loss = loss_fn(pred.transpose(1,2),target)\n",
        "        \n",
        "        hid_state = hid_state.detach()\n",
        "        cell_state = cell_state.detach()\n",
        "        \n",
        "        loss.backward()\n",
        "\n",
        "        _ = torch.nn.utils.clip_grad_norm_(model.parameters(),max_norm=2)\n",
        "        optimizer.step()\n",
        "        \n",
        "        train_loss.update(loss.detach().item())\n",
        "        tk0.set_postfix(loss = train_loss.avg)\n",
        "        losses.append(loss.detach().item())\n",
        "    return np.mean(losses)"
      ],
      "execution_count": 27,
      "outputs": []
    },
    {
      "cell_type": "code",
      "metadata": {
        "id": "0E2sNRrNnkxn"
      },
      "source": [
        "cleaned_synopsis = clean_description(data)"
      ],
      "execution_count": 29,
      "outputs": []
    },
    {
      "cell_type": "code",
      "metadata": {
        "colab": {
          "base_uri": "https://localhost:8080/"
        },
        "id": "VoxIiC7znBIh",
        "outputId": "3146e10f-7962-48d4-be8c-fd1135f2baed"
      },
      "source": [
        "input_tok,target_tok,vocab_size,w2i,i2w = create_dataset(cleaned_synopsis,batch_size=config.batch_size,seq_len=config.seq_len)"
      ],
      "execution_count": 32,
      "outputs": [
        {
          "output_type": "stream",
          "text": [
            "(32, 32220)\n",
            "(32, 32220)\n"
          ],
          "name": "stdout"
        }
      ]
    },
    {
      "cell_type": "code",
      "metadata": {
        "id": "1m7am4qfnBAW"
      },
      "source": [
        "def run():\n",
        "    device = 'cuda'\n",
        "    model = LSTM(vocab_size=vocab_size,emb_dim=config.emb_dim,hid_dim=config.hidden_dim,num_layers=3).to(device)\n",
        "    optimizer = torch.optim.Adam(model.parameters(),lr=0.001)\n",
        "    scheduler = torch.optim.lr_scheduler.ReduceLROnPlateau(optimizer=optimizer, mode = 'min', patience=2, verbose=True, factor=0.5)\n",
        "    epochs = config.epochs\n",
        "    \n",
        "    best_loss = 1000\n",
        "    for i in range(1,epochs+1):\n",
        "        train_dataloader = create_batches(batch_size=config.batch_size,input_tok=input_tok,seq_len=config.seq_len,target_tok=target_tok)\n",
        "        print('Epoch..',i)\n",
        "        loss = train(model,device,train_dataloader,optimizer)\n",
        "        if loss<best_loss:\n",
        "            best_loss = loss\n",
        "            torch.save(model.state_dict(),config.model_path)\n",
        "        scheduler.step(loss)\n",
        "        torch.cuda.empty_cache()\n",
        "    return model"
      ],
      "execution_count": 33,
      "outputs": []
    },
    {
      "cell_type": "code",
      "metadata": {
        "colab": {
          "base_uri": "https://localhost:8080/"
        },
        "id": "l-xmuxfgnJ8u",
        "outputId": "802fc2ce-d6fc-4fd6-ca77-a0f3fc5d0dac"
      },
      "source": [
        "model = run()"
      ],
      "execution_count": 36,
      "outputs": [
        {
          "output_type": "stream",
          "text": [
            "\r  0%|          | 0/1074 [00:00<?, ?it/s]"
          ],
          "name": "stderr"
        },
        {
          "output_type": "stream",
          "text": [
            "Epoch.. 1\n"
          ],
          "name": "stdout"
        },
        {
          "output_type": "stream",
          "text": [
            "100%|██████████| 1074/1074 [06:03<00:00,  2.95it/s, loss=7.33]\n",
            "  0%|          | 0/1074 [00:00<?, ?it/s]"
          ],
          "name": "stderr"
        },
        {
          "output_type": "stream",
          "text": [
            "Epoch.. 2\n"
          ],
          "name": "stdout"
        },
        {
          "output_type": "stream",
          "text": [
            "100%|██████████| 1074/1074 [06:05<00:00,  2.94it/s, loss=7.34]\n",
            "  0%|          | 0/1074 [00:00<?, ?it/s]"
          ],
          "name": "stderr"
        },
        {
          "output_type": "stream",
          "text": [
            "Epoch.. 3\n"
          ],
          "name": "stdout"
        },
        {
          "output_type": "stream",
          "text": [
            "100%|██████████| 1074/1074 [06:05<00:00,  2.94it/s, loss=7.4]\n",
            "  0%|          | 0/1074 [00:00<?, ?it/s]"
          ],
          "name": "stderr"
        },
        {
          "output_type": "stream",
          "text": [
            "Epoch.. 4\n"
          ],
          "name": "stdout"
        },
        {
          "output_type": "stream",
          "text": [
            "100%|██████████| 1074/1074 [06:04<00:00,  2.94it/s, loss=7.44]\n",
            "  0%|          | 0/1074 [00:00<?, ?it/s]"
          ],
          "name": "stderr"
        },
        {
          "output_type": "stream",
          "text": [
            "Epoch     4: reducing learning rate of group 0 to 5.0000e-04.\n",
            "Epoch.. 5\n"
          ],
          "name": "stdout"
        },
        {
          "output_type": "stream",
          "text": [
            "100%|██████████| 1074/1074 [06:04<00:00,  2.94it/s, loss=7.36]\n",
            "  0%|          | 0/1074 [00:00<?, ?it/s]"
          ],
          "name": "stderr"
        },
        {
          "output_type": "stream",
          "text": [
            "Epoch.. 6\n"
          ],
          "name": "stdout"
        },
        {
          "output_type": "stream",
          "text": [
            "100%|██████████| 1074/1074 [06:05<00:00,  2.94it/s, loss=7.1]\n",
            "  0%|          | 0/1074 [00:00<?, ?it/s]"
          ],
          "name": "stderr"
        },
        {
          "output_type": "stream",
          "text": [
            "Epoch.. 7\n"
          ],
          "name": "stdout"
        },
        {
          "output_type": "stream",
          "text": [
            "100%|██████████| 1074/1074 [06:05<00:00,  2.94it/s, loss=6.47]\n",
            "  0%|          | 0/1074 [00:00<?, ?it/s]"
          ],
          "name": "stderr"
        },
        {
          "output_type": "stream",
          "text": [
            "Epoch.. 8\n"
          ],
          "name": "stdout"
        },
        {
          "output_type": "stream",
          "text": [
            "100%|██████████| 1074/1074 [06:05<00:00,  2.94it/s, loss=6.13]\n",
            "  0%|          | 0/1074 [00:00<?, ?it/s]"
          ],
          "name": "stderr"
        },
        {
          "output_type": "stream",
          "text": [
            "Epoch.. 9\n"
          ],
          "name": "stdout"
        },
        {
          "output_type": "stream",
          "text": [
            "100%|██████████| 1074/1074 [06:05<00:00,  2.94it/s, loss=5.93]\n",
            "  0%|          | 0/1074 [00:00<?, ?it/s]"
          ],
          "name": "stderr"
        },
        {
          "output_type": "stream",
          "text": [
            "Epoch.. 10\n"
          ],
          "name": "stdout"
        },
        {
          "output_type": "stream",
          "text": [
            "100%|██████████| 1074/1074 [06:05<00:00,  2.94it/s, loss=5.77]\n",
            "  0%|          | 0/1074 [00:00<?, ?it/s]"
          ],
          "name": "stderr"
        },
        {
          "output_type": "stream",
          "text": [
            "Epoch.. 11\n"
          ],
          "name": "stdout"
        },
        {
          "output_type": "stream",
          "text": [
            "100%|██████████| 1074/1074 [06:05<00:00,  2.94it/s, loss=5.63]\n",
            "  0%|          | 0/1074 [00:00<?, ?it/s]"
          ],
          "name": "stderr"
        },
        {
          "output_type": "stream",
          "text": [
            "Epoch.. 12\n"
          ],
          "name": "stdout"
        },
        {
          "output_type": "stream",
          "text": [
            "100%|██████████| 1074/1074 [06:05<00:00,  2.94it/s, loss=5.5]\n",
            "  0%|          | 0/1074 [00:00<?, ?it/s]"
          ],
          "name": "stderr"
        },
        {
          "output_type": "stream",
          "text": [
            "Epoch.. 13\n"
          ],
          "name": "stdout"
        },
        {
          "output_type": "stream",
          "text": [
            "100%|██████████| 1074/1074 [06:05<00:00,  2.94it/s, loss=5.39]\n",
            "  0%|          | 0/1074 [00:00<?, ?it/s]"
          ],
          "name": "stderr"
        },
        {
          "output_type": "stream",
          "text": [
            "Epoch.. 14\n"
          ],
          "name": "stdout"
        },
        {
          "output_type": "stream",
          "text": [
            "100%|██████████| 1074/1074 [06:05<00:00,  2.94it/s, loss=5.29]\n",
            "  0%|          | 0/1074 [00:00<?, ?it/s]"
          ],
          "name": "stderr"
        },
        {
          "output_type": "stream",
          "text": [
            "Epoch.. 15\n"
          ],
          "name": "stdout"
        },
        {
          "output_type": "stream",
          "text": [
            "100%|██████████| 1074/1074 [06:05<00:00,  2.94it/s, loss=5.19]\n"
          ],
          "name": "stderr"
        }
      ]
    },
    {
      "cell_type": "code",
      "metadata": {
        "id": "3LsDVupAnL4t"
      },
      "source": [
        "def generate_text(model,input_text,device,top_k=5,length = 100):\n",
        "    output = ''\n",
        "    model.eval()\n",
        "    tokens = config.tokenizer(input_text)\n",
        "        \n",
        "    h,c = model.zero_state(1)\n",
        "    h = h.to(device)\n",
        "    c = c.to(device)\n",
        "    \n",
        "    for t in tokens:\n",
        "        output = output+t+' '\n",
        "        pred,(h,c) = model(torch.tensor(w2i[t.lower()]).view(1,-1).to(device),(h,c))\n",
        "\n",
        "    for i in range(length):\n",
        "        _,top_ix = torch.topk(pred[0],k = top_k)\n",
        "               \n",
        "        choices = top_ix[0].tolist()                \n",
        "        choice = np.random.choice(choices)\n",
        "        out = i2w[choice]\n",
        "        output = output + out + ' '\n",
        "        pred,(h,c) "
      ],
      "execution_count": 37,
      "outputs": []
    },
    {
      "cell_type": "code",
      "metadata": {
        "colab": {
          "base_uri": "https://localhost:8080/"
        },
        "id": "WLdxblsYnJz3",
        "outputId": "725e305e-065e-40e7-fe3a-ab37997bf7ef"
      },
      "source": [
        "device = 'cpu'\n",
        "mod = LSTM(emb_dim=config.emb_dim,hid_dim=config.hidden_dim,vocab_size=vocab_size,num_layers=3).to(device)\n",
        "mod.load_state_dict(torch.load(config.model_path))"
      ],
      "execution_count": 38,
      "outputs": [
        {
          "output_type": "execute_result",
          "data": {
            "text/plain": [
              "<All keys matched successfully>"
            ]
          },
          "metadata": {
            "tags": []
          },
          "execution_count": 38
        }
      ]
    },
    {
      "cell_type": "code",
      "metadata": {
        "colab": {
          "base_uri": "https://localhost:8080/"
        },
        "id": "puL1qAF4tV_-",
        "outputId": "cd89f733-47e1-4d02-ad80-41123c69eaf4"
      },
      "source": [
        "print(generate_text(model = mod, input_text = 'People believe', top_k = 30, length = 100, device = device))"
      ],
      "execution_count": 41,
      "outputs": [
        {
          "output_type": "stream",
          "text": [
            "People believe that people have these problems. And if I really do nothing. Because she never has to overcome Jusuke's limits to have a home without it in the world. In the hospital, she builds him himself with the help of the devil and the slaughter. A member and an idol team who can do anything, but they enter his world. If it's left, I won't wait any longer!\n"
          ],
          "name": "stdout"
        }
      ]
    },
    {
      "cell_type": "markdown",
      "metadata": {
        "id": "SCp3jF7zmLGv"
      },
      "source": [
        "### Transformers"
      ]
    },
    {
      "cell_type": "code",
      "metadata": {
        "colab": {
          "base_uri": "https://localhost:8080/"
        },
        "id": "9yGu1_0CStby",
        "outputId": "121294b8-5d74-4829-ff1b-9bdb821fd221"
      },
      "source": [
        "!pip install transformers"
      ],
      "execution_count": 14,
      "outputs": [
        {
          "output_type": "stream",
          "text": [
            "Collecting transformers\n",
            "\u001b[?25l  Downloading https://files.pythonhosted.org/packages/b0/9e/5b80becd952d5f7250eaf8fc64b957077b12ccfe73e9c03d37146ab29712/transformers-4.6.0-py3-none-any.whl (2.3MB)\n",
            "\u001b[K     |████████████████████████████████| 2.3MB 4.3MB/s \n",
            "\u001b[?25hRequirement already satisfied: regex!=2019.12.17 in /usr/local/lib/python3.7/dist-packages (from transformers) (2019.12.20)\n",
            "Requirement already satisfied: packaging in /usr/local/lib/python3.7/dist-packages (from transformers) (20.9)\n",
            "Requirement already satisfied: numpy>=1.17 in /usr/local/lib/python3.7/dist-packages (from transformers) (1.19.5)\n",
            "Collecting huggingface-hub==0.0.8\n",
            "  Downloading https://files.pythonhosted.org/packages/a1/88/7b1e45720ecf59c6c6737ff332f41c955963090a18e72acbcbeac6b25e86/huggingface_hub-0.0.8-py3-none-any.whl\n",
            "Collecting tokenizers<0.11,>=0.10.1\n",
            "\u001b[?25l  Downloading https://files.pythonhosted.org/packages/ae/04/5b870f26a858552025a62f1649c20d29d2672c02ff3c3fb4c688ca46467a/tokenizers-0.10.2-cp37-cp37m-manylinux2010_x86_64.whl (3.3MB)\n",
            "\u001b[K     |████████████████████████████████| 3.3MB 39.5MB/s \n",
            "\u001b[?25hRequirement already satisfied: filelock in /usr/local/lib/python3.7/dist-packages (from transformers) (3.0.12)\n",
            "Requirement already satisfied: tqdm>=4.27 in /usr/local/lib/python3.7/dist-packages (from transformers) (4.41.1)\n",
            "Requirement already satisfied: importlib-metadata; python_version < \"3.8\" in /usr/local/lib/python3.7/dist-packages (from transformers) (4.0.1)\n",
            "Collecting sacremoses\n",
            "\u001b[?25l  Downloading https://files.pythonhosted.org/packages/75/ee/67241dc87f266093c533a2d4d3d69438e57d7a90abb216fa076e7d475d4a/sacremoses-0.0.45-py3-none-any.whl (895kB)\n",
            "\u001b[K     |████████████████████████████████| 901kB 38.7MB/s \n",
            "\u001b[?25hRequirement already satisfied: requests in /usr/local/lib/python3.7/dist-packages (from transformers) (2.23.0)\n",
            "Requirement already satisfied: pyparsing>=2.0.2 in /usr/local/lib/python3.7/dist-packages (from packaging->transformers) (2.4.7)\n",
            "Requirement already satisfied: typing-extensions>=3.6.4; python_version < \"3.8\" in /usr/local/lib/python3.7/dist-packages (from importlib-metadata; python_version < \"3.8\"->transformers) (3.7.4.3)\n",
            "Requirement already satisfied: zipp>=0.5 in /usr/local/lib/python3.7/dist-packages (from importlib-metadata; python_version < \"3.8\"->transformers) (3.4.1)\n",
            "Requirement already satisfied: click in /usr/local/lib/python3.7/dist-packages (from sacremoses->transformers) (8.0.0)\n",
            "Requirement already satisfied: joblib in /usr/local/lib/python3.7/dist-packages (from sacremoses->transformers) (1.0.1)\n",
            "Requirement already satisfied: six in /usr/local/lib/python3.7/dist-packages (from sacremoses->transformers) (1.15.0)\n",
            "Requirement already satisfied: urllib3!=1.25.0,!=1.25.1,<1.26,>=1.21.1 in /usr/local/lib/python3.7/dist-packages (from requests->transformers) (1.24.3)\n",
            "Requirement already satisfied: idna<3,>=2.5 in /usr/local/lib/python3.7/dist-packages (from requests->transformers) (2.10)\n",
            "Requirement already satisfied: chardet<4,>=3.0.2 in /usr/local/lib/python3.7/dist-packages (from requests->transformers) (3.0.4)\n",
            "Requirement already satisfied: certifi>=2017.4.17 in /usr/local/lib/python3.7/dist-packages (from requests->transformers) (2020.12.5)\n",
            "Installing collected packages: huggingface-hub, tokenizers, sacremoses, transformers\n",
            "Successfully installed huggingface-hub-0.0.8 sacremoses-0.0.45 tokenizers-0.10.2 transformers-4.6.0\n"
          ],
          "name": "stdout"
        }
      ]
    },
    {
      "cell_type": "code",
      "metadata": {
        "id": "L-AKypoiSy1t"
      },
      "source": [
        "import transformers\n",
        "from transformers import AdamW \n",
        "from transformers import get_linear_schedule_with_warmup\n",
        "import torch\n",
        "import csv"
      ],
      "execution_count": 2,
      "outputs": []
    },
    {
      "cell_type": "code",
      "metadata": {
        "colab": {
          "base_uri": "https://localhost:8080/",
          "height": 262,
          "referenced_widgets": [
            "0872e1fb9f6c419f923e90e0600e4ae3",
            "45e5c108204143888394c3f6eab1f32a",
            "c42102acfe37487a9249dbd6446cb3ea",
            "2350d25d77ca46718e64f6c0e0d73bd6",
            "4a6a094806984ca392f9183cb744aeaa",
            "57aea0b1d4ff4c2ba85948d0c06a6486",
            "34461819d952498a985d5789c06b7efa",
            "15e9a25ed3fe40a48954ca3acddd0adf",
            "979a8086e2274d138d7d13e056884692",
            "06d12fece74a4155ac5ee76160d1c195",
            "7d2918409a4244dc99800be8dd0d27d2",
            "9c896a7e2d7f4a6e87dbf711974a034c",
            "c6464d488baf4710b48134f80c5415e6",
            "9ac64ad7496e4b1c9a7c33fffb0aa1b6",
            "01c6305821f64429925885d1fceb1c74",
            "33195662a49e4c6db8c3b5d722e7168d",
            "5eb5c8adf87a4ad791e119249b874ed6",
            "a48e59870a52489aada03ad362c7f00c",
            "9d27f5a6f7404ba3a997304682fbdf57",
            "e97208da2e58424488a30ae634236637",
            "de605a7453bf422ab19cf3e4bf4a860f",
            "5e53bb86f4a346bf9dfd4c232a1ff6d0",
            "de75cf82ff4149738ce17579457b8048",
            "0105cb222db946f2bb101398ee0a4af3",
            "8c58aef38b3a4dbe828ab875fa67ffe4",
            "d0b5f453a58e40a7bfff08ac1e0257c0",
            "242ec027a5a443dcab298857cf521752",
            "7bfd1607def84b4aa32e2a536c3121cf",
            "87c0a85213e241c8becb0d3153ec143b",
            "baa1d0da4786462087c6c99046032467",
            "f6925dca647d41fda4f37a48e9b11a88",
            "9c81ee9cc8c64263ad58f6e77e847b56",
            "8b6d358e17164e0abe35dffe932d172b",
            "6454e431793b4f37a78bfdc17cb7aeab",
            "9b7fc2e872c947ff8135945029eb6a03",
            "69eaf7f513d849c2b19ccf3357a42b49",
            "1fdcff28ddb941f18bd54485dca8730d",
            "78404842fa1949a499676d642e13136a",
            "ba47e02e334c4c38901f3d853fb9ff02",
            "ea7e24228b04403f808656a9d80dcfb2"
          ]
        },
        "id": "WnKjEv4TTX2a",
        "outputId": "610a9a7e-40d1-4cc8-b1e5-3ba5ddbeb314"
      },
      "source": [
        "batch_size = 10\n",
        "model_path = \"gpt2.bin\"\n",
        "max_seq_len = 300\n",
        "epochs = 5\n",
        "data_path = 'anime_dataset.csv'\n",
        "tokenizer = transformers.GPT2Tokenizer.from_pretrained('gpt2')\n",
        "model = transformers.GPT2LMHeadModel.from_pretrained('gpt2')"
      ],
      "execution_count": 4,
      "outputs": [
        {
          "output_type": "display_data",
          "data": {
            "application/vnd.jupyter.widget-view+json": {
              "model_id": "0872e1fb9f6c419f923e90e0600e4ae3",
              "version_minor": 0,
              "version_major": 2
            },
            "text/plain": [
              "HBox(children=(FloatProgress(value=0.0, description='Downloading', max=1042301.0, style=ProgressStyle(descript…"
            ]
          },
          "metadata": {
            "tags": []
          }
        },
        {
          "output_type": "stream",
          "text": [
            "\n"
          ],
          "name": "stdout"
        },
        {
          "output_type": "display_data",
          "data": {
            "application/vnd.jupyter.widget-view+json": {
              "model_id": "979a8086e2274d138d7d13e056884692",
              "version_minor": 0,
              "version_major": 2
            },
            "text/plain": [
              "HBox(children=(FloatProgress(value=0.0, description='Downloading', max=456318.0, style=ProgressStyle(descripti…"
            ]
          },
          "metadata": {
            "tags": []
          }
        },
        {
          "output_type": "stream",
          "text": [
            "\n"
          ],
          "name": "stdout"
        },
        {
          "output_type": "display_data",
          "data": {
            "application/vnd.jupyter.widget-view+json": {
              "model_id": "5eb5c8adf87a4ad791e119249b874ed6",
              "version_minor": 0,
              "version_major": 2
            },
            "text/plain": [
              "HBox(children=(FloatProgress(value=0.0, description='Downloading', max=1355256.0, style=ProgressStyle(descript…"
            ]
          },
          "metadata": {
            "tags": []
          }
        },
        {
          "output_type": "stream",
          "text": [
            "\n"
          ],
          "name": "stdout"
        },
        {
          "output_type": "display_data",
          "data": {
            "application/vnd.jupyter.widget-view+json": {
              "model_id": "8c58aef38b3a4dbe828ab875fa67ffe4",
              "version_minor": 0,
              "version_major": 2
            },
            "text/plain": [
              "HBox(children=(FloatProgress(value=0.0, description='Downloading', max=665.0, style=ProgressStyle(description_…"
            ]
          },
          "metadata": {
            "tags": []
          }
        },
        {
          "output_type": "stream",
          "text": [
            "\n"
          ],
          "name": "stdout"
        },
        {
          "output_type": "display_data",
          "data": {
            "application/vnd.jupyter.widget-view+json": {
              "model_id": "8b6d358e17164e0abe35dffe932d172b",
              "version_minor": 0,
              "version_major": 2
            },
            "text/plain": [
              "HBox(children=(FloatProgress(value=0.0, description='Downloading', max=548118077.0, style=ProgressStyle(descri…"
            ]
          },
          "metadata": {
            "tags": []
          }
        },
        {
          "output_type": "stream",
          "text": [
            "\n"
          ],
          "name": "stdout"
        }
      ]
    },
    {
      "cell_type": "code",
      "metadata": {
        "id": "bRHstZ8GTr04"
      },
      "source": [
        "class AnimeDataset():\n",
        "    def __init__(self,data):\n",
        "        self.eos_tok = '<|endoftext|>'\n",
        "        synopsis = clean_description(data)\n",
        "        synopsis = synopsis.apply(lambda x: str(x) + self.eos_tok)\n",
        "        self.synopsis = synopsis.tolist()\n",
        "        self.pad_tok = tokenizer.encode(['<|pad|>'])\n",
        "    def __getitem__(self,item):\n",
        "        synopsis = self.synopsis[item]\n",
        "        tokens = tokenizer.encode(synopsis)\n",
        "        mask = [1]*len(tokens)\n",
        "        \n",
        "        max_len = max_seq_len\n",
        "        if max_len>len(tokens):\n",
        "            padding_len = max_len - len(tokens)\n",
        "            tokens = tokens + self.pad_tok*padding_len\n",
        "            mask = mask + [0]*padding_len\n",
        "        else:\n",
        "            tokens = tokens[:max_len]\n",
        "            mask = mask[:max_len]\n",
        "        \n",
        "        if tokens[-1]!= tokenizer.encode(self.eos_tok)[0]:\n",
        "            tokens[-1] = tokenizer.encode(self.eos_tok)[0]\n",
        "        \n",
        "        return {'ids':torch.tensor(tokens,dtype = torch.long),\n",
        "                'mask': torch.tensor(mask,dtype = torch.long),\n",
        "                'og_synpsis':synopsis}\n",
        "         \n",
        "     \n",
        "    def __len__(self):\n",
        "        return len(self.synopsis)"
      ],
      "execution_count": 6,
      "outputs": []
    },
    {
      "cell_type": "code",
      "metadata": {
        "id": "uvqpBgQi6fn3"
      },
      "source": [
        "def train(model,dataloader,optimizer,scheduler,device):\n",
        "    model.train()\n",
        "    tk0 = tqdm(dataloader, total = len(dataloader), leave = True, position = 0)\n",
        "    train_loss = Loss()\n",
        "    losses = []\n",
        "    for bi,d in enumerate(tk0):\n",
        "            \n",
        "        ids = d['ids'].to(device,dtype = torch.long)\n",
        "        mask = d['mask'].to(device,dtype = torch.long)\n",
        "        \n",
        "        loss,out = model(input_ids = ids, labels = ids, attention_mask  = mask)[:2]\n",
        "        \n",
        "        train_loss.update(loss.item())    \n",
        "        loss.backward()\n",
        "        losses.append(loss.item())\n",
        "        optimizer.step()\n",
        "        scheduler.step()\n",
        "        model.zero_grad()\n",
        "        tk0.set_postfix(loss = train_loss.avg)\n",
        "    return np.mean(losses)"
      ],
      "execution_count": 7,
      "outputs": []
    },
    {
      "cell_type": "code",
      "metadata": {
        "id": "GrkFS6tp9Qa6"
      },
      "source": [
        "def run():\n",
        "    data = pd.read_csv(data_path, quoting=csv.QUOTE_NONE, comment='#', error_bad_lines=False)\n",
        "    dataset = AnimeDataset(data = data)\n",
        "    dataloader = torch.utils.data.DataLoader(dataset,batch_size=batch_size,shuffle=True)\n",
        "    \n",
        "    device = 'cuda'\n",
        "    model.to(device)\n",
        "    \n",
        "    optimizer = AdamW(model.parameters(),lr = 0.0001,weight_decay = 0.003)    \n",
        "    scheduler = get_linear_schedule_with_warmup(optimizer,\n",
        "                                                num_warmup_steps=10,num_training_steps = int(len(data)/batch_size * epochs))\n",
        "    \n",
        "    best_loss = 100000\n",
        "    for epoch in range(epochs):\n",
        "        loss = train(model,dataloader,optimizer,scheduler,device)\n",
        "        if loss<best_loss:\n",
        "            best_loss = loss\n",
        "            torch.save(model.state_dict(),model_path)\n",
        "        torch.cuda.empty_cache"
      ],
      "execution_count": 8,
      "outputs": []
    },
    {
      "cell_type": "code",
      "metadata": {
        "id": "o_FuE-6c6q27",
        "colab": {
          "base_uri": "https://localhost:8080/"
        },
        "outputId": "a20c8100-1a25-44d6-d101-fb059392dcbc"
      },
      "source": [
        "run()"
      ],
      "execution_count": 9,
      "outputs": [
        {
          "output_type": "stream",
          "text": [
            "b'Skipping line 4: expected 64 fields, saw 69\\nSkipping line 8: expected 64 fields, saw 66\\nSkipping line 10: expected 64 fields, saw 67\\nSkipping line 11: expected 64 fields, saw 65\\nSkipping line 14: expected 64 fields, saw 68\\nSkipping line 15: expected 64 fields, saw 67\\nSkipping line 16: expected 64 fields, saw 68\\nSkipping line 17: expected 64 fields, saw 69\\nSkipping line 19: expected 64 fields, saw 65\\nSkipping line 23: expected 64 fields, saw 69\\nSkipping line 24: expected 64 fields, saw 65\\nSkipping line 26: expected 64 fields, saw 67\\nSkipping line 27: expected 64 fields, saw 66\\nSkipping line 28: expected 64 fields, saw 71\\nSkipping line 32: expected 64 fields, saw 65\\nSkipping line 34: expected 64 fields, saw 70\\nSkipping line 41: expected 64 fields, saw 69\\nSkipping line 48: expected 64 fields, saw 65\\nSkipping line 49: expected 64 fields, saw 66\\nSkipping line 52: expected 64 fields, saw 67\\nSkipping line 53: expected 64 fields, saw 73\\nSkipping line 54: expected 64 fields, saw 68\\nSkipping line 55: expected 64 fields, saw 69\\nSkipping line 59: expected 64 fields, saw 66\\nSkipping line 68: expected 64 fields, saw 66\\nSkipping line 79: expected 64 fields, saw 65\\nSkipping line 81: expected 64 fields, saw 67\\nSkipping line 92: expected 64 fields, saw 66\\nSkipping line 93: expected 64 fields, saw 67\\nSkipping line 95: expected 64 fields, saw 69\\nSkipping line 105: expected 64 fields, saw 66\\nSkipping line 111: expected 64 fields, saw 68\\nSkipping line 122: expected 64 fields, saw 65\\nSkipping line 129: expected 64 fields, saw 68\\nSkipping line 130: expected 64 fields, saw 68\\nSkipping line 140: expected 64 fields, saw 70\\nSkipping line 144: expected 64 fields, saw 69\\nSkipping line 149: expected 64 fields, saw 65\\nSkipping line 159: expected 64 fields, saw 66\\nSkipping line 161: expected 64 fields, saw 69\\nSkipping line 165: expected 64 fields, saw 66\\nSkipping line 171: expected 64 fields, saw 78\\nSkipping line 172: expected 64 fields, saw 65\\nSkipping line 179: expected 64 fields, saw 79\\nSkipping line 181: expected 64 fields, saw 70\\nSkipping line 183: expected 64 fields, saw 69\\nSkipping line 185: expected 64 fields, saw 68\\nSkipping line 187: expected 64 fields, saw 70\\nSkipping line 189: expected 64 fields, saw 65\\nSkipping line 191: expected 64 fields, saw 65\\nSkipping line 193: expected 64 fields, saw 71\\nSkipping line 197: expected 64 fields, saw 68\\nSkipping line 201: expected 64 fields, saw 67\\nSkipping line 212: expected 64 fields, saw 68\\nSkipping line 215: expected 64 fields, saw 66\\nSkipping line 217: expected 64 fields, saw 67\\nSkipping line 222: expected 64 fields, saw 66\\nSkipping line 233: expected 64 fields, saw 66\\nSkipping line 234: expected 64 fields, saw 67\\nSkipping line 238: expected 64 fields, saw 67\\nSkipping line 242: expected 64 fields, saw 66\\nSkipping line 249: expected 64 fields, saw 67\\nSkipping line 267: expected 64 fields, saw 68\\nSkipping line 269: expected 64 fields, saw 65\\nSkipping line 288: expected 64 fields, saw 67\\nSkipping line 290: expected 64 fields, saw 70\\nSkipping line 293: expected 64 fields, saw 69\\nSkipping line 295: expected 64 fields, saw 70\\nSkipping line 302: expected 64 fields, saw 65\\nSkipping line 311: expected 64 fields, saw 71\\nSkipping line 315: expected 64 fields, saw 69\\nSkipping line 324: expected 64 fields, saw 68\\nSkipping line 330: expected 64 fields, saw 70\\nSkipping line 335: expected 64 fields, saw 68\\nSkipping line 339: expected 64 fields, saw 65\\nSkipping line 341: expected 64 fields, saw 66\\nSkipping line 344: expected 64 fields, saw 67\\nSkipping line 345: expected 64 fields, saw 65\\nSkipping line 350: expected 64 fields, saw 65\\nSkipping line 361: expected 64 fields, saw 68\\nSkipping line 363: expected 64 fields, saw 65\\nSkipping line 377: expected 64 fields, saw 65\\nSkipping line 380: expected 64 fields, saw 70\\nSkipping line 400: expected 64 fields, saw 65\\nSkipping line 403: expected 64 fields, saw 66\\nSkipping line 412: expected 64 fields, saw 65\\nSkipping line 419: expected 64 fields, saw 69\\nSkipping line 428: expected 64 fields, saw 68\\nSkipping line 430: expected 64 fields, saw 72\\nSkipping line 440: expected 64 fields, saw 65\\nSkipping line 444: expected 64 fields, saw 67\\nSkipping line 454: expected 64 fields, saw 67\\nSkipping line 458: expected 64 fields, saw 65\\nSkipping line 461: expected 64 fields, saw 67\\nSkipping line 463: expected 64 fields, saw 65\\nSkipping line 479: expected 64 fields, saw 70\\nSkipping line 481: expected 64 fields, saw 68\\nSkipping line 482: expected 64 fields, saw 65\\nSkipping line 484: expected 64 fields, saw 69\\nSkipping line 492: expected 64 fields, saw 66\\nSkipping line 495: expected 64 fields, saw 66\\nSkipping line 496: expected 64 fields, saw 66\\nSkipping line 500: expected 64 fields, saw 65\\nSkipping line 502: expected 64 fields, saw 65\\nSkipping line 504: expected 64 fields, saw 70\\nSkipping line 508: expected 64 fields, saw 69\\nSkipping line 510: expected 64 fields, saw 65\\nSkipping line 511: expected 64 fields, saw 68\\nSkipping line 512: expected 64 fields, saw 67\\nSkipping line 514: expected 64 fields, saw 67\\nSkipping line 516: expected 64 fields, saw 67\\nSkipping line 517: expected 64 fields, saw 68\\nSkipping line 521: expected 64 fields, saw 65\\nSkipping line 522: expected 64 fields, saw 66\\nSkipping line 524: expected 64 fields, saw 65\\nSkipping line 525: expected 64 fields, saw 69\\nSkipping line 526: expected 64 fields, saw 73\\nSkipping line 541: expected 64 fields, saw 65\\nSkipping line 545: expected 64 fields, saw 71\\nSkipping line 546: expected 64 fields, saw 72\\nSkipping line 549: expected 64 fields, saw 70\\nSkipping line 553: expected 64 fields, saw 69\\nSkipping line 557: expected 64 fields, saw 67\\nSkipping line 560: expected 64 fields, saw 68\\nSkipping line 565: expected 64 fields, saw 68\\nSkipping line 566: expected 64 fields, saw 66\\nSkipping line 567: expected 64 fields, saw 67\\nSkipping line 569: expected 64 fields, saw 67\\nSkipping line 573: expected 64 fields, saw 66\\nSkipping line 576: expected 64 fields, saw 69\\nSkipping line 580: expected 64 fields, saw 67\\nSkipping line 588: expected 64 fields, saw 67\\nSkipping line 597: expected 64 fields, saw 67\\nSkipping line 598: expected 64 fields, saw 65\\nSkipping line 607: expected 64 fields, saw 67\\nSkipping line 608: expected 64 fields, saw 71\\nSkipping line 609: expected 64 fields, saw 71\\nSkipping line 611: expected 64 fields, saw 73\\nSkipping line 618: expected 64 fields, saw 72\\nSkipping line 619: expected 64 fields, saw 67\\nSkipping line 622: expected 64 fields, saw 66\\nSkipping line 623: expected 64 fields, saw 67\\nSkipping line 625: expected 64 fields, saw 71\\nSkipping line 628: expected 64 fields, saw 67\\nSkipping line 630: expected 64 fields, saw 69\\nSkipping line 631: expected 64 fields, saw 67\\nSkipping line 632: expected 64 fields, saw 65\\nSkipping line 633: expected 64 fields, saw 65\\nSkipping line 635: expected 64 fields, saw 65\\nSkipping line 641: expected 64 fields, saw 68\\nSkipping line 647: expected 64 fields, saw 65\\nSkipping line 655: expected 64 fields, saw 70\\nSkipping line 656: expected 64 fields, saw 66\\nSkipping line 663: expected 64 fields, saw 74\\nSkipping line 667: expected 64 fields, saw 71\\nSkipping line 668: expected 64 fields, saw 68\\nSkipping line 671: expected 64 fields, saw 70\\nSkipping line 672: expected 64 fields, saw 67\\nSkipping line 675: expected 64 fields, saw 70\\nSkipping line 690: expected 64 fields, saw 65\\nSkipping line 695: expected 64 fields, saw 65\\nSkipping line 699: expected 64 fields, saw 66\\nSkipping line 704: expected 64 fields, saw 66\\nSkipping line 705: expected 64 fields, saw 68\\nSkipping line 709: expected 64 fields, saw 68\\nSkipping line 712: expected 64 fields, saw 69\\nSkipping line 726: expected 64 fields, saw 69\\nSkipping line 729: expected 64 fields, saw 68\\nSkipping line 735: expected 64 fields, saw 65\\nSkipping line 739: expected 64 fields, saw 65\\nSkipping line 748: expected 64 fields, saw 75\\nSkipping line 751: expected 64 fields, saw 66\\nSkipping line 752: expected 64 fields, saw 69\\nSkipping line 756: expected 64 fields, saw 66\\nSkipping line 762: expected 64 fields, saw 65\\nSkipping line 772: expected 64 fields, saw 67\\nSkipping line 780: expected 64 fields, saw 65\\nSkipping line 782: expected 64 fields, saw 70\\nSkipping line 787: expected 64 fields, saw 65\\nSkipping line 788: expected 64 fields, saw 65\\nSkipping line 792: expected 64 fields, saw 66\\nSkipping line 797: expected 64 fields, saw 67\\nSkipping line 806: expected 64 fields, saw 68\\nSkipping line 808: expected 64 fields, saw 68\\nSkipping line 811: expected 64 fields, saw 67\\nSkipping line 812: expected 64 fields, saw 66\\nSkipping line 817: expected 64 fields, saw 69\\nSkipping line 819: expected 64 fields, saw 67\\nSkipping line 821: expected 64 fields, saw 73\\nSkipping line 826: expected 64 fields, saw 69\\nSkipping line 831: expected 64 fields, saw 65\\nSkipping line 833: expected 64 fields, saw 65\\nSkipping line 836: expected 64 fields, saw 65\\nSkipping line 838: expected 64 fields, saw 75\\nSkipping line 843: expected 64 fields, saw 77\\nSkipping line 847: expected 64 fields, saw 68\\nSkipping line 851: expected 64 fields, saw 65\\nSkipping line 854: expected 64 fields, saw 77\\nSkipping line 859: expected 64 fields, saw 65\\nSkipping line 867: expected 64 fields, saw 69\\nSkipping line 871: expected 64 fields, saw 66\\nSkipping line 873: expected 64 fields, saw 66\\nSkipping line 885: expected 64 fields, saw 71\\nSkipping line 886: expected 64 fields, saw 66\\nSkipping line 888: expected 64 fields, saw 66\\nSkipping line 889: expected 64 fields, saw 66\\nSkipping line 893: expected 64 fields, saw 69\\nSkipping line 895: expected 64 fields, saw 66\\nSkipping line 897: expected 64 fields, saw 66\\nSkipping line 898: expected 64 fields, saw 69\\nSkipping line 899: expected 64 fields, saw 65\\nSkipping line 900: expected 64 fields, saw 65\\nSkipping line 903: expected 64 fields, saw 71\\nSkipping line 918: expected 64 fields, saw 69\\nSkipping line 920: expected 64 fields, saw 65\\nSkipping line 921: expected 64 fields, saw 65\\nSkipping line 923: expected 64 fields, saw 67\\nSkipping line 924: expected 64 fields, saw 68\\nSkipping line 925: expected 64 fields, saw 66\\nSkipping line 927: expected 64 fields, saw 70\\nSkipping line 932: expected 64 fields, saw 70\\nSkipping line 937: expected 64 fields, saw 68\\nSkipping line 940: expected 64 fields, saw 72\\nSkipping line 948: expected 64 fields, saw 66\\nSkipping line 949: expected 64 fields, saw 66\\nSkipping line 950: expected 64 fields, saw 69\\nSkipping line 954: expected 64 fields, saw 68\\nSkipping line 958: expected 64 fields, saw 70\\nSkipping line 959: expected 64 fields, saw 68\\nSkipping line 962: expected 64 fields, saw 65\\nSkipping line 964: expected 64 fields, saw 73\\nSkipping line 966: expected 64 fields, saw 68\\nSkipping line 988: expected 64 fields, saw 71\\nSkipping line 989: expected 64 fields, saw 66\\nSkipping line 996: expected 64 fields, saw 72\\nSkipping line 998: expected 64 fields, saw 66\\nSkipping line 1000: expected 64 fields, saw 66\\nSkipping line 1001: expected 64 fields, saw 66\\nSkipping line 1002: expected 64 fields, saw 66\\nSkipping line 1003: expected 64 fields, saw 66\\nSkipping line 1005: expected 64 fields, saw 67\\nSkipping line 1006: expected 64 fields, saw 72\\nSkipping line 1026: expected 64 fields, saw 65\\nSkipping line 1027: expected 64 fields, saw 65\\nSkipping line 1028: expected 64 fields, saw 68\\nSkipping line 1034: expected 64 fields, saw 70\\nSkipping line 1040: expected 64 fields, saw 70\\nSkipping line 1042: expected 64 fields, saw 65\\nSkipping line 1046: expected 64 fields, saw 67\\nSkipping line 1047: expected 64 fields, saw 66\\nSkipping line 1049: expected 64 fields, saw 70\\nSkipping line 1063: expected 64 fields, saw 68\\nSkipping line 1069: expected 64 fields, saw 65\\nSkipping line 1070: expected 64 fields, saw 66\\nSkipping line 1073: expected 64 fields, saw 78\\nSkipping line 1074: expected 64 fields, saw 65\\nSkipping line 1075: expected 64 fields, saw 69\\nSkipping line 1077: expected 64 fields, saw 66\\nSkipping line 1078: expected 64 fields, saw 67\\nSkipping line 1081: expected 64 fields, saw 73\\nSkipping line 1082: expected 64 fields, saw 69\\nSkipping line 1083: expected 64 fields, saw 65\\nSkipping line 1092: expected 64 fields, saw 65\\nSkipping line 1098: expected 64 fields, saw 66\\nSkipping line 1101: expected 64 fields, saw 67\\nSkipping line 1112: expected 64 fields, saw 68\\nSkipping line 1116: expected 64 fields, saw 65\\nSkipping line 1121: expected 64 fields, saw 67\\nSkipping line 1122: expected 64 fields, saw 73\\nSkipping line 1126: expected 64 fields, saw 65\\nSkipping line 1138: expected 64 fields, saw 65\\nSkipping line 1145: expected 64 fields, saw 69\\nSkipping line 1147: expected 64 fields, saw 67\\nSkipping line 1154: expected 64 fields, saw 71\\nSkipping line 1155: expected 64 fields, saw 68\\nSkipping line 1169: expected 64 fields, saw 69\\nSkipping line 1177: expected 64 fields, saw 65\\nSkipping line 1193: expected 64 fields, saw 70\\nSkipping line 1201: expected 64 fields, saw 67\\nSkipping line 1205: expected 64 fields, saw 71\\nSkipping line 1217: expected 64 fields, saw 70\\nSkipping line 1220: expected 64 fields, saw 68\\nSkipping line 1224: expected 64 fields, saw 67\\nSkipping line 1229: expected 64 fields, saw 74\\nSkipping line 1232: expected 64 fields, saw 66\\nSkipping line 1237: expected 64 fields, saw 66\\nSkipping line 1238: expected 64 fields, saw 66\\nSkipping line 1253: expected 64 fields, saw 78\\nSkipping line 1260: expected 64 fields, saw 67\\nSkipping line 1279: expected 64 fields, saw 68\\nSkipping line 1284: expected 64 fields, saw 71\\nSkipping line 1285: expected 64 fields, saw 73\\nSkipping line 1299: expected 64 fields, saw 67\\nSkipping line 1301: expected 64 fields, saw 68\\nSkipping line 1318: expected 64 fields, saw 69\\nSkipping line 1329: expected 64 fields, saw 70\\nSkipping line 1370: expected 64 fields, saw 68\\nSkipping line 1387: expected 64 fields, saw 66\\nSkipping line 1410: expected 64 fields, saw 69\\nSkipping line 1426: expected 64 fields, saw 69\\nSkipping line 1430: expected 64 fields, saw 72\\nSkipping line 1431: expected 64 fields, saw 66\\nSkipping line 1437: expected 64 fields, saw 72\\nSkipping line 1442: expected 64 fields, saw 67\\nSkipping line 1443: expected 64 fields, saw 67\\nSkipping line 1446: expected 64 fields, saw 68\\nSkipping line 1453: expected 64 fields, saw 66\\nSkipping line 1462: expected 64 fields, saw 71\\nSkipping line 1479: expected 64 fields, saw 66\\nSkipping line 1498: expected 64 fields, saw 68\\nSkipping line 1507: expected 64 fields, saw 65\\nSkipping line 1509: expected 64 fields, saw 65\\nSkipping line 1512: expected 64 fields, saw 68\\nSkipping line 1536: expected 64 fields, saw 69\\nSkipping line 1560: expected 64 fields, saw 68\\nSkipping line 1570: expected 64 fields, saw 65\\nSkipping line 1606: expected 64 fields, saw 68\\nSkipping line 1636: expected 64 fields, saw 66\\nSkipping line 1640: expected 64 fields, saw 68\\nSkipping line 1644: expected 64 fields, saw 66\\nSkipping line 1651: expected 64 fields, saw 68\\nSkipping line 1652: expected 64 fields, saw 69\\nSkipping line 1667: expected 64 fields, saw 68\\nSkipping line 1668: expected 64 fields, saw 75\\nSkipping line 1672: expected 64 fields, saw 65\\nSkipping line 1673: expected 64 fields, saw 67\\nSkipping line 1698: expected 64 fields, saw 65\\nSkipping line 1699: expected 64 fields, saw 67\\nSkipping line 1704: expected 64 fields, saw 67\\nSkipping line 1705: expected 64 fields, saw 69\\nSkipping line 1707: expected 64 fields, saw 67\\nSkipping line 1708: expected 64 fields, saw 70\\nSkipping line 1709: expected 64 fields, saw 74\\nSkipping line 1714: expected 64 fields, saw 67\\nSkipping line 1715: expected 64 fields, saw 76\\nSkipping line 1716: expected 64 fields, saw 67\\nSkipping line 1717: expected 64 fields, saw 65\\nSkipping line 1724: expected 64 fields, saw 65\\nSkipping line 1725: expected 64 fields, saw 69\\nSkipping line 1727: expected 64 fields, saw 65\\nSkipping line 1728: expected 64 fields, saw 66\\nSkipping line 1730: expected 64 fields, saw 67\\nSkipping line 1731: expected 64 fields, saw 70\\nSkipping line 1736: expected 64 fields, saw 74\\nSkipping line 1751: expected 64 fields, saw 74\\nSkipping line 1761: expected 64 fields, saw 68\\nSkipping line 1763: expected 64 fields, saw 72\\nSkipping line 1764: expected 64 fields, saw 69\\nSkipping line 1765: expected 64 fields, saw 66\\nSkipping line 1766: expected 64 fields, saw 70\\nSkipping line 1767: expected 64 fields, saw 69\\nSkipping line 1769: expected 64 fields, saw 65\\nSkipping line 1776: expected 64 fields, saw 69\\nSkipping line 1778: expected 64 fields, saw 66\\nSkipping line 1781: expected 64 fields, saw 71\\nSkipping line 1785: expected 64 fields, saw 65\\nSkipping line 1788: expected 64 fields, saw 69\\nSkipping line 1798: expected 64 fields, saw 67\\nSkipping line 1800: expected 64 fields, saw 66\\nSkipping line 1808: expected 64 fields, saw 74\\nSkipping line 1810: expected 64 fields, saw 65\\nSkipping line 1811: expected 64 fields, saw 65\\nSkipping line 1816: expected 64 fields, saw 71\\nSkipping line 1817: expected 64 fields, saw 65\\nSkipping line 1818: expected 64 fields, saw 66\\nSkipping line 1819: expected 64 fields, saw 66\\nSkipping line 1820: expected 64 fields, saw 65\\nSkipping line 1821: expected 64 fields, saw 70\\nSkipping line 1827: expected 64 fields, saw 67\\nSkipping line 1832: expected 64 fields, saw 71\\nSkipping line 1834: expected 64 fields, saw 65\\nSkipping line 1838: expected 64 fields, saw 66\\nSkipping line 1841: expected 64 fields, saw 68\\nSkipping line 1845: expected 64 fields, saw 72\\nSkipping line 1850: expected 64 fields, saw 65\\nSkipping line 1859: expected 64 fields, saw 68\\nSkipping line 1867: expected 64 fields, saw 65\\nSkipping line 1871: expected 64 fields, saw 73\\nSkipping line 1874: expected 64 fields, saw 70\\nSkipping line 1887: expected 64 fields, saw 66\\nSkipping line 1889: expected 64 fields, saw 70\\nSkipping line 1894: expected 64 fields, saw 69\\nSkipping line 1898: expected 64 fields, saw 65\\nSkipping line 1902: expected 64 fields, saw 68\\nSkipping line 1910: expected 64 fields, saw 65\\nSkipping line 1911: expected 64 fields, saw 65\\nSkipping line 1935: expected 64 fields, saw 73\\nSkipping line 1936: expected 64 fields, saw 67\\nSkipping line 1937: expected 64 fields, saw 66\\nSkipping line 1944: expected 64 fields, saw 67\\nSkipping line 1945: expected 64 fields, saw 66\\nSkipping line 1955: expected 64 fields, saw 77\\nSkipping line 1961: expected 64 fields, saw 68\\nSkipping line 1962: expected 64 fields, saw 67\\nSkipping line 1968: expected 64 fields, saw 67\\nSkipping line 1978: expected 64 fields, saw 71\\nSkipping line 1979: expected 64 fields, saw 71\\nSkipping line 1980: expected 64 fields, saw 74\\nSkipping line 1987: expected 64 fields, saw 65\\nSkipping line 1996: expected 64 fields, saw 67\\nSkipping line 2007: expected 64 fields, saw 71\\nSkipping line 2011: expected 64 fields, saw 65\\nSkipping line 2012: expected 64 fields, saw 70\\nSkipping line 2014: expected 64 fields, saw 65\\nSkipping line 2026: expected 64 fields, saw 66\\nSkipping line 2034: expected 64 fields, saw 72\\nSkipping line 2036: expected 64 fields, saw 68\\nSkipping line 2037: expected 64 fields, saw 66\\nSkipping line 2041: expected 64 fields, saw 66\\nSkipping line 2043: expected 64 fields, saw 69\\nSkipping line 2048: expected 64 fields, saw 65\\nSkipping line 2054: expected 64 fields, saw 73\\nSkipping line 2055: expected 64 fields, saw 65\\nSkipping line 2056: expected 64 fields, saw 69\\nSkipping line 2063: expected 64 fields, saw 67\\nSkipping line 2069: expected 64 fields, saw 67\\nSkipping line 2074: expected 64 fields, saw 65\\nSkipping line 2081: expected 64 fields, saw 69\\nSkipping line 2082: expected 64 fields, saw 65\\nSkipping line 2088: expected 64 fields, saw 66\\nSkipping line 2089: expected 64 fields, saw 65\\nSkipping line 2096: expected 64 fields, saw 66\\nSkipping line 2101: expected 64 fields, saw 65\\nSkipping line 2102: expected 64 fields, saw 65\\nSkipping line 2113: expected 64 fields, saw 66\\nSkipping line 2115: expected 64 fields, saw 71\\nSkipping line 2117: expected 64 fields, saw 66\\nSkipping line 2124: expected 64 fields, saw 68\\nSkipping line 2134: expected 64 fields, saw 66\\nSkipping line 2135: expected 64 fields, saw 65\\nSkipping line 2138: expected 64 fields, saw 69\\nSkipping line 2140: expected 64 fields, saw 65\\nSkipping line 2151: expected 64 fields, saw 68\\nSkipping line 2153: expected 64 fields, saw 65\\nSkipping line 2159: expected 64 fields, saw 67\\nSkipping line 2160: expected 64 fields, saw 71\\nSkipping line 2162: expected 64 fields, saw 68\\nSkipping line 2165: expected 64 fields, saw 72\\nSkipping line 2172: expected 64 fields, saw 65\\nSkipping line 2178: expected 64 fields, saw 73\\nSkipping line 2179: expected 64 fields, saw 66\\nSkipping line 2185: expected 64 fields, saw 67\\nSkipping line 2198: expected 64 fields, saw 70\\nSkipping line 2201: expected 64 fields, saw 67\\nSkipping line 2211: expected 64 fields, saw 70\\nSkipping line 2225: expected 64 fields, saw 78\\nSkipping line 2227: expected 64 fields, saw 65\\nSkipping line 2254: expected 64 fields, saw 65\\nSkipping line 2281: expected 64 fields, saw 65\\nSkipping line 2326: expected 64 fields, saw 73\\nSkipping line 2334: expected 64 fields, saw 80\\nSkipping line 2338: expected 64 fields, saw 66\\nSkipping line 2339: expected 64 fields, saw 65\\nSkipping line 2349: expected 64 fields, saw 70\\nSkipping line 2355: expected 64 fields, saw 66\\nSkipping line 2356: expected 64 fields, saw 68\\nSkipping line 2357: expected 64 fields, saw 72\\nSkipping line 2363: expected 64 fields, saw 66\\nSkipping line 2364: expected 64 fields, saw 70\\nSkipping line 2366: expected 64 fields, saw 71\\nSkipping line 2368: expected 64 fields, saw 65\\nSkipping line 2369: expected 64 fields, saw 72\\nSkipping line 2370: expected 64 fields, saw 66\\nSkipping line 2373: expected 64 fields, saw 65\\nSkipping line 2377: expected 64 fields, saw 67\\nSkipping line 2384: expected 64 fields, saw 73\\nSkipping line 2386: expected 64 fields, saw 67\\nSkipping line 2392: expected 64 fields, saw 68\\nSkipping line 2394: expected 64 fields, saw 65\\nSkipping line 2395: expected 64 fields, saw 69\\nSkipping line 2400: expected 64 fields, saw 69\\nSkipping line 2405: expected 64 fields, saw 70\\nSkipping line 2407: expected 64 fields, saw 67\\nSkipping line 2408: expected 64 fields, saw 68\\nSkipping line 2410: expected 64 fields, saw 67\\nSkipping line 2415: expected 64 fields, saw 65\\nSkipping line 2421: expected 64 fields, saw 67\\nSkipping line 2425: expected 64 fields, saw 66\\nSkipping line 2431: expected 64 fields, saw 66\\nSkipping line 2449: expected 64 fields, saw 68\\nSkipping line 2450: expected 64 fields, saw 69\\nSkipping line 2452: expected 64 fields, saw 68\\nSkipping line 2456: expected 64 fields, saw 70\\nSkipping line 2461: expected 64 fields, saw 65\\nSkipping line 2462: expected 64 fields, saw 66\\nSkipping line 2475: expected 64 fields, saw 67\\nSkipping line 2476: expected 64 fields, saw 67\\nSkipping line 2481: expected 64 fields, saw 76\\nSkipping line 2492: expected 64 fields, saw 67\\nSkipping line 2497: expected 64 fields, saw 66\\nSkipping line 2506: expected 64 fields, saw 67\\nSkipping line 2519: expected 64 fields, saw 71\\nSkipping line 2522: expected 64 fields, saw 68\\nSkipping line 2524: expected 64 fields, saw 71\\nSkipping line 2532: expected 64 fields, saw 69\\nSkipping line 2534: expected 64 fields, saw 72\\nSkipping line 2535: expected 64 fields, saw 65\\nSkipping line 2541: expected 64 fields, saw 68\\nSkipping line 2545: expected 64 fields, saw 67\\nSkipping line 2548: expected 64 fields, saw 69\\nSkipping line 2551: expected 64 fields, saw 67\\nSkipping line 2558: expected 64 fields, saw 65\\nSkipping line 2562: expected 64 fields, saw 68\\nSkipping line 2564: expected 64 fields, saw 73\\nSkipping line 2567: expected 64 fields, saw 68\\nSkipping line 2577: expected 64 fields, saw 65\\nSkipping line 2582: expected 64 fields, saw 68\\nSkipping line 2585: expected 64 fields, saw 68\\nSkipping line 2586: expected 64 fields, saw 71\\nSkipping line 2587: expected 64 fields, saw 66\\nSkipping line 2609: expected 64 fields, saw 70\\nSkipping line 2611: expected 64 fields, saw 68\\nSkipping line 2613: expected 64 fields, saw 66\\nSkipping line 2615: expected 64 fields, saw 68\\nSkipping line 2629: expected 64 fields, saw 74\\nSkipping line 2631: expected 64 fields, saw 67\\nSkipping line 2634: expected 64 fields, saw 67\\nSkipping line 2639: expected 64 fields, saw 76\\nSkipping line 2643: expected 64 fields, saw 65\\nSkipping line 2644: expected 64 fields, saw 65\\nSkipping line 2646: expected 64 fields, saw 69\\nSkipping line 2647: expected 64 fields, saw 66\\nSkipping line 2648: expected 64 fields, saw 66\\nSkipping line 2649: expected 64 fields, saw 68\\nSkipping line 2650: expected 64 fields, saw 65\\nSkipping line 2651: expected 64 fields, saw 66\\nSkipping line 2652: expected 64 fields, saw 69\\nSkipping line 2654: expected 64 fields, saw 67\\nSkipping line 2658: expected 64 fields, saw 67\\nSkipping line 2659: expected 64 fields, saw 70\\nSkipping line 2663: expected 64 fields, saw 68\\nSkipping line 2666: expected 64 fields, saw 70\\nSkipping line 2668: expected 64 fields, saw 67\\nSkipping line 2681: expected 64 fields, saw 71\\nSkipping line 2691: expected 64 fields, saw 67\\nSkipping line 2692: expected 64 fields, saw 67\\nSkipping line 2696: expected 64 fields, saw 72\\nSkipping line 2697: expected 64 fields, saw 74\\nSkipping line 2701: expected 64 fields, saw 73\\nSkipping line 2703: expected 64 fields, saw 67\\nSkipping line 2706: expected 64 fields, saw 65\\nSkipping line 2709: expected 64 fields, saw 72\\nSkipping line 2711: expected 64 fields, saw 66\\nSkipping line 2724: expected 64 fields, saw 66\\nSkipping line 2732: expected 64 fields, saw 65\\nSkipping line 2741: expected 64 fields, saw 65\\nSkipping line 2752: expected 64 fields, saw 65\\nSkipping line 2753: expected 64 fields, saw 67\\nSkipping line 2758: expected 64 fields, saw 65\\nSkipping line 2760: expected 64 fields, saw 79\\nSkipping line 2761: expected 64 fields, saw 65\\nSkipping line 2766: expected 64 fields, saw 71\\nSkipping line 2768: expected 64 fields, saw 65\\nSkipping line 2771: expected 64 fields, saw 67\\nSkipping line 2778: expected 64 fields, saw 69\\nSkipping line 2780: expected 64 fields, saw 65\\nSkipping line 2783: expected 64 fields, saw 71\\nSkipping line 2784: expected 64 fields, saw 69\\nSkipping line 2788: expected 64 fields, saw 66\\nSkipping line 2792: expected 64 fields, saw 65\\nSkipping line 2794: expected 64 fields, saw 66\\nSkipping line 2795: expected 64 fields, saw 69\\nSkipping line 2796: expected 64 fields, saw 68\\nSkipping line 2798: expected 64 fields, saw 70\\nSkipping line 2800: expected 64 fields, saw 66\\nSkipping line 2807: expected 64 fields, saw 65\\nSkipping line 2816: expected 64 fields, saw 70\\nSkipping line 2823: expected 64 fields, saw 68\\nSkipping line 2824: expected 64 fields, saw 69\\nSkipping line 2828: expected 64 fields, saw 68\\nSkipping line 2831: expected 64 fields, saw 73\\nSkipping line 2840: expected 64 fields, saw 66\\nSkipping line 2841: expected 64 fields, saw 65\\nSkipping line 2843: expected 64 fields, saw 70\\nSkipping line 2854: expected 64 fields, saw 66\\nSkipping line 2862: expected 64 fields, saw 67\\nSkipping line 2865: expected 64 fields, saw 65\\nSkipping line 2866: expected 64 fields, saw 71\\nSkipping line 2871: expected 64 fields, saw 65\\nSkipping line 2874: expected 64 fields, saw 66\\nSkipping line 2881: expected 64 fields, saw 66\\nSkipping line 2882: expected 64 fields, saw 71\\nSkipping line 2886: expected 64 fields, saw 66\\nSkipping line 2889: expected 64 fields, saw 69\\nSkipping line 2896: expected 64 fields, saw 69\\nSkipping line 2902: expected 64 fields, saw 65\\nSkipping line 2904: expected 64 fields, saw 67\\nSkipping line 2911: expected 64 fields, saw 67\\nSkipping line 2915: expected 64 fields, saw 66\\nSkipping line 2920: expected 64 fields, saw 66\\nSkipping line 2936: expected 64 fields, saw 67\\nSkipping line 2937: expected 64 fields, saw 68\\nSkipping line 2951: expected 64 fields, saw 65\\nSkipping line 2958: expected 64 fields, saw 69\\nSkipping line 2966: expected 64 fields, saw 67\\nSkipping line 2973: expected 64 fields, saw 65\\nSkipping line 2977: expected 64 fields, saw 73\\nSkipping line 2978: expected 64 fields, saw 67\\nSkipping line 2981: expected 64 fields, saw 69\\nSkipping line 2990: expected 64 fields, saw 72\\nSkipping line 2992: expected 64 fields, saw 68\\nSkipping line 2994: expected 64 fields, saw 68\\nSkipping line 2996: expected 64 fields, saw 67\\nSkipping line 2998: expected 64 fields, saw 66\\nSkipping line 3000: expected 64 fields, saw 68\\nSkipping line 3004: expected 64 fields, saw 68\\nSkipping line 3017: expected 64 fields, saw 71\\nSkipping line 3033: expected 64 fields, saw 66\\nSkipping line 3044: expected 64 fields, saw 69\\nSkipping line 3047: expected 64 fields, saw 72\\nSkipping line 3051: expected 64 fields, saw 65\\nSkipping line 3054: expected 64 fields, saw 67\\nSkipping line 3055: expected 64 fields, saw 69\\nSkipping line 3057: expected 64 fields, saw 68\\nSkipping line 3061: expected 64 fields, saw 66\\nSkipping line 3063: expected 64 fields, saw 67\\nSkipping line 3065: expected 64 fields, saw 71\\nSkipping line 3066: expected 64 fields, saw 65\\nSkipping line 3067: expected 64 fields, saw 65\\nSkipping line 3070: expected 64 fields, saw 69\\nSkipping line 3072: expected 64 fields, saw 66\\nSkipping line 3085: expected 64 fields, saw 67\\nSkipping line 3089: expected 64 fields, saw 68\\nSkipping line 3096: expected 64 fields, saw 66\\nSkipping line 3097: expected 64 fields, saw 70\\nSkipping line 3098: expected 64 fields, saw 69\\nSkipping line 3110: expected 64 fields, saw 66\\nSkipping line 3122: expected 64 fields, saw 71\\nSkipping line 3124: expected 64 fields, saw 66\\nSkipping line 3126: expected 64 fields, saw 65\\nSkipping line 3129: expected 64 fields, saw 65\\nSkipping line 3130: expected 64 fields, saw 72\\nSkipping line 3131: expected 64 fields, saw 69\\nSkipping line 3136: expected 64 fields, saw 68\\nSkipping line 3138: expected 64 fields, saw 65\\nSkipping line 3139: expected 64 fields, saw 68\\nSkipping line 3141: expected 64 fields, saw 65\\nSkipping line 3144: expected 64 fields, saw 71\\nSkipping line 3145: expected 64 fields, saw 68\\nSkipping line 3146: expected 64 fields, saw 68\\nSkipping line 3147: expected 64 fields, saw 71\\nSkipping line 3148: expected 64 fields, saw 65\\nSkipping line 3150: expected 64 fields, saw 67\\nSkipping line 3152: expected 64 fields, saw 66\\nSkipping line 3155: expected 64 fields, saw 68\\nSkipping line 3157: expected 64 fields, saw 68\\nSkipping line 3158: expected 64 fields, saw 66\\nSkipping line 3160: expected 64 fields, saw 69\\nSkipping line 3164: expected 64 fields, saw 70\\nSkipping line 3169: expected 64 fields, saw 71\\nSkipping line 3173: expected 64 fields, saw 67\\nSkipping line 3175: expected 64 fields, saw 71\\nSkipping line 3178: expected 64 fields, saw 80\\nSkipping line 3184: expected 64 fields, saw 65\\nSkipping line 3200: expected 64 fields, saw 75\\nSkipping line 3202: expected 64 fields, saw 66\\nSkipping line 3211: expected 64 fields, saw 65\\nSkipping line 3217: expected 64 fields, saw 67\\nSkipping line 3218: expected 64 fields, saw 70\\nSkipping line 3221: expected 64 fields, saw 70\\nSkipping line 3232: expected 64 fields, saw 67\\nSkipping line 3234: expected 64 fields, saw 65\\nSkipping line 3246: expected 64 fields, saw 65\\nSkipping line 3249: expected 64 fields, saw 67\\nSkipping line 3250: expected 64 fields, saw 72\\nSkipping line 3252: expected 64 fields, saw 81\\nSkipping line 3254: expected 64 fields, saw 69\\nSkipping line 3258: expected 64 fields, saw 67\\nSkipping line 3262: expected 64 fields, saw 66\\nSkipping line 3268: expected 64 fields, saw 66\\nSkipping line 3286: expected 64 fields, saw 66\\nSkipping line 3300: expected 64 fields, saw 74\\nSkipping line 3321: expected 64 fields, saw 68\\nSkipping line 3331: expected 64 fields, saw 70\\nSkipping line 3347: expected 64 fields, saw 71\\nSkipping line 3353: expected 64 fields, saw 68\\nSkipping line 3354: expected 64 fields, saw 66\\nSkipping line 3356: expected 64 fields, saw 68\\nSkipping line 3360: expected 64 fields, saw 67\\nSkipping line 3367: expected 64 fields, saw 69\\nSkipping line 3368: expected 64 fields, saw 66\\nSkipping line 3369: expected 64 fields, saw 69\\nSkipping line 3377: expected 64 fields, saw 68\\nSkipping line 3383: expected 64 fields, saw 80\\nSkipping line 3388: expected 64 fields, saw 67\\nSkipping line 3391: expected 64 fields, saw 69\\nSkipping line 3395: expected 64 fields, saw 70\\nSkipping line 3397: expected 64 fields, saw 76\\nSkipping line 3399: expected 64 fields, saw 70\\nSkipping line 3403: expected 64 fields, saw 69\\nSkipping line 3412: expected 64 fields, saw 69\\nSkipping line 3413: expected 64 fields, saw 65\\nSkipping line 3414: expected 64 fields, saw 68\\nSkipping line 3415: expected 64 fields, saw 65\\nSkipping line 3418: expected 64 fields, saw 66\\nSkipping line 3426: expected 64 fields, saw 67\\nSkipping line 3434: expected 64 fields, saw 68\\nSkipping line 3435: expected 64 fields, saw 68\\nSkipping line 3437: expected 64 fields, saw 68\\nSkipping line 3440: expected 64 fields, saw 70\\nSkipping line 3444: expected 64 fields, saw 70\\nSkipping line 3445: expected 64 fields, saw 71\\nSkipping line 3447: expected 64 fields, saw 67\\nSkipping line 3452: expected 64 fields, saw 66\\nSkipping line 3456: expected 64 fields, saw 65\\nSkipping line 3459: expected 64 fields, saw 66\\nSkipping line 3463: expected 64 fields, saw 66\\nSkipping line 3494: expected 64 fields, saw 67\\nSkipping line 3499: expected 64 fields, saw 65\\nSkipping line 3506: expected 64 fields, saw 72\\nSkipping line 3516: expected 64 fields, saw 72\\nSkipping line 3520: expected 64 fields, saw 68\\nSkipping line 3526: expected 64 fields, saw 66\\nSkipping line 3527: expected 64 fields, saw 70\\nSkipping line 3540: expected 64 fields, saw 71\\nSkipping line 3541: expected 64 fields, saw 65\\nSkipping line 3557: expected 64 fields, saw 68\\nSkipping line 3559: expected 64 fields, saw 65\\nSkipping line 3563: expected 64 fields, saw 70\\nSkipping line 3571: expected 64 fields, saw 83\\nSkipping line 3574: expected 64 fields, saw 65\\nSkipping line 3595: expected 64 fields, saw 67\\nSkipping line 3597: expected 64 fields, saw 67\\nSkipping line 3603: expected 64 fields, saw 69\\nSkipping line 3607: expected 64 fields, saw 67\\nSkipping line 3623: expected 64 fields, saw 65\\nSkipping line 3625: expected 64 fields, saw 68\\nSkipping line 3632: expected 64 fields, saw 65\\nSkipping line 3636: expected 64 fields, saw 67\\nSkipping line 3639: expected 64 fields, saw 65\\nSkipping line 3648: expected 64 fields, saw 67\\nSkipping line 3651: expected 64 fields, saw 65\\nSkipping line 3653: expected 64 fields, saw 70\\nSkipping line 3657: expected 64 fields, saw 65\\nSkipping line 3663: expected 64 fields, saw 67\\nSkipping line 3665: expected 64 fields, saw 69\\nSkipping line 3666: expected 64 fields, saw 71\\nSkipping line 3668: expected 64 fields, saw 66\\nSkipping line 3671: expected 64 fields, saw 74\\nSkipping line 3680: expected 64 fields, saw 68\\nSkipping line 3682: expected 64 fields, saw 66\\nSkipping line 3686: expected 64 fields, saw 69\\nSkipping line 3692: expected 64 fields, saw 65\\nSkipping line 3694: expected 64 fields, saw 66\\nSkipping line 3698: expected 64 fields, saw 66\\nSkipping line 3700: expected 64 fields, saw 66\\nSkipping line 3703: expected 64 fields, saw 66\\nSkipping line 3705: expected 64 fields, saw 69\\nSkipping line 3709: expected 64 fields, saw 69\\nSkipping line 3714: expected 64 fields, saw 65\\nSkipping line 3717: expected 64 fields, saw 66\\nSkipping line 3720: expected 64 fields, saw 82\\nSkipping line 3729: expected 64 fields, saw 68\\nSkipping line 3730: expected 64 fields, saw 71\\nSkipping line 3732: expected 64 fields, saw 65\\nSkipping line 3739: expected 64 fields, saw 65\\nSkipping line 3740: expected 64 fields, saw 68\\nSkipping line 3741: expected 64 fields, saw 66\\nSkipping line 3747: expected 64 fields, saw 66\\nSkipping line 3750: expected 64 fields, saw 66\\nSkipping line 3751: expected 64 fields, saw 65\\nSkipping line 3757: expected 64 fields, saw 66\\nSkipping line 3760: expected 64 fields, saw 68\\nSkipping line 3767: expected 64 fields, saw 67\\nSkipping line 3772: expected 64 fields, saw 66\\nSkipping line 3775: expected 64 fields, saw 77\\nSkipping line 3781: expected 64 fields, saw 65\\nSkipping line 3784: expected 64 fields, saw 73\\nSkipping line 3795: expected 64 fields, saw 68\\nSkipping line 3800: expected 64 fields, saw 67\\nSkipping line 3801: expected 64 fields, saw 66\\nSkipping line 3804: expected 64 fields, saw 65\\nSkipping line 3807: expected 64 fields, saw 65\\nSkipping line 3812: expected 64 fields, saw 71\\nSkipping line 3815: expected 64 fields, saw 70\\nSkipping line 3817: expected 64 fields, saw 67\\nSkipping line 3819: expected 64 fields, saw 65\\nSkipping line 3827: expected 64 fields, saw 68\\nSkipping line 3835: expected 64 fields, saw 69\\nSkipping line 3842: expected 64 fields, saw 66\\nSkipping line 3845: expected 64 fields, saw 67\\nSkipping line 3846: expected 64 fields, saw 65\\nSkipping line 3849: expected 64 fields, saw 66\\nSkipping line 3862: expected 64 fields, saw 65\\nSkipping line 3864: expected 64 fields, saw 67\\nSkipping line 3865: expected 64 fields, saw 70\\nSkipping line 3870: expected 64 fields, saw 66\\nSkipping line 3880: expected 64 fields, saw 67\\nSkipping line 3883: expected 64 fields, saw 69\\nSkipping line 3884: expected 64 fields, saw 70\\nSkipping line 3889: expected 64 fields, saw 70\\nSkipping line 3891: expected 64 fields, saw 68\\nSkipping line 3894: expected 64 fields, saw 68\\nSkipping line 3895: expected 64 fields, saw 65\\nSkipping line 3896: expected 64 fields, saw 66\\nSkipping line 3897: expected 64 fields, saw 71\\nSkipping line 3901: expected 64 fields, saw 74\\nSkipping line 3911: expected 64 fields, saw 66\\nSkipping line 3912: expected 64 fields, saw 65\\nSkipping line 3914: expected 64 fields, saw 67\\nSkipping line 3917: expected 64 fields, saw 65\\nSkipping line 3923: expected 64 fields, saw 68\\nSkipping line 3925: expected 64 fields, saw 66\\nSkipping line 3926: expected 64 fields, saw 65\\nSkipping line 3928: expected 64 fields, saw 81\\nSkipping line 3932: expected 64 fields, saw 67\\nSkipping line 3933: expected 64 fields, saw 66\\nSkipping line 3940: expected 64 fields, saw 66\\nSkipping line 3947: expected 64 fields, saw 71\\nSkipping line 3956: expected 64 fields, saw 69\\nSkipping line 3959: expected 64 fields, saw 65\\nSkipping line 3967: expected 64 fields, saw 66\\nSkipping line 3968: expected 64 fields, saw 73\\nSkipping line 3975: expected 64 fields, saw 66\\nSkipping line 3976: expected 64 fields, saw 65\\nSkipping line 3980: expected 64 fields, saw 65\\nSkipping line 3989: expected 64 fields, saw 67\\nSkipping line 3993: expected 64 fields, saw 68\\nSkipping line 3996: expected 64 fields, saw 67\\nSkipping line 4000: expected 64 fields, saw 65\\nSkipping line 4004: expected 64 fields, saw 66\\nSkipping line 4009: expected 64 fields, saw 68\\nSkipping line 4010: expected 64 fields, saw 65\\nSkipping line 4013: expected 64 fields, saw 71\\nSkipping line 4015: expected 64 fields, saw 74\\nSkipping line 4016: expected 64 fields, saw 67\\nSkipping line 4019: expected 64 fields, saw 65\\nSkipping line 4026: expected 64 fields, saw 68\\nSkipping line 4028: expected 64 fields, saw 66\\nSkipping line 4029: expected 64 fields, saw 65\\nSkipping line 4030: expected 64 fields, saw 66\\nSkipping line 4042: expected 64 fields, saw 66\\nSkipping line 4052: expected 64 fields, saw 67\\nSkipping line 4054: expected 64 fields, saw 72\\nSkipping line 4060: expected 64 fields, saw 70\\nSkipping line 4066: expected 64 fields, saw 66\\nSkipping line 4075: expected 64 fields, saw 65\\nSkipping line 4082: expected 64 fields, saw 65\\nSkipping line 4084: expected 64 fields, saw 66\\nSkipping line 4089: expected 64 fields, saw 70\\nSkipping line 4091: expected 64 fields, saw 68\\nSkipping line 4093: expected 64 fields, saw 65\\nSkipping line 4095: expected 64 fields, saw 65\\nSkipping line 4098: expected 64 fields, saw 66\\nSkipping line 4100: expected 64 fields, saw 75\\nSkipping line 4101: expected 64 fields, saw 66\\nSkipping line 4102: expected 64 fields, saw 66\\nSkipping line 4106: expected 64 fields, saw 68\\nSkipping line 4115: expected 64 fields, saw 66\\nSkipping line 4119: expected 64 fields, saw 66\\nSkipping line 4123: expected 64 fields, saw 72\\nSkipping line 4132: expected 64 fields, saw 65\\nSkipping line 4136: expected 64 fields, saw 68\\nSkipping line 4142: expected 64 fields, saw 68\\nSkipping line 4149: expected 64 fields, saw 70\\nSkipping line 4151: expected 64 fields, saw 65\\nSkipping line 4153: expected 64 fields, saw 68\\nSkipping line 4160: expected 64 fields, saw 67\\nSkipping line 4163: expected 64 fields, saw 68\\nSkipping line 4171: expected 64 fields, saw 70\\nSkipping line 4178: expected 64 fields, saw 69\\nSkipping line 4180: expected 64 fields, saw 67\\nSkipping line 4185: expected 64 fields, saw 70\\nSkipping line 4187: expected 64 fields, saw 70\\nSkipping line 4188: expected 64 fields, saw 69\\nSkipping line 4189: expected 64 fields, saw 66\\nSkipping line 4190: expected 64 fields, saw 65\\nSkipping line 4193: expected 64 fields, saw 65\\nSkipping line 4199: expected 64 fields, saw 66\\nSkipping line 4202: expected 64 fields, saw 72\\nSkipping line 4203: expected 64 fields, saw 66\\nSkipping line 4204: expected 64 fields, saw 68\\nSkipping line 4208: expected 64 fields, saw 69\\nSkipping line 4213: expected 64 fields, saw 70\\nSkipping line 4217: expected 64 fields, saw 65\\nSkipping line 4233: expected 64 fields, saw 66\\nSkipping line 4235: expected 64 fields, saw 75\\nSkipping line 4236: expected 64 fields, saw 66\\nSkipping line 4240: expected 64 fields, saw 65\\nSkipping line 4242: expected 64 fields, saw 68\\nSkipping line 4244: expected 64 fields, saw 68\\nSkipping line 4246: expected 64 fields, saw 66\\nSkipping line 4253: expected 64 fields, saw 67\\nSkipping line 4255: expected 64 fields, saw 66\\nSkipping line 4258: expected 64 fields, saw 65\\nSkipping line 4262: expected 64 fields, saw 67\\nSkipping line 4271: expected 64 fields, saw 80\\nSkipping line 4275: expected 64 fields, saw 66\\nSkipping line 4281: expected 64 fields, saw 76\\nSkipping line 4286: expected 64 fields, saw 68\\nSkipping line 4287: expected 64 fields, saw 65\\nSkipping line 4289: expected 64 fields, saw 68\\nSkipping line 4292: expected 64 fields, saw 67\\nSkipping line 4294: expected 64 fields, saw 67\\nSkipping line 4302: expected 64 fields, saw 67\\nSkipping line 4308: expected 64 fields, saw 65\\nSkipping line 4309: expected 64 fields, saw 67\\nSkipping line 4320: expected 64 fields, saw 67\\nSkipping line 4324: expected 64 fields, saw 68\\nSkipping line 4331: expected 64 fields, saw 77\\nSkipping line 4338: expected 64 fields, saw 65\\nSkipping line 4340: expected 64 fields, saw 68\\nSkipping line 4344: expected 64 fields, saw 66\\nSkipping line 4346: expected 64 fields, saw 73\\nSkipping line 4349: expected 64 fields, saw 67\\nSkipping line 4351: expected 64 fields, saw 65\\nSkipping line 4353: expected 64 fields, saw 65\\nSkipping line 4355: expected 64 fields, saw 76\\nSkipping line 4360: expected 64 fields, saw 67\\nSkipping line 4363: expected 64 fields, saw 68\\nSkipping line 4369: expected 64 fields, saw 69\\nSkipping line 4373: expected 64 fields, saw 65\\nSkipping line 4381: expected 64 fields, saw 67\\nSkipping line 4383: expected 64 fields, saw 70\\nSkipping line 4384: expected 64 fields, saw 71\\nSkipping line 4387: expected 64 fields, saw 75\\nSkipping line 4392: expected 64 fields, saw 66\\nSkipping line 4393: expected 64 fields, saw 66\\nSkipping line 4394: expected 64 fields, saw 69\\nSkipping line 4398: expected 64 fields, saw 67\\nSkipping line 4402: expected 64 fields, saw 66\\nSkipping line 4403: expected 64 fields, saw 72\\nSkipping line 4405: expected 64 fields, saw 68\\nSkipping line 4406: expected 64 fields, saw 68\\nSkipping line 4409: expected 64 fields, saw 65\\nSkipping line 4413: expected 64 fields, saw 67\\nSkipping line 4420: expected 64 fields, saw 69\\nSkipping line 4422: expected 64 fields, saw 67\\nSkipping line 4423: expected 64 fields, saw 66\\nSkipping line 4424: expected 64 fields, saw 65\\nSkipping line 4426: expected 64 fields, saw 67\\nSkipping line 4435: expected 64 fields, saw 71\\nSkipping line 4436: expected 64 fields, saw 70\\nSkipping line 4446: expected 64 fields, saw 66\\nSkipping line 4451: expected 64 fields, saw 66\\nSkipping line 4458: expected 64 fields, saw 79\\nSkipping line 4459: expected 64 fields, saw 65\\nSkipping line 4461: expected 64 fields, saw 65\\nSkipping line 4463: expected 64 fields, saw 66\\nSkipping line 4467: expected 64 fields, saw 69\\nSkipping line 4470: expected 64 fields, saw 76\\nSkipping line 4476: expected 64 fields, saw 67\\nSkipping line 4486: expected 64 fields, saw 76\\nSkipping line 4487: expected 64 fields, saw 69\\nSkipping line 4491: expected 64 fields, saw 67\\nSkipping line 4492: expected 64 fields, saw 65\\nSkipping line 4493: expected 64 fields, saw 70\\nSkipping line 4494: expected 64 fields, saw 69\\nSkipping line 4521: expected 64 fields, saw 65\\nSkipping line 4523: expected 64 fields, saw 66\\nSkipping line 4537: expected 64 fields, saw 72\\nSkipping line 4552: expected 64 fields, saw 65\\nSkipping line 4567: expected 64 fields, saw 67\\nSkipping line 4570: expected 64 fields, saw 65\\nSkipping line 4578: expected 64 fields, saw 71\\nSkipping line 4597: expected 64 fields, saw 66\\nSkipping line 4600: expected 64 fields, saw 70\\nSkipping line 4602: expected 64 fields, saw 67\\nSkipping line 4607: expected 64 fields, saw 71\\nSkipping line 4609: expected 64 fields, saw 67\\nSkipping line 4610: expected 64 fields, saw 67\\nSkipping line 4613: expected 64 fields, saw 68\\nSkipping line 4618: expected 64 fields, saw 73\\nSkipping line 4621: expected 64 fields, saw 73\\nSkipping line 4622: expected 64 fields, saw 65\\nSkipping line 4627: expected 64 fields, saw 69\\nSkipping line 4629: expected 64 fields, saw 66\\nSkipping line 4634: expected 64 fields, saw 66\\nSkipping line 4639: expected 64 fields, saw 65\\nSkipping line 4645: expected 64 fields, saw 69\\nSkipping line 4646: expected 64 fields, saw 65\\nSkipping line 4655: expected 64 fields, saw 68\\nSkipping line 4663: expected 64 fields, saw 67\\nSkipping line 4668: expected 64 fields, saw 68\\nSkipping line 4669: expected 64 fields, saw 70\\nSkipping line 4679: expected 64 fields, saw 68\\nSkipping line 4680: expected 64 fields, saw 66\\nSkipping line 4681: expected 64 fields, saw 67\\nSkipping line 4683: expected 64 fields, saw 66\\nSkipping line 4686: expected 64 fields, saw 65\\nSkipping line 4689: expected 64 fields, saw 71\\nSkipping line 4690: expected 64 fields, saw 66\\nSkipping line 4694: expected 64 fields, saw 68\\nSkipping line 4706: expected 64 fields, saw 69\\nSkipping line 4707: expected 64 fields, saw 65\\nSkipping line 4708: expected 64 fields, saw 72\\nSkipping line 4709: expected 64 fields, saw 76\\nSkipping line 4711: expected 64 fields, saw 71\\nSkipping line 4712: expected 64 fields, saw 69\\nSkipping line 4720: expected 64 fields, saw 70\\nSkipping line 4723: expected 64 fields, saw 68\\nSkipping line 4731: expected 64 fields, saw 68\\nSkipping line 4735: expected 64 fields, saw 65\\nSkipping line 4737: expected 64 fields, saw 66\\nSkipping line 4746: expected 64 fields, saw 65\\nSkipping line 4750: expected 64 fields, saw 65\\nSkipping line 4752: expected 64 fields, saw 66\\nSkipping line 4755: expected 64 fields, saw 66\\nSkipping line 4758: expected 64 fields, saw 66\\nSkipping line 4759: expected 64 fields, saw 67\\nSkipping line 4772: expected 64 fields, saw 85\\nSkipping line 4773: expected 64 fields, saw 66\\nSkipping line 4775: expected 64 fields, saw 68\\nSkipping line 4779: expected 64 fields, saw 69\\nSkipping line 4785: expected 64 fields, saw 66\\nSkipping line 4786: expected 64 fields, saw 65\\nSkipping line 4789: expected 64 fields, saw 65\\nSkipping line 4796: expected 64 fields, saw 70\\nSkipping line 4799: expected 64 fields, saw 65\\nSkipping line 4811: expected 64 fields, saw 78\\nSkipping line 4815: expected 64 fields, saw 65\\nSkipping line 4821: expected 64 fields, saw 65\\nSkipping line 4824: expected 64 fields, saw 68\\nSkipping line 4827: expected 64 fields, saw 70\\nSkipping line 4828: expected 64 fields, saw 69\\nSkipping line 4830: expected 64 fields, saw 66\\nSkipping line 4831: expected 64 fields, saw 66\\nSkipping line 4832: expected 64 fields, saw 68\\nSkipping line 4833: expected 64 fields, saw 66\\nSkipping line 4834: expected 64 fields, saw 67\\nSkipping line 4835: expected 64 fields, saw 65\\nSkipping line 4836: expected 64 fields, saw 65\\nSkipping line 4838: expected 64 fields, saw 68\\nSkipping line 4843: expected 64 fields, saw 66\\nSkipping line 4859: expected 64 fields, saw 65\\nSkipping line 4863: expected 64 fields, saw 67\\nSkipping line 4865: expected 64 fields, saw 68\\nSkipping line 4873: expected 64 fields, saw 66\\nSkipping line 4874: expected 64 fields, saw 68\\nSkipping line 4876: expected 64 fields, saw 66\\nSkipping line 4877: expected 64 fields, saw 68\\nSkipping line 4879: expected 64 fields, saw 72\\nSkipping line 4883: expected 64 fields, saw 66\\nSkipping line 4888: expected 64 fields, saw 66\\nSkipping line 4896: expected 64 fields, saw 79\\nSkipping line 4910: expected 64 fields, saw 69\\nSkipping line 4911: expected 64 fields, saw 68\\nSkipping line 4912: expected 64 fields, saw 65\\nSkipping line 4913: expected 64 fields, saw 66\\nSkipping line 4920: expected 64 fields, saw 78\\nSkipping line 4940: expected 64 fields, saw 66\\nSkipping line 4943: expected 64 fields, saw 65\\nSkipping line 4949: expected 64 fields, saw 65\\nSkipping line 4965: expected 64 fields, saw 66\\nSkipping line 4970: expected 64 fields, saw 67\\nSkipping line 4975: expected 64 fields, saw 65\\nSkipping line 4977: expected 64 fields, saw 66\\nSkipping line 4984: expected 64 fields, saw 66\\nSkipping line 4987: expected 64 fields, saw 68\\nSkipping line 4990: expected 64 fields, saw 68\\nSkipping line 5009: expected 64 fields, saw 65\\nSkipping line 5015: expected 64 fields, saw 65\\nSkipping line 5027: expected 64 fields, saw 66\\nSkipping line 5034: expected 64 fields, saw 67\\nSkipping line 5038: expected 64 fields, saw 66\\nSkipping line 5039: expected 64 fields, saw 68\\nSkipping line 5066: expected 64 fields, saw 65\\nSkipping line 5085: expected 64 fields, saw 65\\nSkipping line 5092: expected 64 fields, saw 67\\nSkipping line 5101: expected 64 fields, saw 66\\nSkipping line 5102: expected 64 fields, saw 72\\nSkipping line 5109: expected 64 fields, saw 66\\nSkipping line 5114: expected 64 fields, saw 69\\nSkipping line 5115: expected 64 fields, saw 65\\nSkipping line 5132: expected 64 fields, saw 72\\nSkipping line 5149: expected 64 fields, saw 65\\nSkipping line 5150: expected 64 fields, saw 65\\nSkipping line 5159: expected 64 fields, saw 72\\nSkipping line 5161: expected 64 fields, saw 69\\nSkipping line 5164: expected 64 fields, saw 66\\nSkipping line 5171: expected 64 fields, saw 70\\nSkipping line 5181: expected 64 fields, saw 65\\nSkipping line 5183: expected 64 fields, saw 69\\nSkipping line 5184: expected 64 fields, saw 66\\nSkipping line 5185: expected 64 fields, saw 76\\nSkipping line 5186: expected 64 fields, saw 65\\nSkipping line 5188: expected 64 fields, saw 74\\nSkipping line 5191: expected 64 fields, saw 67\\nSkipping line 5192: expected 64 fields, saw 65\\nSkipping line 5196: expected 64 fields, saw 69\\nSkipping line 5207: expected 64 fields, saw 65\\nSkipping line 5219: expected 64 fields, saw 67\\nSkipping line 5231: expected 64 fields, saw 68\\nSkipping line 5232: expected 64 fields, saw 67\\nSkipping line 5233: expected 64 fields, saw 65\\nSkipping line 5241: expected 64 fields, saw 65\\nSkipping line 5242: expected 64 fields, saw 66\\nSkipping line 5245: expected 64 fields, saw 65\\nSkipping line 5253: expected 64 fields, saw 67\\nSkipping line 5262: expected 64 fields, saw 66\\nSkipping line 5263: expected 64 fields, saw 67\\nSkipping line 5264: expected 64 fields, saw 69\\nSkipping line 5268: expected 64 fields, saw 66\\nSkipping line 5272: expected 64 fields, saw 67\\nSkipping line 5275: expected 64 fields, saw 65\\nSkipping line 5276: expected 64 fields, saw 65\\nSkipping line 5279: expected 64 fields, saw 68\\nSkipping line 5280: expected 64 fields, saw 66\\nSkipping line 5293: expected 64 fields, saw 66\\nSkipping line 5303: expected 64 fields, saw 65\\nSkipping line 5312: expected 64 fields, saw 66\\nSkipping line 5345: expected 64 fields, saw 68\\nSkipping line 5366: expected 64 fields, saw 65\\nSkipping line 5367: expected 64 fields, saw 66\\nSkipping line 5377: expected 64 fields, saw 68\\nSkipping line 5378: expected 64 fields, saw 71\\nSkipping line 5390: expected 64 fields, saw 67\\nSkipping line 5391: expected 64 fields, saw 73\\nSkipping line 5395: expected 64 fields, saw 66\\nSkipping line 5397: expected 64 fields, saw 71\\nSkipping line 5402: expected 64 fields, saw 69\\nSkipping line 5406: expected 64 fields, saw 77\\nSkipping line 5407: expected 64 fields, saw 69\\nSkipping line 5414: expected 64 fields, saw 68\\nSkipping line 5416: expected 64 fields, saw 67\\nSkipping line 5420: expected 64 fields, saw 65\\nSkipping line 5421: expected 64 fields, saw 68\\nSkipping line 5427: expected 64 fields, saw 70\\nSkipping line 5432: expected 64 fields, saw 71\\nSkipping line 5442: expected 64 fields, saw 65\\nSkipping line 5444: expected 64 fields, saw 67\\nSkipping line 5457: expected 64 fields, saw 73\\nSkipping line 5467: expected 64 fields, saw 67\\nSkipping line 5469: expected 64 fields, saw 72\\nSkipping line 5473: expected 64 fields, saw 67\\nSkipping line 5480: expected 64 fields, saw 65\\nSkipping line 5491: expected 64 fields, saw 65\\nSkipping line 5494: expected 64 fields, saw 73\\nSkipping line 5497: expected 64 fields, saw 66\\nSkipping line 5501: expected 64 fields, saw 65\\nSkipping line 5505: expected 64 fields, saw 66\\nSkipping line 5512: expected 64 fields, saw 70\\nSkipping line 5513: expected 64 fields, saw 66\\nSkipping line 5514: expected 64 fields, saw 67\\nSkipping line 5525: expected 64 fields, saw 68\\nSkipping line 5540: expected 64 fields, saw 65\\nSkipping line 5543: expected 64 fields, saw 65\\nSkipping line 5551: expected 64 fields, saw 65\\nSkipping line 5559: expected 64 fields, saw 68\\nSkipping line 5560: expected 64 fields, saw 70\\nSkipping line 5566: expected 64 fields, saw 67\\nSkipping line 5571: expected 64 fields, saw 69\\nSkipping line 5575: expected 64 fields, saw 65\\nSkipping line 5579: expected 64 fields, saw 70\\nSkipping line 5607: expected 64 fields, saw 68\\nSkipping line 5617: expected 64 fields, saw 65\\nSkipping line 5619: expected 64 fields, saw 67\\nSkipping line 5621: expected 64 fields, saw 67\\nSkipping line 5631: expected 64 fields, saw 66\\nSkipping line 5637: expected 64 fields, saw 69\\nSkipping line 5658: expected 64 fields, saw 66\\nSkipping line 5660: expected 64 fields, saw 65\\nSkipping line 5664: expected 64 fields, saw 65\\nSkipping line 5674: expected 64 fields, saw 66\\nSkipping line 5676: expected 64 fields, saw 65\\nSkipping line 5690: expected 64 fields, saw 65\\nSkipping line 5699: expected 64 fields, saw 81\\nSkipping line 5711: expected 64 fields, saw 69\\nSkipping line 5719: expected 64 fields, saw 68\\nSkipping line 5722: expected 64 fields, saw 66\\nSkipping line 5734: expected 64 fields, saw 68\\nSkipping line 5744: expected 64 fields, saw 65\\nSkipping line 5789: expected 64 fields, saw 68\\nSkipping line 5794: expected 64 fields, saw 65\\nSkipping line 5815: expected 64 fields, saw 66\\nSkipping line 5817: expected 64 fields, saw 67\\nSkipping line 5838: expected 64 fields, saw 66\\nSkipping line 5865: expected 64 fields, saw 72\\nSkipping line 5878: expected 64 fields, saw 78\\nSkipping line 5880: expected 64 fields, saw 68\\nSkipping line 5888: expected 64 fields, saw 65\\nSkipping line 5907: expected 64 fields, saw 66\\nSkipping line 5918: expected 64 fields, saw 75\\nSkipping line 5927: expected 64 fields, saw 71\\nSkipping line 5933: expected 64 fields, saw 65\\nSkipping line 5958: expected 64 fields, saw 65\\nSkipping line 5990: expected 64 fields, saw 66\\nSkipping line 5991: expected 64 fields, saw 69\\nSkipping line 6013: expected 64 fields, saw 66\\nSkipping line 6015: expected 64 fields, saw 65\\nSkipping line 6017: expected 64 fields, saw 70\\nSkipping line 6021: expected 64 fields, saw 69\\nSkipping line 6029: expected 64 fields, saw 65\\nSkipping line 6052: expected 64 fields, saw 66\\nSkipping line 6085: expected 64 fields, saw 67\\nSkipping line 6088: expected 64 fields, saw 65\\nSkipping line 6106: expected 64 fields, saw 67\\nSkipping line 6107: expected 64 fields, saw 65\\nSkipping line 6113: expected 64 fields, saw 68\\nSkipping line 6126: expected 64 fields, saw 69\\nSkipping line 6138: expected 64 fields, saw 65\\nSkipping line 6140: expected 64 fields, saw 67\\nSkipping line 6144: expected 64 fields, saw 70\\nSkipping line 6154: expected 64 fields, saw 65\\nSkipping line 6175: expected 64 fields, saw 65\\nSkipping line 6189: expected 64 fields, saw 66\\nSkipping line 6191: expected 64 fields, saw 67\\nSkipping line 6201: expected 64 fields, saw 66\\nSkipping line 6208: expected 64 fields, saw 67\\nSkipping line 6226: expected 64 fields, saw 65\\nSkipping line 6232: expected 64 fields, saw 65\\nSkipping line 6251: expected 64 fields, saw 67\\nSkipping line 6318: expected 64 fields, saw 66\\nSkipping line 6359: expected 64 fields, saw 73\\nSkipping line 6368: expected 64 fields, saw 65\\nSkipping line 6369: expected 64 fields, saw 65\\nSkipping line 6385: expected 64 fields, saw 67\\nSkipping line 6386: expected 64 fields, saw 69\\nSkipping line 6390: expected 64 fields, saw 66\\nSkipping line 6417: expected 64 fields, saw 65\\nSkipping line 6420: expected 64 fields, saw 65\\nSkipping line 6421: expected 64 fields, saw 71\\nSkipping line 6422: expected 64 fields, saw 70\\nSkipping line 6430: expected 64 fields, saw 67\\nSkipping line 6432: expected 64 fields, saw 65\\nSkipping line 6458: expected 64 fields, saw 72\\nSkipping line 6507: expected 64 fields, saw 65\\nSkipping line 6509: expected 64 fields, saw 67\\nSkipping line 6512: expected 64 fields, saw 70\\nSkipping line 6532: expected 64 fields, saw 65\\nSkipping line 6551: expected 64 fields, saw 65\\nSkipping line 6556: expected 64 fields, saw 70\\nSkipping line 6564: expected 64 fields, saw 65\\nSkipping line 6585: expected 64 fields, saw 72\\nSkipping line 6595: expected 64 fields, saw 78\\nSkipping line 6601: expected 64 fields, saw 66\\nSkipping line 6610: expected 64 fields, saw 66\\nSkipping line 6625: expected 64 fields, saw 70\\nSkipping line 6645: expected 64 fields, saw 66\\nSkipping line 6679: expected 64 fields, saw 66\\nSkipping line 6696: expected 64 fields, saw 71\\nSkipping line 6697: expected 64 fields, saw 67\\nSkipping line 6698: expected 64 fields, saw 75\\nSkipping line 6737: expected 64 fields, saw 65\\nSkipping line 6744: expected 64 fields, saw 65\\nSkipping line 6753: expected 64 fields, saw 65\\nSkipping line 6759: expected 64 fields, saw 74\\nSkipping line 6815: expected 64 fields, saw 71\\nSkipping line 6894: expected 64 fields, saw 67\\nSkipping line 7044: expected 64 fields, saw 74\\nSkipping line 7070: expected 64 fields, saw 69\\nSkipping line 7097: expected 64 fields, saw 65\\nSkipping line 7214: expected 64 fields, saw 69\\nSkipping line 7241: expected 64 fields, saw 67\\nSkipping line 7275: expected 64 fields, saw 67\\nSkipping line 7333: expected 64 fields, saw 65\\nSkipping line 7360: expected 64 fields, saw 65\\nSkipping line 7410: expected 64 fields, saw 69\\nSkipping line 7430: expected 64 fields, saw 66\\nSkipping line 7437: expected 64 fields, saw 71\\nSkipping line 7454: expected 64 fields, saw 68\\nSkipping line 7481: expected 64 fields, saw 65\\nSkipping line 7491: expected 64 fields, saw 65\\nSkipping line 7552: expected 64 fields, saw 66\\nSkipping line 7556: expected 64 fields, saw 68\\nSkipping line 7591: expected 64 fields, saw 65\\nSkipping line 7614: expected 64 fields, saw 68\\nSkipping line 7681: expected 64 fields, saw 65\\nSkipping line 7683: expected 64 fields, saw 66\\nSkipping line 7743: expected 64 fields, saw 68\\nSkipping line 7782: expected 64 fields, saw 65\\nSkipping line 7788: expected 64 fields, saw 67\\nSkipping line 7867: expected 64 fields, saw 71\\nSkipping line 7960: expected 64 fields, saw 70\\nSkipping line 7961: expected 64 fields, saw 68\\nSkipping line 7982: expected 64 fields, saw 71\\nSkipping line 8084: expected 64 fields, saw 67\\nSkipping line 8088: expected 64 fields, saw 65\\nSkipping line 8095: expected 64 fields, saw 73\\nSkipping line 8110: expected 64 fields, saw 65\\nSkipping line 8127: expected 64 fields, saw 69\\nSkipping line 8138: expected 64 fields, saw 68\\nSkipping line 8217: expected 64 fields, saw 65\\nSkipping line 8268: expected 64 fields, saw 66\\nSkipping line 8339: expected 64 fields, saw 69\\nSkipping line 8503: expected 64 fields, saw 65\\nSkipping line 8580: expected 64 fields, saw 66\\nSkipping line 8661: expected 64 fields, saw 75\\nSkipping line 8664: expected 64 fields, saw 66\\nSkipping line 8675: expected 64 fields, saw 72\\nSkipping line 8707: expected 64 fields, saw 67\\nSkipping line 8710: expected 64 fields, saw 65\\nSkipping line 8714: expected 64 fields, saw 82\\nSkipping line 8716: expected 64 fields, saw 88\\nSkipping line 8749: expected 64 fields, saw 65\\nSkipping line 8814: expected 64 fields, saw 67\\nSkipping line 8868: expected 64 fields, saw 65\\nSkipping line 8897: expected 64 fields, saw 76\\nSkipping line 8899: expected 64 fields, saw 66\\nSkipping line 8938: expected 64 fields, saw 65\\nSkipping line 9062: expected 64 fields, saw 68\\nSkipping line 9063: expected 64 fields, saw 67\\nSkipping line 9077: expected 64 fields, saw 80\\nSkipping line 9097: expected 64 fields, saw 67\\nSkipping line 9106: expected 64 fields, saw 68\\nSkipping line 9110: expected 64 fields, saw 67\\nSkipping line 9116: expected 64 fields, saw 68\\nSkipping line 9117: expected 64 fields, saw 70\\nSkipping line 9145: expected 64 fields, saw 65\\nSkipping line 9165: expected 64 fields, saw 66\\nSkipping line 9167: expected 64 fields, saw 66\\nSkipping line 9176: expected 64 fields, saw 69\\nSkipping line 9237: expected 64 fields, saw 73\\nSkipping line 9241: expected 64 fields, saw 81\\nSkipping line 9339: expected 64 fields, saw 65\\nSkipping line 9347: expected 64 fields, saw 65\\nSkipping line 9351: expected 64 fields, saw 69\\nSkipping line 9402: expected 64 fields, saw 65\\nSkipping line 9404: expected 64 fields, saw 68\\nSkipping line 9405: expected 64 fields, saw 81\\nSkipping line 9421: expected 64 fields, saw 77\\nSkipping line 9496: expected 64 fields, saw 66\\n'\n",
            "b'Skipping line 9510: expected 64 fields, saw 66\\nSkipping line 9553: expected 64 fields, saw 67\\nSkipping line 9563: expected 64 fields, saw 65\\nSkipping line 9569: expected 64 fields, saw 66\\nSkipping line 9570: expected 64 fields, saw 66\\nSkipping line 9571: expected 64 fields, saw 65\\nSkipping line 9621: expected 64 fields, saw 65\\nSkipping line 9734: expected 64 fields, saw 65\\nSkipping line 9736: expected 64 fields, saw 69\\nSkipping line 9821: expected 64 fields, saw 66\\nSkipping line 9832: expected 64 fields, saw 66\\nSkipping line 9833: expected 64 fields, saw 66\\nSkipping line 9845: expected 64 fields, saw 70\\nSkipping line 9887: expected 64 fields, saw 65\\nSkipping line 9890: expected 64 fields, saw 72\\nSkipping line 9958: expected 64 fields, saw 77\\nSkipping line 10075: expected 64 fields, saw 65\\nSkipping line 10076: expected 64 fields, saw 71\\nSkipping line 10086: expected 64 fields, saw 72\\nSkipping line 10122: expected 64 fields, saw 70\\nSkipping line 10266: expected 64 fields, saw 66\\nSkipping line 10317: expected 64 fields, saw 75\\nSkipping line 10344: expected 64 fields, saw 66\\nSkipping line 10429: expected 64 fields, saw 65\\nSkipping line 10500: expected 64 fields, saw 65\\nSkipping line 10578: expected 64 fields, saw 65\\nSkipping line 10586: expected 64 fields, saw 65\\nSkipping line 10694: expected 64 fields, saw 68\\nSkipping line 10752: expected 64 fields, saw 66\\nSkipping line 10771: expected 64 fields, saw 68\\nSkipping line 10830: expected 64 fields, saw 70\\nSkipping line 10862: expected 64 fields, saw 66\\nSkipping line 10913: expected 64 fields, saw 69\\nSkipping line 10940: expected 64 fields, saw 72\\nSkipping line 11065: expected 64 fields, saw 65\\nSkipping line 11125: expected 64 fields, saw 65\\nSkipping line 11189: expected 64 fields, saw 67\\nSkipping line 11354: expected 64 fields, saw 65\\nSkipping line 11373: expected 64 fields, saw 66\\nSkipping line 11379: expected 64 fields, saw 65\\nSkipping line 11409: expected 64 fields, saw 65\\nSkipping line 11442: expected 64 fields, saw 65\\nSkipping line 11482: expected 64 fields, saw 65\\nSkipping line 11501: expected 64 fields, saw 68\\nSkipping line 11518: expected 64 fields, saw 70\\nSkipping line 11594: expected 64 fields, saw 72\\nSkipping line 11599: expected 64 fields, saw 65\\nSkipping line 11634: expected 64 fields, saw 65\\nSkipping line 11688: expected 64 fields, saw 66\\nSkipping line 11694: expected 64 fields, saw 67\\nSkipping line 11697: expected 64 fields, saw 71\\nSkipping line 11707: expected 64 fields, saw 66\\nSkipping line 11759: expected 64 fields, saw 67\\nSkipping line 11764: expected 64 fields, saw 71\\nSkipping line 11766: expected 64 fields, saw 72\\nSkipping line 11770: expected 64 fields, saw 65\\nSkipping line 11772: expected 64 fields, saw 67\\nSkipping line 11776: expected 64 fields, saw 67\\nSkipping line 11784: expected 64 fields, saw 65\\nSkipping line 11791: expected 64 fields, saw 67\\nSkipping line 11794: expected 64 fields, saw 66\\nSkipping line 11797: expected 64 fields, saw 66\\nSkipping line 11798: expected 64 fields, saw 70\\nSkipping line 11799: expected 64 fields, saw 69\\nSkipping line 11805: expected 64 fields, saw 67\\nSkipping line 11806: expected 64 fields, saw 73\\nSkipping line 11811: expected 64 fields, saw 69\\nSkipping line 11812: expected 64 fields, saw 66\\nSkipping line 11815: expected 64 fields, saw 66\\nSkipping line 11817: expected 64 fields, saw 70\\nSkipping line 11820: expected 64 fields, saw 65\\nSkipping line 11825: expected 64 fields, saw 72\\nSkipping line 11828: expected 64 fields, saw 65\\nSkipping line 11831: expected 64 fields, saw 69\\nSkipping line 11832: expected 64 fields, saw 68\\nSkipping line 11838: expected 64 fields, saw 73\\nSkipping line 11840: expected 64 fields, saw 65\\nSkipping line 11841: expected 64 fields, saw 67\\nSkipping line 11843: expected 64 fields, saw 65\\nSkipping line 11849: expected 64 fields, saw 65\\nSkipping line 11852: expected 64 fields, saw 66\\nSkipping line 11860: expected 64 fields, saw 68\\nSkipping line 11862: expected 64 fields, saw 66\\nSkipping line 11877: expected 64 fields, saw 67\\nSkipping line 11893: expected 64 fields, saw 66\\nSkipping line 11896: expected 64 fields, saw 72\\nSkipping line 11908: expected 64 fields, saw 71\\nSkipping line 11917: expected 64 fields, saw 76\\nSkipping line 11918: expected 64 fields, saw 70\\nSkipping line 11919: expected 64 fields, saw 66\\nSkipping line 11939: expected 64 fields, saw 67\\nSkipping line 11940: expected 64 fields, saw 67\\nSkipping line 11943: expected 64 fields, saw 67\\nSkipping line 11952: expected 64 fields, saw 67\\nSkipping line 11953: expected 64 fields, saw 67\\nSkipping line 11959: expected 64 fields, saw 65\\nSkipping line 11960: expected 64 fields, saw 69\\nSkipping line 11970: expected 64 fields, saw 66\\nSkipping line 11973: expected 64 fields, saw 69\\nSkipping line 11974: expected 64 fields, saw 68\\nSkipping line 11976: expected 64 fields, saw 67\\nSkipping line 11977: expected 64 fields, saw 66\\nSkipping line 11980: expected 64 fields, saw 69\\nSkipping line 11981: expected 64 fields, saw 66\\nSkipping line 11982: expected 64 fields, saw 65\\nSkipping line 11994: expected 64 fields, saw 69\\nSkipping line 11997: expected 64 fields, saw 66\\nSkipping line 12002: expected 64 fields, saw 72\\nSkipping line 12005: expected 64 fields, saw 65\\nSkipping line 12006: expected 64 fields, saw 68\\nSkipping line 12011: expected 64 fields, saw 68\\nSkipping line 12013: expected 64 fields, saw 68\\nSkipping line 12014: expected 64 fields, saw 65\\nSkipping line 12015: expected 64 fields, saw 65\\nSkipping line 12018: expected 64 fields, saw 65\\nSkipping line 12023: expected 64 fields, saw 65\\nSkipping line 12024: expected 64 fields, saw 67\\nSkipping line 12029: expected 64 fields, saw 68\\nSkipping line 12034: expected 64 fields, saw 67\\nSkipping line 12038: expected 64 fields, saw 66\\nSkipping line 12040: expected 64 fields, saw 65\\nSkipping line 12041: expected 64 fields, saw 66\\nSkipping line 12042: expected 64 fields, saw 70\\nSkipping line 12047: expected 64 fields, saw 65\\nSkipping line 12048: expected 64 fields, saw 65\\nSkipping line 12049: expected 64 fields, saw 65\\nSkipping line 12051: expected 64 fields, saw 72\\nSkipping line 12052: expected 64 fields, saw 68\\nSkipping line 12053: expected 64 fields, saw 66\\nSkipping line 12055: expected 64 fields, saw 65\\nSkipping line 12057: expected 64 fields, saw 67\\nSkipping line 12061: expected 64 fields, saw 69\\nSkipping line 12065: expected 64 fields, saw 65\\nSkipping line 12067: expected 64 fields, saw 67\\nSkipping line 12077: expected 64 fields, saw 80\\nSkipping line 12082: expected 64 fields, saw 76\\nSkipping line 12092: expected 64 fields, saw 66\\nSkipping line 12129: expected 64 fields, saw 66\\nSkipping line 12135: expected 64 fields, saw 66\\nSkipping line 12139: expected 64 fields, saw 66\\nSkipping line 12144: expected 64 fields, saw 66\\nSkipping line 12162: expected 64 fields, saw 65\\nSkipping line 12163: expected 64 fields, saw 69\\nSkipping line 12200: expected 64 fields, saw 65\\nSkipping line 12210: expected 64 fields, saw 67\\nSkipping line 12219: expected 64 fields, saw 70\\nSkipping line 12220: expected 64 fields, saw 66\\nSkipping line 12226: expected 64 fields, saw 65\\nSkipping line 12229: expected 64 fields, saw 75\\nSkipping line 12231: expected 64 fields, saw 66\\nSkipping line 12233: expected 64 fields, saw 67\\nSkipping line 12234: expected 64 fields, saw 67\\nSkipping line 12237: expected 64 fields, saw 65\\nSkipping line 12239: expected 64 fields, saw 65\\nSkipping line 12248: expected 64 fields, saw 68\\nSkipping line 12249: expected 64 fields, saw 68\\nSkipping line 12251: expected 64 fields, saw 69\\nSkipping line 12261: expected 64 fields, saw 69\\nSkipping line 12262: expected 64 fields, saw 72\\nSkipping line 12263: expected 64 fields, saw 71\\nSkipping line 12269: expected 64 fields, saw 68\\nSkipping line 12273: expected 64 fields, saw 66\\nSkipping line 12276: expected 64 fields, saw 79\\nSkipping line 12289: expected 64 fields, saw 67\\nSkipping line 12297: expected 64 fields, saw 77\\nSkipping line 12302: expected 64 fields, saw 76\\nSkipping line 12304: expected 64 fields, saw 68\\nSkipping line 12312: expected 64 fields, saw 65\\nSkipping line 12314: expected 64 fields, saw 75\\nSkipping line 12315: expected 64 fields, saw 78\\nSkipping line 12316: expected 64 fields, saw 84\\nSkipping line 12319: expected 64 fields, saw 65\\nSkipping line 12324: expected 64 fields, saw 67\\nSkipping line 12326: expected 64 fields, saw 70\\nSkipping line 12329: expected 64 fields, saw 65\\nSkipping line 12331: expected 64 fields, saw 65\\nSkipping line 12333: expected 64 fields, saw 68\\nSkipping line 12339: expected 64 fields, saw 70\\nSkipping line 12342: expected 64 fields, saw 70\\nSkipping line 12343: expected 64 fields, saw 67\\nSkipping line 12344: expected 64 fields, saw 70\\nSkipping line 12352: expected 64 fields, saw 68\\nSkipping line 12353: expected 64 fields, saw 67\\nSkipping line 12354: expected 64 fields, saw 72\\nSkipping line 12355: expected 64 fields, saw 71\\nSkipping line 12369: expected 64 fields, saw 71\\nSkipping line 12376: expected 64 fields, saw 70\\nSkipping line 12377: expected 64 fields, saw 69\\nSkipping line 12394: expected 64 fields, saw 69\\nSkipping line 12399: expected 64 fields, saw 66\\nSkipping line 12402: expected 64 fields, saw 74\\nSkipping line 12405: expected 64 fields, saw 72\\nSkipping line 12412: expected 64 fields, saw 71\\nSkipping line 12417: expected 64 fields, saw 73\\nSkipping line 12423: expected 64 fields, saw 66\\nSkipping line 12431: expected 64 fields, saw 70\\nSkipping line 12439: expected 64 fields, saw 70\\nSkipping line 12440: expected 64 fields, saw 70\\nSkipping line 12441: expected 64 fields, saw 66\\nSkipping line 12443: expected 64 fields, saw 73\\nSkipping line 12445: expected 64 fields, saw 65\\nSkipping line 12452: expected 64 fields, saw 68\\nSkipping line 12453: expected 64 fields, saw 65\\nSkipping line 12457: expected 64 fields, saw 65\\nSkipping line 12459: expected 64 fields, saw 66\\nSkipping line 12469: expected 64 fields, saw 66\\nSkipping line 12472: expected 64 fields, saw 69\\nSkipping line 12474: expected 64 fields, saw 68\\nSkipping line 12476: expected 64 fields, saw 65\\nSkipping line 12485: expected 64 fields, saw 68\\nSkipping line 12501: expected 64 fields, saw 73\\nSkipping line 12502: expected 64 fields, saw 69\\nSkipping line 12506: expected 64 fields, saw 68\\nSkipping line 12507: expected 64 fields, saw 66\\nSkipping line 12514: expected 64 fields, saw 70\\nSkipping line 12516: expected 64 fields, saw 66\\nSkipping line 12518: expected 64 fields, saw 68\\nSkipping line 12526: expected 64 fields, saw 65\\nSkipping line 12527: expected 64 fields, saw 69\\nSkipping line 12530: expected 64 fields, saw 71\\nSkipping line 12531: expected 64 fields, saw 74\\nSkipping line 12532: expected 64 fields, saw 70\\nSkipping line 12536: expected 64 fields, saw 65\\nSkipping line 12539: expected 64 fields, saw 69\\nSkipping line 12541: expected 64 fields, saw 65\\nSkipping line 12542: expected 64 fields, saw 68\\nSkipping line 12551: expected 64 fields, saw 69\\nSkipping line 12559: expected 64 fields, saw 66\\nSkipping line 12562: expected 64 fields, saw 69\\nSkipping line 12564: expected 64 fields, saw 67\\nSkipping line 12565: expected 64 fields, saw 66\\nSkipping line 12568: expected 64 fields, saw 69\\nSkipping line 12569: expected 64 fields, saw 71\\nSkipping line 12573: expected 64 fields, saw 66\\nSkipping line 12575: expected 64 fields, saw 67\\nSkipping line 12576: expected 64 fields, saw 66\\nSkipping line 12577: expected 64 fields, saw 65\\nSkipping line 12581: expected 64 fields, saw 67\\nSkipping line 12583: expected 64 fields, saw 67\\nSkipping line 12584: expected 64 fields, saw 66\\nSkipping line 12586: expected 64 fields, saw 74\\nSkipping line 12589: expected 64 fields, saw 70\\nSkipping line 12590: expected 64 fields, saw 66\\nSkipping line 12593: expected 64 fields, saw 65\\nSkipping line 12603: expected 64 fields, saw 72\\nSkipping line 12610: expected 64 fields, saw 70\\nSkipping line 12617: expected 64 fields, saw 68\\nSkipping line 12627: expected 64 fields, saw 69\\nSkipping line 12628: expected 64 fields, saw 70\\nSkipping line 12634: expected 64 fields, saw 69\\nSkipping line 12636: expected 64 fields, saw 69\\nSkipping line 12640: expected 64 fields, saw 66\\nSkipping line 12642: expected 64 fields, saw 65\\nSkipping line 12643: expected 64 fields, saw 72\\nSkipping line 12648: expected 64 fields, saw 69\\nSkipping line 12659: expected 64 fields, saw 68\\nSkipping line 12662: expected 64 fields, saw 65\\nSkipping line 12663: expected 64 fields, saw 68\\nSkipping line 12678: expected 64 fields, saw 69\\nSkipping line 12681: expected 64 fields, saw 72\\nSkipping line 12685: expected 64 fields, saw 67\\nSkipping line 12694: expected 64 fields, saw 66\\nSkipping line 12696: expected 64 fields, saw 69\\nSkipping line 12699: expected 64 fields, saw 65\\nSkipping line 12710: expected 64 fields, saw 72\\nSkipping line 12714: expected 64 fields, saw 66\\nSkipping line 12715: expected 64 fields, saw 65\\nSkipping line 12719: expected 64 fields, saw 71\\nSkipping line 12726: expected 64 fields, saw 68\\nSkipping line 12735: expected 64 fields, saw 66\\nSkipping line 12739: expected 64 fields, saw 67\\nSkipping line 12746: expected 64 fields, saw 67\\nSkipping line 12754: expected 64 fields, saw 66\\nSkipping line 12764: expected 64 fields, saw 65\\nSkipping line 12766: expected 64 fields, saw 65\\nSkipping line 12771: expected 64 fields, saw 68\\nSkipping line 12777: expected 64 fields, saw 65\\nSkipping line 12789: expected 64 fields, saw 65\\nSkipping line 12793: expected 64 fields, saw 65\\nSkipping line 12797: expected 64 fields, saw 65\\nSkipping line 12806: expected 64 fields, saw 67\\nSkipping line 12808: expected 64 fields, saw 69\\nSkipping line 12810: expected 64 fields, saw 70\\nSkipping line 12822: expected 64 fields, saw 71\\nSkipping line 12825: expected 64 fields, saw 71\\nSkipping line 12835: expected 64 fields, saw 65\\nSkipping line 12840: expected 64 fields, saw 66\\nSkipping line 12841: expected 64 fields, saw 70\\nSkipping line 12844: expected 64 fields, saw 66\\nSkipping line 12847: expected 64 fields, saw 66\\nSkipping line 12850: expected 64 fields, saw 69\\nSkipping line 12856: expected 64 fields, saw 65\\nSkipping line 12857: expected 64 fields, saw 68\\nSkipping line 12863: expected 64 fields, saw 66\\nSkipping line 12867: expected 64 fields, saw 65\\nSkipping line 12870: expected 64 fields, saw 69\\nSkipping line 12874: expected 64 fields, saw 65\\nSkipping line 12875: expected 64 fields, saw 66\\nSkipping line 12876: expected 64 fields, saw 66\\nSkipping line 12877: expected 64 fields, saw 68\\nSkipping line 12882: expected 64 fields, saw 68\\nSkipping line 12887: expected 64 fields, saw 67\\nSkipping line 12889: expected 64 fields, saw 66\\nSkipping line 12893: expected 64 fields, saw 66\\nSkipping line 12894: expected 64 fields, saw 66\\nSkipping line 12896: expected 64 fields, saw 69\\nSkipping line 12899: expected 64 fields, saw 72\\nSkipping line 12903: expected 64 fields, saw 72\\nSkipping line 12906: expected 64 fields, saw 73\\nSkipping line 12907: expected 64 fields, saw 66\\nSkipping line 12916: expected 64 fields, saw 68\\nSkipping line 12917: expected 64 fields, saw 65\\nSkipping line 12921: expected 64 fields, saw 66\\nSkipping line 12924: expected 64 fields, saw 66\\nSkipping line 12925: expected 64 fields, saw 69\\nSkipping line 12926: expected 64 fields, saw 71\\nSkipping line 12927: expected 64 fields, saw 71\\nSkipping line 12931: expected 64 fields, saw 66\\nSkipping line 12934: expected 64 fields, saw 67\\nSkipping line 12940: expected 64 fields, saw 65\\nSkipping line 12942: expected 64 fields, saw 67\\nSkipping line 12945: expected 64 fields, saw 69\\nSkipping line 12946: expected 64 fields, saw 66\\nSkipping line 12949: expected 64 fields, saw 65\\nSkipping line 12951: expected 64 fields, saw 65\\nSkipping line 12957: expected 64 fields, saw 66\\nSkipping line 12958: expected 64 fields, saw 66\\nSkipping line 12959: expected 64 fields, saw 68\\nSkipping line 12960: expected 64 fields, saw 70\\nSkipping line 12966: expected 64 fields, saw 68\\nSkipping line 12967: expected 64 fields, saw 69\\nSkipping line 12968: expected 64 fields, saw 68\\nSkipping line 12969: expected 64 fields, saw 71\\nSkipping line 12974: expected 64 fields, saw 66\\nSkipping line 12978: expected 64 fields, saw 67\\nSkipping line 12980: expected 64 fields, saw 72\\nSkipping line 13030: expected 64 fields, saw 70\\nSkipping line 13031: expected 64 fields, saw 70\\nSkipping line 13039: expected 64 fields, saw 66\\nSkipping line 13053: expected 64 fields, saw 67\\nSkipping line 13054: expected 64 fields, saw 70\\nSkipping line 13055: expected 64 fields, saw 66\\nSkipping line 13057: expected 64 fields, saw 70\\nSkipping line 13065: expected 64 fields, saw 67\\nSkipping line 13073: expected 64 fields, saw 66\\nSkipping line 13081: expected 64 fields, saw 65\\nSkipping line 13083: expected 64 fields, saw 66\\nSkipping line 13092: expected 64 fields, saw 69\\nSkipping line 13094: expected 64 fields, saw 67\\nSkipping line 13096: expected 64 fields, saw 69\\nSkipping line 13098: expected 64 fields, saw 71\\nSkipping line 13108: expected 64 fields, saw 69\\nSkipping line 13110: expected 64 fields, saw 68\\nSkipping line 13115: expected 64 fields, saw 75\\nSkipping line 13116: expected 64 fields, saw 65\\nSkipping line 13119: expected 64 fields, saw 65\\nSkipping line 13121: expected 64 fields, saw 67\\nSkipping line 13132: expected 64 fields, saw 68\\nSkipping line 13140: expected 64 fields, saw 66\\nSkipping line 13145: expected 64 fields, saw 76\\nSkipping line 13151: expected 64 fields, saw 65\\nSkipping line 13155: expected 64 fields, saw 67\\nSkipping line 13161: expected 64 fields, saw 69\\nSkipping line 13171: expected 64 fields, saw 66\\nSkipping line 13178: expected 64 fields, saw 65\\nSkipping line 13179: expected 64 fields, saw 71\\nSkipping line 13196: expected 64 fields, saw 72\\nSkipping line 13197: expected 64 fields, saw 66\\nSkipping line 13203: expected 64 fields, saw 68\\nSkipping line 13205: expected 64 fields, saw 66\\nSkipping line 13210: expected 64 fields, saw 68\\nSkipping line 13211: expected 64 fields, saw 67\\nSkipping line 13216: expected 64 fields, saw 67\\nSkipping line 13217: expected 64 fields, saw 66\\nSkipping line 13218: expected 64 fields, saw 67\\nSkipping line 13223: expected 64 fields, saw 68\\nSkipping line 13225: expected 64 fields, saw 69\\nSkipping line 13227: expected 64 fields, saw 66\\nSkipping line 13228: expected 64 fields, saw 66\\nSkipping line 13229: expected 64 fields, saw 70\\nSkipping line 13232: expected 64 fields, saw 66\\nSkipping line 13233: expected 64 fields, saw 72\\nSkipping line 13239: expected 64 fields, saw 65\\nSkipping line 13255: expected 64 fields, saw 65\\nSkipping line 13268: expected 64 fields, saw 65\\nSkipping line 13269: expected 64 fields, saw 66\\nSkipping line 13274: expected 64 fields, saw 66\\nSkipping line 13279: expected 64 fields, saw 67\\nSkipping line 13281: expected 64 fields, saw 69\\nSkipping line 13283: expected 64 fields, saw 69\\nSkipping line 13287: expected 64 fields, saw 72\\nSkipping line 13292: expected 64 fields, saw 68\\nSkipping line 13298: expected 64 fields, saw 68\\nSkipping line 13302: expected 64 fields, saw 69\\nSkipping line 13312: expected 64 fields, saw 65\\nSkipping line 13317: expected 64 fields, saw 69\\nSkipping line 13318: expected 64 fields, saw 65\\nSkipping line 13319: expected 64 fields, saw 68\\nSkipping line 13320: expected 64 fields, saw 66\\nSkipping line 13326: expected 64 fields, saw 69\\nSkipping line 13329: expected 64 fields, saw 66\\nSkipping line 13332: expected 64 fields, saw 66\\nSkipping line 13338: expected 64 fields, saw 66\\nSkipping line 13342: expected 64 fields, saw 72\\nSkipping line 13343: expected 64 fields, saw 67\\nSkipping line 13349: expected 64 fields, saw 68\\nSkipping line 13350: expected 64 fields, saw 67\\nSkipping line 13361: expected 64 fields, saw 67\\nSkipping line 13362: expected 64 fields, saw 70\\nSkipping line 13369: expected 64 fields, saw 65\\nSkipping line 13373: expected 64 fields, saw 69\\nSkipping line 13374: expected 64 fields, saw 70\\nSkipping line 13376: expected 64 fields, saw 65\\nSkipping line 13377: expected 64 fields, saw 68\\nSkipping line 13382: expected 64 fields, saw 66\\nSkipping line 13383: expected 64 fields, saw 70\\nSkipping line 13384: expected 64 fields, saw 68\\nSkipping line 13408: expected 64 fields, saw 67\\nSkipping line 13410: expected 64 fields, saw 66\\nSkipping line 13411: expected 64 fields, saw 65\\nSkipping line 13427: expected 64 fields, saw 68\\nSkipping line 13446: expected 64 fields, saw 66\\nSkipping line 13450: expected 64 fields, saw 70\\nSkipping line 13451: expected 64 fields, saw 67\\nSkipping line 13453: expected 64 fields, saw 72\\nSkipping line 13455: expected 64 fields, saw 67\\nSkipping line 13464: expected 64 fields, saw 67\\nSkipping line 13476: expected 64 fields, saw 66\\nSkipping line 13484: expected 64 fields, saw 68\\nSkipping line 13485: expected 64 fields, saw 70\\nSkipping line 13490: expected 64 fields, saw 71\\nSkipping line 13491: expected 64 fields, saw 66\\nSkipping line 13520: expected 64 fields, saw 66\\nSkipping line 13524: expected 64 fields, saw 70\\nSkipping line 13528: expected 64 fields, saw 65\\nSkipping line 13536: expected 64 fields, saw 66\\nSkipping line 13537: expected 64 fields, saw 67\\nSkipping line 13538: expected 64 fields, saw 66\\nSkipping line 13541: expected 64 fields, saw 66\\nSkipping line 13543: expected 64 fields, saw 67\\nSkipping line 13544: expected 64 fields, saw 68\\nSkipping line 13547: expected 64 fields, saw 65\\nSkipping line 13549: expected 64 fields, saw 75\\nSkipping line 13582: expected 64 fields, saw 68\\nSkipping line 13583: expected 64 fields, saw 69\\nSkipping line 13591: expected 64 fields, saw 65\\nSkipping line 13601: expected 64 fields, saw 67\\nSkipping line 13608: expected 64 fields, saw 67\\nSkipping line 13609: expected 64 fields, saw 66\\nSkipping line 13610: expected 64 fields, saw 69\\nSkipping line 13611: expected 64 fields, saw 71\\nSkipping line 13613: expected 64 fields, saw 66\\nSkipping line 13618: expected 64 fields, saw 67\\nSkipping line 13620: expected 64 fields, saw 68\\nSkipping line 13621: expected 64 fields, saw 68\\nSkipping line 13624: expected 64 fields, saw 73\\nSkipping line 13637: expected 64 fields, saw 68\\nSkipping line 13639: expected 64 fields, saw 65\\nSkipping line 13640: expected 64 fields, saw 68\\nSkipping line 13641: expected 64 fields, saw 65\\nSkipping line 13642: expected 64 fields, saw 67\\nSkipping line 13643: expected 64 fields, saw 67\\nSkipping line 13650: expected 64 fields, saw 69\\nSkipping line 13653: expected 64 fields, saw 67\\nSkipping line 13654: expected 64 fields, saw 66\\nSkipping line 13656: expected 64 fields, saw 68\\nSkipping line 13657: expected 64 fields, saw 75\\nSkipping line 13661: expected 64 fields, saw 71\\nSkipping line 13662: expected 64 fields, saw 65\\nSkipping line 13663: expected 64 fields, saw 65\\nSkipping line 13668: expected 64 fields, saw 66\\nSkipping line 13676: expected 64 fields, saw 66\\nSkipping line 13678: expected 64 fields, saw 66\\nSkipping line 13679: expected 64 fields, saw 65\\nSkipping line 13686: expected 64 fields, saw 66\\nSkipping line 13688: expected 64 fields, saw 65\\nSkipping line 13691: expected 64 fields, saw 74\\nSkipping line 13692: expected 64 fields, saw 73\\nSkipping line 13693: expected 64 fields, saw 65\\nSkipping line 13696: expected 64 fields, saw 67\\nSkipping line 13697: expected 64 fields, saw 65\\nSkipping line 13703: expected 64 fields, saw 74\\nSkipping line 13704: expected 64 fields, saw 66\\nSkipping line 13705: expected 64 fields, saw 65\\nSkipping line 13706: expected 64 fields, saw 68\\nSkipping line 13707: expected 64 fields, saw 68\\nSkipping line 13709: expected 64 fields, saw 69\\nSkipping line 13716: expected 64 fields, saw 66\\nSkipping line 13723: expected 64 fields, saw 66\\nSkipping line 13724: expected 64 fields, saw 67\\nSkipping line 13726: expected 64 fields, saw 67\\nSkipping line 13728: expected 64 fields, saw 66\\nSkipping line 13729: expected 64 fields, saw 72\\nSkipping line 13730: expected 64 fields, saw 66\\nSkipping line 13735: expected 64 fields, saw 74\\nSkipping line 13738: expected 64 fields, saw 68\\nSkipping line 13740: expected 64 fields, saw 67\\nSkipping line 13741: expected 64 fields, saw 72\\nSkipping line 13744: expected 64 fields, saw 75\\nSkipping line 13745: expected 64 fields, saw 69\\nSkipping line 13754: expected 64 fields, saw 69\\nSkipping line 13758: expected 64 fields, saw 65\\nSkipping line 13759: expected 64 fields, saw 66\\nSkipping line 13760: expected 64 fields, saw 69\\nSkipping line 13764: expected 64 fields, saw 65\\nSkipping line 13772: expected 64 fields, saw 67\\nSkipping line 13775: expected 64 fields, saw 69\\nSkipping line 13777: expected 64 fields, saw 66\\nSkipping line 13779: expected 64 fields, saw 65\\nSkipping line 13780: expected 64 fields, saw 68\\nSkipping line 13781: expected 64 fields, saw 70\\nSkipping line 13786: expected 64 fields, saw 69\\nSkipping line 13788: expected 64 fields, saw 66\\nSkipping line 13792: expected 64 fields, saw 70\\nSkipping line 13793: expected 64 fields, saw 68\\nSkipping line 13795: expected 64 fields, saw 67\\nSkipping line 13800: expected 64 fields, saw 67\\nSkipping line 13802: expected 64 fields, saw 68\\nSkipping line 13805: expected 64 fields, saw 67\\nSkipping line 13811: expected 64 fields, saw 69\\nSkipping line 13812: expected 64 fields, saw 65\\nSkipping line 13814: expected 64 fields, saw 67\\nSkipping line 13821: expected 64 fields, saw 67\\nSkipping line 13825: expected 64 fields, saw 66\\nSkipping line 13827: expected 64 fields, saw 66\\nSkipping line 13829: expected 64 fields, saw 68\\nSkipping line 13832: expected 64 fields, saw 72\\nSkipping line 13836: expected 64 fields, saw 65\\nSkipping line 13838: expected 64 fields, saw 67\\nSkipping line 13840: expected 64 fields, saw 66\\nSkipping line 13841: expected 64 fields, saw 69\\nSkipping line 13844: expected 64 fields, saw 71\\nSkipping line 13846: expected 64 fields, saw 66\\nSkipping line 13847: expected 64 fields, saw 67\\nSkipping line 13848: expected 64 fields, saw 67\\nSkipping line 13857: expected 64 fields, saw 70\\nSkipping line 13858: expected 64 fields, saw 68\\nSkipping line 13859: expected 64 fields, saw 70\\nSkipping line 13873: expected 64 fields, saw 65\\nSkipping line 13879: expected 64 fields, saw 66\\nSkipping line 13888: expected 64 fields, saw 66\\nSkipping line 13896: expected 64 fields, saw 66\\nSkipping line 13904: expected 64 fields, saw 67\\nSkipping line 13913: expected 64 fields, saw 68\\nSkipping line 13914: expected 64 fields, saw 65\\nSkipping line 13916: expected 64 fields, saw 68\\nSkipping line 13919: expected 64 fields, saw 69\\nSkipping line 13920: expected 64 fields, saw 72\\nSkipping line 13933: expected 64 fields, saw 65\\nSkipping line 13939: expected 64 fields, saw 74\\nSkipping line 13943: expected 64 fields, saw 66\\nSkipping line 13944: expected 64 fields, saw 69\\nSkipping line 13949: expected 64 fields, saw 68\\nSkipping line 13952: expected 64 fields, saw 66\\nSkipping line 13954: expected 64 fields, saw 70\\nSkipping line 13957: expected 64 fields, saw 67\\nSkipping line 13989: expected 64 fields, saw 66\\nSkipping line 13992: expected 64 fields, saw 71\\nSkipping line 13995: expected 64 fields, saw 67\\nSkipping line 14008: expected 64 fields, saw 70\\nSkipping line 14016: expected 64 fields, saw 69\\nSkipping line 14018: expected 64 fields, saw 67\\nSkipping line 14021: expected 64 fields, saw 69\\nSkipping line 14024: expected 64 fields, saw 68\\nSkipping line 14025: expected 64 fields, saw 66\\nSkipping line 14027: expected 64 fields, saw 67\\nSkipping line 14028: expected 64 fields, saw 68\\nSkipping line 14031: expected 64 fields, saw 68\\nSkipping line 14033: expected 64 fields, saw 71\\nSkipping line 14040: expected 64 fields, saw 66\\nSkipping line 14041: expected 64 fields, saw 65\\nSkipping line 14044: expected 64 fields, saw 70\\nSkipping line 14054: expected 64 fields, saw 65\\nSkipping line 14080: expected 64 fields, saw 65\\nSkipping line 14088: expected 64 fields, saw 66\\nSkipping line 14089: expected 64 fields, saw 70\\nSkipping line 14098: expected 64 fields, saw 67\\nSkipping line 14140: expected 64 fields, saw 67\\nSkipping line 14146: expected 64 fields, saw 65\\nSkipping line 14165: expected 64 fields, saw 65\\nSkipping line 14173: expected 64 fields, saw 66\\nSkipping line 14196: expected 64 fields, saw 73\\nSkipping line 14308: expected 64 fields, saw 67\\nSkipping line 14312: expected 64 fields, saw 65\\nSkipping line 14321: expected 64 fields, saw 71\\nSkipping line 14324: expected 64 fields, saw 67\\nSkipping line 14327: expected 64 fields, saw 91\\nSkipping line 14328: expected 64 fields, saw 65\\nSkipping line 14334: expected 64 fields, saw 65\\nSkipping line 14335: expected 64 fields, saw 69\\nSkipping line 14336: expected 64 fields, saw 68\\nSkipping line 14344: expected 64 fields, saw 67\\nSkipping line 14346: expected 64 fields, saw 65\\nSkipping line 14351: expected 64 fields, saw 68\\nSkipping line 14354: expected 64 fields, saw 68\\nSkipping line 14362: expected 64 fields, saw 66\\nSkipping line 14363: expected 64 fields, saw 67\\nSkipping line 14364: expected 64 fields, saw 72\\nSkipping line 14366: expected 64 fields, saw 67\\nSkipping line 14391: expected 64 fields, saw 67\\nSkipping line 14394: expected 64 fields, saw 68\\nSkipping line 14395: expected 64 fields, saw 75\\nSkipping line 14398: expected 64 fields, saw 71\\nSkipping line 14399: expected 64 fields, saw 67\\nSkipping line 14401: expected 64 fields, saw 70\\nSkipping line 14404: expected 64 fields, saw 67\\nSkipping line 14405: expected 64 fields, saw 67\\nSkipping line 14411: expected 64 fields, saw 68\\nSkipping line 14413: expected 64 fields, saw 68\\nSkipping line 14415: expected 64 fields, saw 69\\nSkipping line 14422: expected 64 fields, saw 69\\nSkipping line 14432: expected 64 fields, saw 69\\nSkipping line 14433: expected 64 fields, saw 68\\nSkipping line 14445: expected 64 fields, saw 68\\nSkipping line 14446: expected 64 fields, saw 66\\nSkipping line 14447: expected 64 fields, saw 68\\nSkipping line 14452: expected 64 fields, saw 69\\nSkipping line 14453: expected 64 fields, saw 69\\nSkipping line 14459: expected 64 fields, saw 67\\nSkipping line 14462: expected 64 fields, saw 71\\nSkipping line 14466: expected 64 fields, saw 66\\nSkipping line 14468: expected 64 fields, saw 68\\nSkipping line 14474: expected 64 fields, saw 67\\nSkipping line 14479: expected 64 fields, saw 68\\nSkipping line 14484: expected 64 fields, saw 68\\nSkipping line 14487: expected 64 fields, saw 68\\nSkipping line 14491: expected 64 fields, saw 72\\nSkipping line 14501: expected 64 fields, saw 67\\nSkipping line 14502: expected 64 fields, saw 74\\nSkipping line 14504: expected 64 fields, saw 65\\nSkipping line 14507: expected 64 fields, saw 72\\nSkipping line 14512: expected 64 fields, saw 85\\nSkipping line 14527: expected 64 fields, saw 71\\nSkipping line 14538: expected 64 fields, saw 65\\nSkipping line 14555: expected 64 fields, saw 65\\nSkipping line 14558: expected 64 fields, saw 67\\nSkipping line 14560: expected 64 fields, saw 70\\nSkipping line 14572: expected 64 fields, saw 69\\nSkipping line 14579: expected 64 fields, saw 65\\nSkipping line 14584: expected 64 fields, saw 66\\nSkipping line 14585: expected 64 fields, saw 70\\nSkipping line 14589: expected 64 fields, saw 68\\nSkipping line 14591: expected 64 fields, saw 67\\nSkipping line 14595: expected 64 fields, saw 66\\nSkipping line 14597: expected 64 fields, saw 70\\nSkipping line 14598: expected 64 fields, saw 67\\nSkipping line 14599: expected 64 fields, saw 70\\nSkipping line 14610: expected 64 fields, saw 74\\nSkipping line 14611: expected 64 fields, saw 66\\nSkipping line 14625: expected 64 fields, saw 67\\nSkipping line 14627: expected 64 fields, saw 65\\nSkipping line 14629: expected 64 fields, saw 66\\nSkipping line 14638: expected 64 fields, saw 80\\nSkipping line 14641: expected 64 fields, saw 93\\nSkipping line 14644: expected 64 fields, saw 78\\nSkipping line 14653: expected 64 fields, saw 66\\nSkipping line 14655: expected 64 fields, saw 68\\nSkipping line 14661: expected 64 fields, saw 65\\nSkipping line 14662: expected 64 fields, saw 67\\nSkipping line 14663: expected 64 fields, saw 69\\nSkipping line 14665: expected 64 fields, saw 71\\nSkipping line 14667: expected 64 fields, saw 69\\nSkipping line 14669: expected 64 fields, saw 65\\nSkipping line 14687: expected 64 fields, saw 68\\nSkipping line 14691: expected 64 fields, saw 70\\nSkipping line 14694: expected 64 fields, saw 66\\nSkipping line 14696: expected 64 fields, saw 65\\nSkipping line 14699: expected 64 fields, saw 66\\nSkipping line 14705: expected 64 fields, saw 66\\nSkipping line 14706: expected 64 fields, saw 69\\nSkipping line 14712: expected 64 fields, saw 65\\nSkipping line 14769: expected 64 fields, saw 67\\nSkipping line 14837: expected 64 fields, saw 72\\nSkipping line 14848: expected 64 fields, saw 82\\nSkipping line 14858: expected 64 fields, saw 69\\nSkipping line 14860: expected 64 fields, saw 71\\nSkipping line 14865: expected 64 fields, saw 67\\nSkipping line 14870: expected 64 fields, saw 65\\nSkipping line 14881: expected 64 fields, saw 66\\nSkipping line 14900: expected 64 fields, saw 70\\nSkipping line 14901: expected 64 fields, saw 70\\nSkipping line 14903: expected 64 fields, saw 68\\nSkipping line 14904: expected 64 fields, saw 67\\nSkipping line 14963: expected 64 fields, saw 68\\nSkipping line 14964: expected 64 fields, saw 65\\nSkipping line 14966: expected 64 fields, saw 70\\nSkipping line 14969: expected 64 fields, saw 65\\nSkipping line 14974: expected 64 fields, saw 67\\nSkipping line 14998: expected 64 fields, saw 65\\nSkipping line 15005: expected 64 fields, saw 65\\nSkipping line 15027: expected 64 fields, saw 73\\nSkipping line 15030: expected 64 fields, saw 65\\nSkipping line 15033: expected 64 fields, saw 65\\nSkipping line 15037: expected 64 fields, saw 67\\nSkipping line 15040: expected 64 fields, saw 67\\nSkipping line 15041: expected 64 fields, saw 65\\nSkipping line 15047: expected 64 fields, saw 65\\nSkipping line 15059: expected 64 fields, saw 70\\nSkipping line 15063: expected 64 fields, saw 68\\nSkipping line 15064: expected 64 fields, saw 68\\nSkipping line 15065: expected 64 fields, saw 67\\nSkipping line 15067: expected 64 fields, saw 65\\nSkipping line 15068: expected 64 fields, saw 66\\nSkipping line 15077: expected 64 fields, saw 66\\nSkipping line 15080: expected 64 fields, saw 65\\nSkipping line 15084: expected 64 fields, saw 76\\nSkipping line 15085: expected 64 fields, saw 65\\nSkipping line 15086: expected 64 fields, saw 69\\nSkipping line 15088: expected 64 fields, saw 70\\nSkipping line 15091: expected 64 fields, saw 65\\nSkipping line 15093: expected 64 fields, saw 72\\nSkipping line 15108: expected 64 fields, saw 65\\nSkipping line 15111: expected 64 fields, saw 68\\nSkipping line 15113: expected 64 fields, saw 79\\nSkipping line 15114: expected 64 fields, saw 70\\nSkipping line 15115: expected 64 fields, saw 69\\nSkipping line 15117: expected 64 fields, saw 65\\nSkipping line 15120: expected 64 fields, saw 66\\nSkipping line 15144: expected 64 fields, saw 66\\nSkipping line 15154: expected 64 fields, saw 69\\nSkipping line 15155: expected 64 fields, saw 69\\nSkipping line 15157: expected 64 fields, saw 72\\nSkipping line 15163: expected 64 fields, saw 71\\nSkipping line 15168: expected 64 fields, saw 65\\nSkipping line 15169: expected 64 fields, saw 65\\nSkipping line 15172: expected 64 fields, saw 65\\nSkipping line 15173: expected 64 fields, saw 68\\nSkipping line 15176: expected 64 fields, saw 68\\nSkipping line 15178: expected 64 fields, saw 66\\nSkipping line 15179: expected 64 fields, saw 66\\nSkipping line 15184: expected 64 fields, saw 70\\nSkipping line 15185: expected 64 fields, saw 70\\nSkipping line 15187: expected 64 fields, saw 67\\nSkipping line 15189: expected 64 fields, saw 74\\nSkipping line 15196: expected 64 fields, saw 67\\nSkipping line 15197: expected 64 fields, saw 68\\nSkipping line 15198: expected 64 fields, saw 70\\nSkipping line 15203: expected 64 fields, saw 69\\nSkipping line 15208: expected 64 fields, saw 69\\nSkipping line 15211: expected 64 fields, saw 66\\nSkipping line 15217: expected 64 fields, saw 66\\nSkipping line 15222: expected 64 fields, saw 65\\nSkipping line 15227: expected 64 fields, saw 67\\nSkipping line 15229: expected 64 fields, saw 65\\nSkipping line 15231: expected 64 fields, saw 67\\nSkipping line 15232: expected 64 fields, saw 66\\nSkipping line 15240: expected 64 fields, saw 71\\nSkipping line 15245: expected 64 fields, saw 67\\nSkipping line 15246: expected 64 fields, saw 72\\nSkipping line 15247: expected 64 fields, saw 69\\nSkipping line 15262: expected 64 fields, saw 71\\nSkipping line 15264: expected 64 fields, saw 67\\nSkipping line 15265: expected 64 fields, saw 68\\nSkipping line 15286: expected 64 fields, saw 65\\nSkipping line 15288: expected 64 fields, saw 73\\nSkipping line 15289: expected 64 fields, saw 72\\nSkipping line 15290: expected 64 fields, saw 67\\nSkipping line 15292: expected 64 fields, saw 65\\nSkipping line 15293: expected 64 fields, saw 68\\nSkipping line 15294: expected 64 fields, saw 67\\nSkipping line 15296: expected 64 fields, saw 69\\nSkipping line 15302: expected 64 fields, saw 67\\nSkipping line 15304: expected 64 fields, saw 67\\nSkipping line 15305: expected 64 fields, saw 70\\nSkipping line 15309: expected 64 fields, saw 72\\nSkipping line 15311: expected 64 fields, saw 77\\nSkipping line 15315: expected 64 fields, saw 70\\nSkipping line 15318: expected 64 fields, saw 72\\nSkipping line 15320: expected 64 fields, saw 68\\nSkipping line 15323: expected 64 fields, saw 69\\nSkipping line 15327: expected 64 fields, saw 65\\nSkipping line 15328: expected 64 fields, saw 75\\nSkipping line 15331: expected 64 fields, saw 76\\nSkipping line 15332: expected 64 fields, saw 65\\nSkipping line 15333: expected 64 fields, saw 73\\nSkipping line 15335: expected 64 fields, saw 66\\nSkipping line 15343: expected 64 fields, saw 73\\nSkipping line 15345: expected 64 fields, saw 69\\nSkipping line 15348: expected 64 fields, saw 65\\nSkipping line 15349: expected 64 fields, saw 67\\nSkipping line 15370: expected 64 fields, saw 65\\nSkipping line 15372: expected 64 fields, saw 65\\nSkipping line 15377: expected 64 fields, saw 71\\nSkipping line 15378: expected 64 fields, saw 67\\nSkipping line 15379: expected 64 fields, saw 66\\nSkipping line 15382: expected 64 fields, saw 70\\nSkipping line 15386: expected 64 fields, saw 66\\nSkipping line 15387: expected 64 fields, saw 66\\nSkipping line 15393: expected 64 fields, saw 67\\nSkipping line 15394: expected 64 fields, saw 70\\nSkipping line 15395: expected 64 fields, saw 72\\nSkipping line 15400: expected 64 fields, saw 65\\nSkipping line 15402: expected 64 fields, saw 65\\nSkipping line 15416: expected 64 fields, saw 68\\nSkipping line 15418: expected 64 fields, saw 66\\nSkipping line 15420: expected 64 fields, saw 73\\nSkipping line 15427: expected 64 fields, saw 66\\nSkipping line 15428: expected 64 fields, saw 67\\nSkipping line 15430: expected 64 fields, saw 70\\nSkipping line 15439: expected 64 fields, saw 68\\nSkipping line 15441: expected 64 fields, saw 65\\nSkipping line 15443: expected 64 fields, saw 69\\nSkipping line 15453: expected 64 fields, saw 66\\nSkipping line 15455: expected 64 fields, saw 66\\nSkipping line 15469: expected 64 fields, saw 65\\nSkipping line 15471: expected 64 fields, saw 72\\nSkipping line 15472: expected 64 fields, saw 68\\nSkipping line 15476: expected 64 fields, saw 65\\nSkipping line 15480: expected 64 fields, saw 75\\nSkipping line 15481: expected 64 fields, saw 70\\nSkipping line 15487: expected 64 fields, saw 69\\nSkipping line 15490: expected 64 fields, saw 70\\nSkipping line 15493: expected 64 fields, saw 66\\nSkipping line 15503: expected 64 fields, saw 72\\nSkipping line 15504: expected 64 fields, saw 71\\nSkipping line 15512: expected 64 fields, saw 66\\nSkipping line 15514: expected 64 fields, saw 67\\nSkipping line 15515: expected 64 fields, saw 65\\nSkipping line 15516: expected 64 fields, saw 67\\nSkipping line 15517: expected 64 fields, saw 69\\nSkipping line 15521: expected 64 fields, saw 69\\nSkipping line 15527: expected 64 fields, saw 67\\nSkipping line 15528: expected 64 fields, saw 66\\nSkipping line 15531: expected 64 fields, saw 66\\nSkipping line 15532: expected 64 fields, saw 67\\nSkipping line 15533: expected 64 fields, saw 71\\nSkipping line 15545: expected 64 fields, saw 67\\nSkipping line 15547: expected 64 fields, saw 69\\nSkipping line 15550: expected 64 fields, saw 66\\nSkipping line 15551: expected 64 fields, saw 69\\nSkipping line 15553: expected 64 fields, saw 69\\nSkipping line 15554: expected 64 fields, saw 69\\nSkipping line 15555: expected 64 fields, saw 68\\nSkipping line 15557: expected 64 fields, saw 69\\nSkipping line 15561: expected 64 fields, saw 69\\nSkipping line 15582: expected 64 fields, saw 67\\nSkipping line 15589: expected 64 fields, saw 67\\nSkipping line 15590: expected 64 fields, saw 71\\nSkipping line 15591: expected 64 fields, saw 69\\nSkipping line 15592: expected 64 fields, saw 68\\nSkipping line 15593: expected 64 fields, saw 68\\nSkipping line 15594: expected 64 fields, saw 68\\nSkipping line 15595: expected 64 fields, saw 65\\nSkipping line 15601: expected 64 fields, saw 67\\nSkipping line 15602: expected 64 fields, saw 66\\nSkipping line 15607: expected 64 fields, saw 67\\nSkipping line 15608: expected 64 fields, saw 65\\nSkipping line 15612: expected 64 fields, saw 67\\nSkipping line 15616: expected 64 fields, saw 69\\nSkipping line 15624: expected 64 fields, saw 67\\nSkipping line 15651: expected 64 fields, saw 65\\nSkipping line 15652: expected 64 fields, saw 70\\nSkipping line 15655: expected 64 fields, saw 70\\nSkipping line 15657: expected 64 fields, saw 67\\nSkipping line 15658: expected 64 fields, saw 65\\nSkipping line 15662: expected 64 fields, saw 69\\nSkipping line 15663: expected 64 fields, saw 68\\nSkipping line 15664: expected 64 fields, saw 66\\nSkipping line 15666: expected 64 fields, saw 67\\nSkipping line 15677: expected 64 fields, saw 65\\nSkipping line 15698: expected 64 fields, saw 69\\nSkipping line 15703: expected 64 fields, saw 67\\nSkipping line 15707: expected 64 fields, saw 65\\nSkipping line 15717: expected 64 fields, saw 67\\nSkipping line 15738: expected 64 fields, saw 67\\nSkipping line 15740: expected 64 fields, saw 68\\nSkipping line 15748: expected 64 fields, saw 66\\nSkipping line 15749: expected 64 fields, saw 66\\nSkipping line 15758: expected 64 fields, saw 66\\nSkipping line 15760: expected 64 fields, saw 65\\nSkipping line 15763: expected 64 fields, saw 65\\nSkipping line 15776: expected 64 fields, saw 65\\nSkipping line 15789: expected 64 fields, saw 68\\nSkipping line 15791: expected 64 fields, saw 73\\nSkipping line 15793: expected 64 fields, saw 73\\nSkipping line 15794: expected 64 fields, saw 65\\nSkipping line 15795: expected 64 fields, saw 69\\nSkipping line 15799: expected 64 fields, saw 69\\nSkipping line 15802: expected 64 fields, saw 66\\nSkipping line 15803: expected 64 fields, saw 67\\nSkipping line 15809: expected 64 fields, saw 66\\nSkipping line 15813: expected 64 fields, saw 67\\nSkipping line 15815: expected 64 fields, saw 73\\nSkipping line 15821: expected 64 fields, saw 65\\nSkipping line 15823: expected 64 fields, saw 73\\nSkipping line 15826: expected 64 fields, saw 65\\nSkipping line 15831: expected 64 fields, saw 68\\nSkipping line 15837: expected 64 fields, saw 72\\nSkipping line 15838: expected 64 fields, saw 66\\nSkipping line 15867: expected 64 fields, saw 68\\nSkipping line 15871: expected 64 fields, saw 65\\nSkipping line 15876: expected 64 fields, saw 69\\nSkipping line 15877: expected 64 fields, saw 65\\nSkipping line 15879: expected 64 fields, saw 65\\nSkipping line 15900: expected 64 fields, saw 67\\nSkipping line 15904: expected 64 fields, saw 65\\nSkipping line 15908: expected 64 fields, saw 71\\nSkipping line 15935: expected 64 fields, saw 65\\nSkipping line 15945: expected 64 fields, saw 71\\nSkipping line 15948: expected 64 fields, saw 67\\nSkipping line 15949: expected 64 fields, saw 70\\nSkipping line 15954: expected 64 fields, saw 68\\nSkipping line 15956: expected 64 fields, saw 67\\nSkipping line 15957: expected 64 fields, saw 66\\nSkipping line 15991: expected 64 fields, saw 75\\nSkipping line 16004: expected 64 fields, saw 71\\nSkipping line 16005: expected 64 fields, saw 66\\nSkipping line 16014: expected 64 fields, saw 65\\nSkipping line 16015: expected 64 fields, saw 66\\nSkipping line 16021: expected 64 fields, saw 75\\nSkipping line 16024: expected 64 fields, saw 69\\nSkipping line 16027: expected 64 fields, saw 66\\nSkipping line 16050: expected 64 fields, saw 65\\nSkipping line 16051: expected 64 fields, saw 65\\nSkipping line 16055: expected 64 fields, saw 68\\nSkipping line 16061: expected 64 fields, saw 66\\nSkipping line 16065: expected 64 fields, saw 65\\nSkipping line 16067: expected 64 fields, saw 68\\nSkipping line 16069: expected 64 fields, saw 67\\nSkipping line 16070: expected 64 fields, saw 65\\nSkipping line 16075: expected 64 fields, saw 71\\nSkipping line 16085: expected 64 fields, saw 68\\nSkipping line 16086: expected 64 fields, saw 66\\nSkipping line 16094: expected 64 fields, saw 71\\nSkipping line 16095: expected 64 fields, saw 65\\nSkipping line 16108: expected 64 fields, saw 67\\nSkipping line 16115: expected 64 fields, saw 67\\nSkipping line 16118: expected 64 fields, saw 67\\nSkipping line 16120: expected 64 fields, saw 70\\nSkipping line 16121: expected 64 fields, saw 70\\nSkipping line 16164: expected 64 fields, saw 66\\nSkipping line 16170: expected 64 fields, saw 65\\nSkipping line 16175: expected 64 fields, saw 70\\nSkipping line 16178: expected 64 fields, saw 65\\nSkipping line 16183: expected 64 fields, saw 70\\nSkipping line 16188: expected 64 fields, saw 67\\nSkipping line 16198: expected 64 fields, saw 70\\nSkipping line 16199: expected 64 fields, saw 65\\nSkipping line 16225: expected 64 fields, saw 73\\nSkipping line 16226: expected 64 fields, saw 68\\nSkipping line 16231: expected 64 fields, saw 70\\nSkipping line 16242: expected 64 fields, saw 67\\nSkipping line 16251: expected 64 fields, saw 66\\nSkipping line 16256: expected 64 fields, saw 74\\nSkipping line 16265: expected 64 fields, saw 65\\nSkipping line 16267: expected 64 fields, saw 74\\nSkipping line 16269: expected 64 fields, saw 65\\nSkipping line 16275: expected 64 fields, saw 65\\nSkipping line 16279: expected 64 fields, saw 65\\nSkipping line 16283: expected 64 fields, saw 71\\nSkipping line 16297: expected 64 fields, saw 66\\nSkipping line 16302: expected 64 fields, saw 65\\nSkipping line 16342: expected 64 fields, saw 66\\nSkipping line 16343: expected 64 fields, saw 71\\nSkipping line 16344: expected 64 fields, saw 71\\nSkipping line 16346: expected 64 fields, saw 67\\nSkipping line 16348: expected 64 fields, saw 66\\nSkipping line 16357: expected 64 fields, saw 66\\nSkipping line 16368: expected 64 fields, saw 65\\nSkipping line 16376: expected 64 fields, saw 69\\nSkipping line 16387: expected 64 fields, saw 68\\nSkipping line 16391: expected 64 fields, saw 66\\nSkipping line 16392: expected 64 fields, saw 72\\nSkipping line 16394: expected 64 fields, saw 66\\nSkipping line 16398: expected 64 fields, saw 68\\nSkipping line 16399: expected 64 fields, saw 69\\nSkipping line 16400: expected 64 fields, saw 68\\nSkipping line 16404: expected 64 fields, saw 66\\nSkipping line 16419: expected 64 fields, saw 68\\nSkipping line 16420: expected 64 fields, saw 74\\nSkipping line 16421: expected 64 fields, saw 66\\nSkipping line 16423: expected 64 fields, saw 68\\nSkipping line 16425: expected 64 fields, saw 79\\nSkipping line 16429: expected 64 fields, saw 68\\nSkipping line 16441: expected 64 fields, saw 66\\nSkipping line 16443: expected 64 fields, saw 68\\nSkipping line 16455: expected 64 fields, saw 66\\nSkipping line 16457: expected 64 fields, saw 75\\nSkipping line 16484: expected 64 fields, saw 66\\nSkipping line 16488: expected 64 fields, saw 71\\nSkipping line 16490: expected 64 fields, saw 69\\nSkipping line 16496: expected 64 fields, saw 71\\nSkipping line 16497: expected 64 fields, saw 66\\nSkipping line 16498: expected 64 fields, saw 69\\nSkipping line 16500: expected 64 fields, saw 66\\nSkipping line 16501: expected 64 fields, saw 65\\nSkipping line 16519: expected 64 fields, saw 70\\nSkipping line 16520: expected 64 fields, saw 68\\nSkipping line 16527: expected 64 fields, saw 66\\nSkipping line 16529: expected 64 fields, saw 66\\nSkipping line 16532: expected 64 fields, saw 65\\nSkipping line 16537: expected 64 fields, saw 69\\nSkipping line 16553: expected 64 fields, saw 68\\nSkipping line 16558: expected 64 fields, saw 70\\nSkipping line 16560: expected 64 fields, saw 65\\nSkipping line 16563: expected 64 fields, saw 65\\nSkipping line 16567: expected 64 fields, saw 70\\nSkipping line 16572: expected 64 fields, saw 66\\nSkipping line 16573: expected 64 fields, saw 77\\n'\n",
            "100%|██████████| 7/7 [00:05<00:00,  1.21it/s, loss=7.45]\n",
            "100%|██████████| 7/7 [00:05<00:00,  1.24it/s, loss=0.868]\n",
            "100%|██████████| 7/7 [00:05<00:00,  1.23it/s, loss=0.801]\n",
            "100%|██████████| 7/7 [00:05<00:00,  1.22it/s, loss=0.713]\n",
            "100%|██████████| 7/7 [00:05<00:00,  1.21it/s, loss=0.646]\n"
          ],
          "name": "stderr"
        }
      ]
    },
    {
      "cell_type": "code",
      "metadata": {
        "id": "3846RM-R7Hgo"
      },
      "source": [
        "def generate_text(input_text,device = 'cuda',max_len = 300):\n",
        "  pad_tok = tokenizer.encode(['<|pad|>'])[0]\n",
        "  model.load_state_dict(torch.load(model_path))\n",
        "  model.to(device)\n",
        "  model.eval()\n",
        "\n",
        "  input_ids = tokenizer.encode(input_text)\n",
        "  mask = [1]*len(input_ids)\n",
        "\n",
        "  padding_len = max_seq_len - len(input_ids)\n",
        "  \n",
        "  input_ids = input_ids \n",
        "  mask = mask + [0]*padding_len\n",
        "\n",
        "  ids = torch.tensor(input_ids,dtype = torch.long).to(device).unsqueeze(0)\n",
        "  mask = torch.tensor(mask,dtype = torch.long).to(device).unsqueeze(0)\n",
        "  \n",
        "  sample_out = model.generate(ids, min_length = 30,max_length=max_len, pad_token_id=pad_tok,\n",
        "                              top_p=0.85, early_stopping=True, do_sample=True, num_beams = 5, no_repeat_ngram_size = 2,num_return_sequences=1)\n",
        "  \n",
        "  print(tokenizer.decode(sample_out[0],skip_special_tokens = True))"
      ],
      "execution_count": 10,
      "outputs": []
    },
    {
      "cell_type": "code",
      "metadata": {
        "id": "aiEt47u4T0c9",
        "colab": {
          "base_uri": "https://localhost:8080/"
        },
        "outputId": "3c20a361-40d6-483e-e2e6-d64954ef41f6"
      },
      "source": [
        "generate_text('After a long time',device = 'cuda')"
      ],
      "execution_count": 25,
      "outputs": [
        {
          "output_type": "stream",
          "text": [
            "Generated Text:\n",
            "\n",
            " After a long time, he decides to become a master swordsman in his own right. He is able to use his skills to protect his friends and protect them from the forces of evil.\n"
          ],
          "name": "stdout"
        }
      ]
    },
    {
      "cell_type": "code",
      "metadata": {
        "id": "PXRyjMSUXkB3"
      },
      "source": [
        ""
      ],
      "execution_count": null,
      "outputs": []
    }
  ]
}